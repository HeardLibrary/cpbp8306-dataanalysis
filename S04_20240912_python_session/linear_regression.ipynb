{
  "nbformat": 4,
  "nbformat_minor": 0,
  "metadata": {
    "colab": {
      "provenance": []
    },
    "kernelspec": {
      "name": "python3",
      "display_name": "Python 3"
    },
    "language_info": {
      "name": "python"
    }
  },
  "cells": [
    {
      "cell_type": "markdown",
      "source": [
        "Linear regression is one of the simplest and most widely used machine learning algorithms. It aims to model the relationship between a dependent variable (target) and one or more independent variables (features) by fitting a linear equation to observed data. In this example, we'll use `scikit-learn` to perform a simple linear regression."
      ],
      "metadata": {
        "id": "xu-1M2182i3f"
      }
    },
    {
      "cell_type": "markdown",
      "source": [
        "# Importing necessary libraries"
      ],
      "metadata": {
        "id": "e7dmTRGq3Hdn"
      }
    },
    {
      "cell_type": "markdown",
      "source": [
        "To begin, we need to import the necessary libraries. We'll use `scikit-learn` for the linear regression model, `numpy` to generate some synthetic data, and `matplotlib` to visualize the results."
      ],
      "metadata": {
        "id": "hR64FUeN2pC5"
      }
    },
    {
      "cell_type": "code",
      "execution_count": null,
      "metadata": {
        "id": "cAfaAS402XIL"
      },
      "outputs": [],
      "source": [
        "import numpy as np\n",
        "import matplotlib.pyplot as plt\n",
        "from sklearn.linear_model import LinearRegression\n",
        "from sklearn.model_selection import train_test_split\n",
        "from sklearn.metrics import mean_squared_error"
      ]
    },
    {
      "cell_type": "markdown",
      "source": [
        "In this example, we import `LinearRegression` from `sklearn.linear_model` to build the regression model. We also import `train_test_split` to split our dataset into training and testing sets, and `mean_squared_error` to evaluate the model."
      ],
      "metadata": {
        "id": "iQO5eReW25t5"
      }
    },
    {
      "cell_type": "markdown",
      "source": [
        "# Generating synthetic data"
      ],
      "metadata": {
        "id": "DkVbnLsG3K4G"
      }
    },
    {
      "cell_type": "markdown",
      "source": [
        "Next, let's create a synthetic dataset. We'll generate a simple linear relationship between `X` (the independent variable) and `y` (the dependent variable) and add some noise to simulate real-world data."
      ],
      "metadata": {
        "id": "8gJ4dZ2L3M3w"
      }
    },
    {
      "cell_type": "code",
      "source": [
        "# Generate random data\n",
        "np.random.seed(42)\n",
        "X = 2 * np.random.rand(100, 1)\n",
        "y = 4 + 3 * X + np.random.randn(100, 1)  # y = 4 + 3X + noise\n",
        "\n",
        "# Plot the data\n",
        "plt.scatter(X, y)\n",
        "plt.title(\"Synthetic Data for Linear Regression\")\n",
        "plt.xlabel(\"X\")\n",
        "plt.ylabel(\"y\")\n",
        "plt.show()"
      ],
      "metadata": {
        "id": "N5CjlDWl3SeG"
      },
      "execution_count": null,
      "outputs": []
    },
    {
      "cell_type": "markdown",
      "source": [
        "Here, we use `numpy` to create an array `X` of 100 random points between 0 and 2. The corresponding `y` values are generated using the linear equation\n",
        "𝑦\n",
        "=\n",
        "4\n",
        "+\n",
        "3\n",
        "𝑋\n",
        " with some added noise. The scatter plot gives us a visual representation of the data we'll use for our regression model."
      ],
      "metadata": {
        "id": "G0DVVerB3oO8"
      }
    },
    {
      "cell_type": "markdown",
      "source": [
        "# Splitting the data into training and testing sets"
      ],
      "metadata": {
        "id": "5449nINb3-oa"
      }
    },
    {
      "cell_type": "markdown",
      "source": [
        "Before training the model, it's important to split the dataset into training and testing sets. This allows us to evaluate the model on data it hasn't seen during training, providing a more realistic assessment of its performance."
      ],
      "metadata": {
        "id": "O8Oqbzbz4Cfd"
      }
    },
    {
      "cell_type": "code",
      "source": [
        "# Split the data into training and testing sets\n",
        "X_train, X_test, y_train, y_test = train_test_split(X, y, test_size=0.2, random_state=42)"
      ],
      "metadata": {
        "id": "Zl3IvPp94EjV"
      },
      "execution_count": null,
      "outputs": []
    },
    {
      "cell_type": "markdown",
      "source": [
        "Using `train_test_split`, we split the data into 80% training data and 20% testing data. This helps prevent overfitting and ensures that our model generalizes well to unseen data."
      ],
      "metadata": {
        "id": "BHpL-hpi4Gdd"
      }
    },
    {
      "cell_type": "markdown",
      "source": [
        "# Training the linear regression model"
      ],
      "metadata": {
        "id": "7f2hjn2t4Kev"
      }
    },
    {
      "cell_type": "markdown",
      "source": [
        "Now that we have our data ready, we can train the linear regression model using the training set. The model will attempt to learn the linear relationship between `X_train` and `y_train`."
      ],
      "metadata": {
        "id": "28wZ6hrp4M0k"
      }
    },
    {
      "cell_type": "code",
      "source": [
        "# Create and train the linear regression model\n",
        "model = LinearRegression()\n",
        "model.fit(X_train, y_train)"
      ],
      "metadata": {
        "id": "Dp8g1iWF4RVl"
      },
      "execution_count": null,
      "outputs": []
    },
    {
      "cell_type": "markdown",
      "source": [
        "We initialize the `LinearRegression` model and use the `fit()` method to train it on the training data. The model will compute the optimal values for the slope (coefficient) and intercept based on the training data."
      ],
      "metadata": {
        "id": "sysO5aOI4Sh-"
      }
    },
    {
      "cell_type": "markdown",
      "source": [
        "# Making predictions on the test set"
      ],
      "metadata": {
        "id": "hrxIHKyt4XCa"
      }
    },
    {
      "cell_type": "markdown",
      "source": [
        "Once the model is trained, we can use it to make predictions on the test set. This will allow us to see how well the model performs on new, unseen data."
      ],
      "metadata": {
        "id": "aVxVkf3V4ZtU"
      }
    },
    {
      "cell_type": "code",
      "source": [
        "# Make predictions on the test set\n",
        "y_pred = model.predict(X_test)"
      ],
      "metadata": {
        "id": "83qZwuvM4bfG"
      },
      "execution_count": null,
      "outputs": []
    },
    {
      "cell_type": "markdown",
      "source": [
        "Here, we use the `predict()` method to generate predictions on the test data (`X_test`). These predictions will be compared to the actual values (`y_test`) to evaluate the model's accuracy."
      ],
      "metadata": {
        "id": "-4WG8KO94dPn"
      }
    },
    {
      "cell_type": "markdown",
      "source": [
        "# Evaluating the model's performance"
      ],
      "metadata": {
        "id": "k0q5k1_r4i7j"
      }
    },
    {
      "cell_type": "markdown",
      "source": [
        "To assess the quality of our linear regression model, we'll compute the mean squared error (MSE) on the test set. This metric measures how close the predicted values are to the actual values, with a lower MSE indicating better performance."
      ],
      "metadata": {
        "id": "Vn8juPAE4lcz"
      }
    },
    {
      "cell_type": "code",
      "source": [
        "# Evaluate the model's performance\n",
        "mse = mean_squared_error(y_test, y_pred)\n",
        "print(f\"Mean Squared Error: {mse:.2f}\")"
      ],
      "metadata": {
        "id": "uSMPXw4M4nRH"
      },
      "execution_count": null,
      "outputs": []
    },
    {
      "cell_type": "markdown",
      "source": [
        "The `mean_squared_error()` function computes the average of the squared differences between the predicted and actual values. This gives us an indication of how well the model has captured the underlying relationship in the data."
      ],
      "metadata": {
        "id": "vOdCDuz04ptP"
      }
    },
    {
      "cell_type": "markdown",
      "source": [
        "# Visualizing the model's predictions"
      ],
      "metadata": {
        "id": "RFoe34X84tZ1"
      }
    },
    {
      "cell_type": "markdown",
      "source": [
        "Finally, we can visualize the model’s predictions by plotting the regression line along with the original data points. This helps us see how well the model fits the data."
      ],
      "metadata": {
        "id": "EAKEQUvn4wIa"
      }
    },
    {
      "cell_type": "code",
      "source": [
        "# Plot the regression line and the test data\n",
        "plt.scatter(X_test, y_test, label=\"Test data\")\n",
        "plt.plot(X_test, y_pred, color='red', label=\"Regression line\")\n",
        "plt.title(\"Linear Regression: Test Data vs Predictions\")\n",
        "plt.xlabel(\"X\")\n",
        "plt.ylabel(\"y\")\n",
        "plt.legend()\n",
        "plt.show()"
      ],
      "metadata": {
        "id": "cSswQeQ14yK8"
      },
      "execution_count": null,
      "outputs": []
    },
    {
      "cell_type": "markdown",
      "source": [
        "In this plot, the blue points represent the actual test data, while the red line represents the model's predictions. Ideally, the regression line should follow the trend of the test data, showing that the model has learned the underlying relationship."
      ],
      "metadata": {
        "id": "f0mvYr3H4zYW"
      }
    },
    {
      "cell_type": "markdown",
      "source": [
        "# Summary"
      ],
      "metadata": {
        "id": "fHS6H4Xe41cx"
      }
    },
    {
      "cell_type": "markdown",
      "source": [
        "In this example, we walked through the process of building a simple linear regression model using `scikit-learn`. We started by generating synthetic data, split it into training and testing sets, and trained a linear regression model. We then evaluated the model's performance using mean squared error and visualized the results. Linear regression is a foundational algorithm that introduces key concepts such as training/testing splits, model fitting, and performance evaluation, which are central to machine learning.\n"
      ],
      "metadata": {
        "id": "b0wAnBPh42zM"
      }
    }
  ]
}