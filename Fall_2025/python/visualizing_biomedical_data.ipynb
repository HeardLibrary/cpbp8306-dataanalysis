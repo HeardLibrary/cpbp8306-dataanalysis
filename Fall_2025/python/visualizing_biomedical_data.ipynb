{
  "cells": [
    {
      "cell_type": "markdown",
      "id": "2c7908d6",
      "metadata": {
        "id": "2c7908d6"
      },
      "source": [
        "# 📊 Visualizing Biomedical Data in Python\n",
        "This short notebook introduces basic data visualization techniques using `pandas`, `seaborn`, and `matplotlib`. The dataset includes simulated gene expression data across several tissue types and experimental conditions."
      ]
    },
    {
      "cell_type": "markdown",
      "id": "b3c20829",
      "metadata": {
        "id": "b3c20829"
      },
      "source": [
        "## 🔧 Setup"
      ]
    },
    {
      "cell_type": "code",
      "execution_count": null,
      "id": "7c47b8ca",
      "metadata": {
        "id": "7c47b8ca"
      },
      "outputs": [],
      "source": [
        "# Install required packages (uncomment if needed)\n",
        "# !pip install pandas seaborn matplotlib\n",
        "\n",
        "import pandas as pd\n",
        "import seaborn as sns\n",
        "import matplotlib.pyplot as plt\n",
        "\n",
        "# Set seaborn style\n",
        "sns.set(style=\"whitegrid\")"
      ]
    },
    {
      "cell_type": "markdown",
      "id": "d24cfddd",
      "metadata": {
        "id": "d24cfddd"
      },
      "source": [
        "## 📁 Load the Data"
      ]
    },
    {
      "cell_type": "code",
      "execution_count": null,
      "id": "a46197a5",
      "metadata": {
        "id": "a46197a5"
      },
      "outputs": [],
      "source": [
        "# Simulate some gene expression data\n",
        "import numpy as np\n",
        "\n",
        "np.random.seed(42)\n",
        "\n",
        "genes = ['TP53', 'EGFR', 'BRCA1', 'MYC', 'PTEN']\n",
        "tissues = ['Liver', 'Lung', 'Breast', 'Brain']\n",
        "conditions = ['Control', 'Treated']\n",
        "\n",
        "data = []\n",
        "for gene in genes:\n",
        "    for tissue in tissues:\n",
        "        for condition in conditions:\n",
        "            for rep in range(10):  # 10 replicates\n",
        "                expression = np.random.normal(loc=10 if condition == 'Control' else 12, scale=2)\n",
        "                data.append([gene, tissue, condition, expression])\n",
        "\n",
        "df = pd.DataFrame(data, columns=['Gene', 'Tissue', 'Condition', 'Expression'])\n",
        "df.head()"
      ]
    },
    {
      "cell_type": "markdown",
      "id": "77c36ee2",
      "metadata": {
        "id": "77c36ee2"
      },
      "source": [
        "## 📈 Boxplot: Expression by Condition"
      ]
    },
    {
      "cell_type": "code",
      "execution_count": null,
      "id": "5c01bf60",
      "metadata": {
        "id": "5c01bf60"
      },
      "outputs": [],
      "source": [
        "plt.figure(figsize=(8, 6))\n",
        "sns.boxplot(data=df, x='Condition', y='Expression', palette='Set2')\n",
        "plt.title(\"Gene Expression by Condition\")\n",
        "plt.show()"
      ]
    },
    {
      "cell_type": "markdown",
      "id": "3eb66be4",
      "metadata": {
        "id": "3eb66be4"
      },
      "source": [
        "## 📉 Violin Plot: Expression by Gene and Condition"
      ]
    },
    {
      "cell_type": "code",
      "execution_count": null,
      "id": "338ae94e",
      "metadata": {
        "id": "338ae94e"
      },
      "outputs": [],
      "source": [
        "plt.figure(figsize=(10, 6))\n",
        "sns.violinplot(data=df, x='Gene', y='Expression', hue='Condition', split=True, palette='muted')\n",
        "plt.title(\"Distribution of Expression Across Genes\")\n",
        "plt.show()"
      ]
    },
    {
      "cell_type": "markdown",
      "id": "16369571",
      "metadata": {
        "id": "16369571"
      },
      "source": [
        "## 🔬 Tissue-Specific Comparison: Expression of TP53"
      ]
    },
    {
      "cell_type": "code",
      "execution_count": null,
      "id": "f0c33a1c",
      "metadata": {
        "id": "f0c33a1c"
      },
      "outputs": [],
      "source": [
        "tp53_data = df[df['Gene'] == 'TP53']\n",
        "\n",
        "plt.figure(figsize=(8, 6))\n",
        "sns.barplot(data=tp53_data, x='Tissue', y='Expression', hue='Condition', ci='sd', palette='pastel')\n",
        "plt.title(\"TP53 Expression by Tissue and Condition\")\n",
        "plt.ylabel(\"Mean Expression (± SD)\")\n",
        "plt.show()"
      ]
    },
    {
      "cell_type": "markdown",
      "id": "99bd284c",
      "metadata": {
        "id": "99bd284c"
      },
      "source": [
        "## 🧠 Optional: Pairplot for Multivariate Exploration"
      ]
    },
    {
      "cell_type": "code",
      "execution_count": null,
      "id": "ff3cd512",
      "metadata": {
        "id": "ff3cd512"
      },
      "outputs": [],
      "source": [
        "# Pivot the data to show multivariate comparison (only for 1 tissue and 1 condition for clarity)\n",
        "subset = df[(df['Tissue'] == 'Lung') & (df['Condition'] == 'Treated')]\n",
        "pivoted = subset.pivot_table(index=subset.index, columns='Gene', values='Expression')\n",
        "\n",
        "sns.pairplot(pivoted)\n",
        "plt.suptitle(\"Pairwise Gene Expression Comparison (Lung, Treated)\", y=1.02)\n",
        "plt.show()"
      ]
    },
    {
      "cell_type": "markdown",
      "id": "337c39e2",
      "metadata": {
        "id": "337c39e2"
      },
      "source": [
        "## 📝 Practice Exercise\n",
        "Use `seaborn` to create your own plot:\n",
        "1. Choose a different gene.\n",
        "2. Plot its expression across tissues, separated by condition.\n",
        "3. Use either a `boxplot`, `barplot`, or `stripplot`."
      ]
    }
  ],
  "metadata": {
    "colab": {
      "provenance": []
    }
  },
  "nbformat": 4,
  "nbformat_minor": 5
}