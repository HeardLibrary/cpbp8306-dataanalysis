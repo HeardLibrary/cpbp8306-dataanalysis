{
  "nbformat": 4,
  "nbformat_minor": 0,
  "metadata": {
    "colab": {
      "provenance": []
    },
    "kernelspec": {
      "name": "python3",
      "display_name": "Python 3"
    },
    "language_info": {
      "name": "python"
    }
  },
  "cells": [
    {
      "cell_type": "markdown",
      "source": [
        "# If statements"
      ],
      "metadata": {
        "id": "RkHT5Ojuhzit"
      }
    },
    {
      "cell_type": "markdown",
      "source": [
        "In Python, **conditional statements** allow us to make decisions in our code based on certain conditions.\n",
        "\n",
        "The `if` **statement** is the simplest form of decision-making in Python. It checks a condition and executes a block of code if that condition is true. You can also test multiple conditions using `elif` (else if), and provide a fallback action with `else`. Additionally, Python allows you to skip certain conditions using `pass`, which can be helpful when dealing with incomplete or non-critical data.\n",
        "\n",
        "This series of examples are designed to help you apply basic Python control structures - let's get started!"
      ],
      "metadata": {
        "id": "ntIxoZayh_hM"
      }
    },
    {
      "cell_type": "markdown",
      "source": [
        "## Basic `if` statement"
      ],
      "metadata": {
        "id": "CkYujZ_hifcb"
      }
    },
    {
      "cell_type": "markdown",
      "source": [
        "Let's say we're studying the activity of an enzyme, which operates optimally at temperatures above 37°C."
      ],
      "metadata": {
        "id": "btSWiSlUiib8"
      }
    },
    {
      "cell_type": "code",
      "execution_count": null,
      "metadata": {
        "id": "F-rfRLmvhy2m"
      },
      "outputs": [],
      "source": [
        "# Basic if statement example\n",
        "temperature = 38  # in degrees Celsius\n",
        "\n",
        "if temperature > 37:\n",
        "    print(\"The enzyme is active!\")"
      ]
    },
    {
      "cell_type": "markdown",
      "source": [
        "The enzyme operates above 37°C. If the condition (`temperature > 37`) is true, the message \"The enzyme is active!\" will be printed."
      ],
      "metadata": {
        "id": "wMnfxffqio0R"
      }
    },
    {
      "cell_type": "markdown",
      "source": [
        "## `if-else` statement"
      ],
      "metadata": {
        "id": "SVkyod_OislB"
      }
    },
    {
      "cell_type": "markdown",
      "source": [
        "We may also want to test if the enzyme is inactive below a certain threshold, and handle both cases."
      ],
      "metadata": {
        "id": "H61pTrmEivuE"
      }
    },
    {
      "cell_type": "code",
      "source": [
        "# if-else example\n",
        "temperature = 35  # in degrees Celsius\n",
        "\n",
        "if temperature > 37:\n",
        "    print(\"The enzyme is active!\")\n",
        "else:\n",
        "    print(\"The enzyme is inactive.\")"
      ],
      "metadata": {
        "id": "mB0OU5eCixn7"
      },
      "execution_count": null,
      "outputs": []
    },
    {
      "cell_type": "markdown",
      "source": [
        "If the condition is false (`temperature <= 37`), the `else` block is executed, indicating the enzyme is inactive."
      ],
      "metadata": {
        "id": "Ud40RuTYizJm"
      }
    },
    {
      "cell_type": "markdown",
      "source": [
        "## `if-elif-else` chain"
      ],
      "metadata": {
        "id": "_lHpCuRBi2vl"
      }
    },
    {
      "cell_type": "markdown",
      "source": [
        "Now, suppose we want to categorize different temperature ranges into \"optimal\", \"suboptimal\", and \"inactive\" for the enzyme's activity:"
      ],
      "metadata": {
        "id": "3j3_0aKdi585"
      }
    },
    {
      "cell_type": "code",
      "source": [
        "# if-elif-else example\n",
        "temperature = 25  # in degrees Celsius\n",
        "\n",
        "if temperature > 37:\n",
        "    print(\"The enzyme is highly active!\")\n",
        "elif 25 <= temperature <= 37:\n",
        "    print(\"The enzyme is moderately active.\")\n",
        "else:\n",
        "    print(\"The enzyme is inactive.\")"
      ],
      "metadata": {
        "id": "n9LZn1ZBi885"
      },
      "execution_count": null,
      "outputs": []
    },
    {
      "cell_type": "markdown",
      "source": [
        "This example checks three possible conditions: highly active, moderately active, or inactive enzyme states, depending on the temperature."
      ],
      "metadata": {
        "id": "eWG8qjBcjAGx"
      }
    },
    {
      "cell_type": "markdown",
      "source": [
        "## Skipping conditions using `pass`"
      ],
      "metadata": {
        "id": "wY_EOD5kjCMj"
      }
    },
    {
      "cell_type": "markdown",
      "source": [
        "Let's say we are processing blood test results, but we want to ignore certain cases where the hemoglobin levels are not critical."
      ],
      "metadata": {
        "id": "Cx-4_vlKjFcM"
      }
    },
    {
      "cell_type": "code",
      "source": [
        "# Using pass to skip a condition\n",
        "hemoglobin = 13  # g/dL\n",
        "\n",
        "if hemoglobin < 10:\n",
        "    print(\"Anemia detected.\")\n",
        "elif 10 <= hemoglobin < 12:\n",
        "    pass  # Ignore these cases for now\n",
        "else:\n",
        "    print(\"Normal hemoglobin levels.\")"
      ],
      "metadata": {
        "id": "MgmEMPugjJIc"
      },
      "execution_count": null,
      "outputs": []
    },
    {
      "cell_type": "markdown",
      "source": [
        "In this example, hemoglobin levels between 10 and 12 are ignored (`using pass`), but critical levels (<10) or normal levels are flagged."
      ],
      "metadata": {
        "id": "6KG4t09ZjM7p"
      }
    },
    {
      "cell_type": "markdown",
      "source": [
        "## Nested `if` statements"
      ],
      "metadata": {
        "id": "nUVwKsKCjSxN"
      }
    },
    {
      "cell_type": "markdown",
      "source": [
        "Sometimes we need to evaluate multiple conditions at once. Let's say we want to check the expression level of a particular gene at a certain temperature, and only if the gene expression is elevated do we check the temperature."
      ],
      "metadata": {
        "id": "y5Swh0fijWJf"
      }
    },
    {
      "cell_type": "code",
      "source": [
        "# Nested if example\n",
        "gene_expression = 150  # arbitrary expression level units\n",
        "temperature = 39  # in degrees Celsius\n",
        "\n",
        "if gene_expression > 100:\n",
        "    print(\"Gene is highly expressed.\")\n",
        "    if temperature > 37:\n",
        "        print(\"And the enzyme is highly active at this temperature.\")\n",
        "    else:\n",
        "        print(\"But the enzyme is inactive due to low temperature.\")\n",
        "else:\n",
        "    print(\"Gene expression is low.\")"
      ],
      "metadata": {
        "id": "5JLb4N60jZOq"
      },
      "execution_count": null,
      "outputs": []
    },
    {
      "cell_type": "markdown",
      "source": [
        "First, we check the gene expression levels. If the expression is high, we then check the temperature to assess enzyme activity. If gene expression is low, the temperature check is skipped."
      ],
      "metadata": {
        "id": "irlDfB7Ejbti"
      }
    },
    {
      "cell_type": "markdown",
      "source": [
        "## Summary"
      ],
      "metadata": {
        "id": "EqeJuYBjjfzM"
      }
    },
    {
      "cell_type": "markdown",
      "source": [
        "*   `if` **condition**: Evaluates a condition (e.g., enzyme activity or gene expression) and runs the block if true.\n",
        "*   `elif`: Optional, allows for checking additional conditions (e.g., moderate vs high activity).\n",
        "*   `else`: Optional, runs if none of the previous conditions are true.\n",
        "*   `pass`: Skips specific conditions when no action is required.\n",
        "*   **Only one** `else`: You can only have one else block at the end of the chain.\n",
        "*   **Order matters**: Conditions are checked in order, and only the first true condition’s block will execute."
      ],
      "metadata": {
        "id": "w9zmtMR0jikR"
      }
    },
    {
      "cell_type": "markdown",
      "source": [
        "# Loops"
      ],
      "metadata": {
        "id": "uF2OaZoUk9cY"
      }
    },
    {
      "cell_type": "markdown",
      "source": [
        "In programming, loops allow us to repeat a block of code multiple times, making it easier to work with repetitive tasks.\n",
        "\n",
        "Python has two main types of loops:\n",
        "\n",
        "1.   `for` **loops**: Used to iterate over a sequence (such as a list, tuple, or string).\n",
        "2.   `while` **loops**: Used when we want to repeat an action until a certain condition is met.\n",
        "\n",
        "In this section, we'll explore both types of loops and cover how to control loops with keywords like `break`, `continue`, and `pass`."
      ],
      "metadata": {
        "id": "kBNzuxx-k_IG"
      }
    },
    {
      "cell_type": "markdown",
      "source": [
        "## Iterating through a list of gene names with a `for` loop"
      ],
      "metadata": {
        "id": "sukj2n02lbm4"
      }
    },
    {
      "cell_type": "markdown",
      "source": [
        "Let's start by using a `for` loop to iterate over a list of gene names, which could represent genes we are studying."
      ],
      "metadata": {
        "id": "qRJ0FisdlhX9"
      }
    },
    {
      "cell_type": "code",
      "source": [
        "# List of gene names\n",
        "genes = [\"BRCA1\", \"TP53\", \"EGFR\", \"MYC\"]\n",
        "\n",
        "# Using a for loop to iterate over the list\n",
        "for gene in genes:\n",
        "    print(\"Studying gene:\", gene)"
      ],
      "metadata": {
        "id": "pjh6wSQ6lk7O"
      },
      "execution_count": null,
      "outputs": []
    },
    {
      "cell_type": "markdown",
      "source": [
        "The `for` loop goes through each gene in the list one by one and prints a statement. This is useful when we need to process or analyze each gene in a dataset."
      ],
      "metadata": {
        "id": "D_6sG6CWlnNL"
      }
    },
    {
      "cell_type": "markdown",
      "source": [
        "## Counting nucleotides in a DNA sequence with a `for` loop"
      ],
      "metadata": {
        "id": "s5r0sTDdlqqW"
      }
    },
    {
      "cell_type": "markdown",
      "source": [
        "Next, let's write a `for` loop to count the number of occurrences of each nucleotide (A, T, C, G) in a DNA sequence."
      ],
      "metadata": {
        "id": "BIfITXY9lwB4"
      }
    },
    {
      "cell_type": "code",
      "source": [
        "# DNA sequence\n",
        "dna_sequence = \"GTGCTAGCCTGA\"\n",
        "\n",
        "# Initialize a dictionary to store nucleotide counts\n",
        "nucleotide_counts = {\"A\": 0, \"T\": 0, \"C\": 0, \"G\": 0}\n",
        "\n",
        "# Iterate through the DNA sequence and count each nucleotide\n",
        "for nucleotide in dna_sequence:\n",
        "  if nucleotide in nucleotide_counts:\n",
        "    nucleotide_counts[nucleotide] += 1\n",
        "\n",
        "print(\"Nucleotide counts:\", nucleotide_counts)"
      ],
      "metadata": {
        "id": "I45Qj7QSlzZi"
      },
      "execution_count": null,
      "outputs": []
    },
    {
      "cell_type": "markdown",
      "source": [
        "First, we initialize a dictionary to store the count of each nucleotide, then the `for` loop goes through the DNA sequence character by character, updating the count for each nucleotide."
      ],
      "metadata": {
        "id": "f6oyXDoDl3Ff"
      }
    },
    {
      "cell_type": "markdown",
      "source": [
        "## Checking sequence alignment with a `for` loop"
      ],
      "metadata": {
        "id": "WDcjRcXll-ZT"
      }
    },
    {
      "cell_type": "markdown",
      "source": [
        "In this example, we'll compare two DNA sequences of equal length and print whether each position is a match or mismatch."
      ],
      "metadata": {
        "id": "uUpQh-E4mFv1"
      }
    },
    {
      "cell_type": "code",
      "source": [
        "# Two DNA sequences of the same length\n",
        "sequence_1 = \"ATGCTA\"\n",
        "sequence_2 = \"ATGCGT\"\n",
        "\n",
        "# Iterate through both sequences and compare nucleotides at each position\n",
        "for i in range(len(sequence_1)):\n",
        "    if sequence_1[i] == sequence_2[i]:\n",
        "        print(f\"Position {i+1}: Match ({sequence_1[i]})\")\n",
        "    else:\n",
        "        print(f\"Position {i+1}: Mismatch ({sequence_1[i]} vs {sequence_2[i]})\")"
      ],
      "metadata": {
        "id": "n_hh4XwZmJed"
      },
      "execution_count": null,
      "outputs": []
    },
    {
      "cell_type": "markdown",
      "source": [
        "*   We use a `for` loop to iterate through both sequences simultaneously by index.\n",
        "*   For each position, we check whether the nucleotides match and print the result.\n",
        "*   This simple form of sequence alignment can be extended to more complex tasks in bioinformatics."
      ],
      "metadata": {
        "id": "4lUmt-8xmN-c"
      }
    },
    {
      "cell_type": "markdown",
      "source": [
        "## Using a `while` loop to monitor gene expression levels"
      ],
      "metadata": {
        "id": "7aUYMC7kmYJH"
      }
    },
    {
      "cell_type": "markdown",
      "source": [
        "A `while` loop runs as long as a specified condition is true. Let' say we are monitoring gene expression levels, and we want to keep running an experiment until the expression reaches a certain threshold."
      ],
      "metadata": {
        "id": "GEeQaF55mcT3"
      }
    },
    {
      "cell_type": "code",
      "source": [
        "# Starting gene expression level\n",
        "gene_expression = 0\n",
        "\n",
        "# Target expression level\n",
        "target_expression = 100\n",
        "\n",
        "# Simulating gene expression growth\n",
        "while gene_expression < target_expression:\n",
        "    gene_expression += 20  # Incrementing expression\n",
        "    print(\"Current gene expression:\", gene_expression)\n",
        "\n",
        "print(\"Target expression reached!\")"
      ],
      "metadata": {
        "id": "PMrs5NJzmfYm"
      },
      "execution_count": null,
      "outputs": []
    },
    {
      "cell_type": "markdown",
      "source": [
        "The `while` loop continues to execute as long as the `gene_expression` is below the target. Each loop iteration increases the expression level until the target is met."
      ],
      "metadata": {
        "id": "Y8lFH5PNmiqT"
      }
    },
    {
      "cell_type": "markdown",
      "source": [
        "## `Break`ing out of a loop"
      ],
      "metadata": {
        "id": "h0Pgin4gmqJv"
      }
    },
    {
      "cell_type": "markdown",
      "source": [
        "Sometimes we want to stop a loop early when a condition is met. Let's simulate an experiment where we want to stop monitoring gene expression as soon as it reaches or exceeds 90 units."
      ],
      "metadata": {
        "id": "c5qMUiASmtNg"
      }
    },
    {
      "cell_type": "markdown",
      "source": [
        "The `break` keyword is used to exit the loop once the expression reaches or exceeds 90, even though the loop's condition allows it to continue up to 100."
      ],
      "metadata": {
        "id": "jNZ9gK2CmxNJ"
      }
    },
    {
      "cell_type": "code",
      "source": [
        "# Starting gene expression level\n",
        "gene_expression = 0\n",
        "\n",
        "# Break the loop if expression reaches 90\n",
        "while True:\n",
        "    gene_expression += 10\n",
        "    print(\"Gene expression:\", gene_expression)\n",
        "\n",
        "    if gene_expression >= 90:\n",
        "        print(\"Expression level high enough, stopping experiment.\")\n",
        "        break  # Exit the loop when expression reaches 90"
      ],
      "metadata": {
        "id": "nuRFryENm4cL"
      },
      "execution_count": null,
      "outputs": []
    },
    {
      "cell_type": "markdown",
      "source": [
        "## Summary"
      ],
      "metadata": {
        "id": "xAK_irVgm63s"
      }
    },
    {
      "cell_type": "markdown",
      "source": [
        "\n",
        "1.   `for` **loops**\n",
        "\n",
        "   *   Used to iterate over a sequence (like a list or string).\n",
        "   *   Useful for tasks like counting nucleotides, processing gene lists, and comparing DNA sequences.\n",
        "\n",
        "2.   `while` **loops**\n",
        "\n",
        "   *   Run as long as a condition is true.\n",
        "   *   Ideal for tasks like monitoring gene expression or other experimental conditions.\n",
        "\n",
        "3.   **Loop control keywords**\n",
        "\n",
        "   *   `break`: Exit a loop early if a specific condition is met.\n",
        "   *   `continue`: Skip the rest of the current iteration and move to the next one.\n",
        "   *   `pass`: Do nothing and move on."
      ],
      "metadata": {
        "id": "N5NRkAw2m-Qk"
      }
    },
    {
      "cell_type": "markdown",
      "source": [
        "Loops are essential in automating repetitive such as analyzing large datasets or running simulations over multiple conditions."
      ],
      "metadata": {
        "id": "sMyX_gwhnwdU"
      }
    },
    {
      "cell_type": "markdown",
      "source": [
        "# Exercises"
      ],
      "metadata": {
        "id": "c4Ei9Q2rpmCy"
      }
    },
    {
      "cell_type": "markdown",
      "source": [
        "## Exercise 1: Classifying blood pressure"
      ],
      "metadata": {
        "id": "W-wug7m_ppi2"
      }
    },
    {
      "cell_type": "markdown",
      "source": [
        "Write a Python program to classify a patient's blood pressure into one of three categories: \"normal,\" \"elevated,\" or \"hypertension.\" Use the systolic and diastolic values as inputs.\n",
        "\n",
        "*   Normal: Systolic < 120 and Diastolic < 80\n",
        "*   Elevated: 120 ≤ Systolic < 130 and Diastolic < 80\n",
        "*   Hypertension: Systolic ≥ 130 or Diastolic ≥ 80"
      ],
      "metadata": {
        "id": "1gwY5DlwpxK0"
      }
    },
    {
      "cell_type": "code",
      "source": [
        "# Your answer here"
      ],
      "metadata": {
        "id": "A-z3E0yfqGZW"
      },
      "execution_count": null,
      "outputs": []
    },
    {
      "cell_type": "markdown",
      "source": [
        "### Hint"
      ],
      "metadata": {
        "id": "4KI93hX4qA_l"
      }
    },
    {
      "cell_type": "markdown",
      "source": [
        "Use `if-elif-else` statements to handle the different conditions."
      ],
      "metadata": {
        "id": "2Xv8TYicqCf0"
      }
    },
    {
      "cell_type": "markdown",
      "source": [
        "### Solution"
      ],
      "metadata": {
        "id": "ziCtaVuuqIiI"
      }
    },
    {
      "cell_type": "code",
      "source": [
        "# Solution\n",
        "systolic = 1250\n",
        "diastolic = 78\n",
        "\n",
        "if systolic < 120 and diastolic < 80:\n",
        "    print(\"Normal blood pressure.\")\n",
        "elif 120 <= systolic and systolic < 130 and diastolic < 80:\n",
        "    print(\"Elevated blood pressure.\")\n",
        "else:\n",
        "    print(\"Hypertension.\")"
      ],
      "metadata": {
        "id": "7gCXlvl3qKVl"
      },
      "execution_count": null,
      "outputs": []
    },
    {
      "cell_type": "markdown",
      "source": [
        "## Exercise 2: Iterating through a gene list"
      ],
      "metadata": {
        "id": "6xv56amoqfH0"
      }
    },
    {
      "cell_type": "markdown",
      "source": [
        "Write a program that iterates through a list of gene names and prints only those with a length greater than 5 characters."
      ],
      "metadata": {
        "id": "nLhR9AFzqh1F"
      }
    },
    {
      "cell_type": "code",
      "source": [
        "# Your answer here"
      ],
      "metadata": {
        "id": "Ch_MxyJRqkbM"
      },
      "execution_count": null,
      "outputs": []
    },
    {
      "cell_type": "markdown",
      "source": [
        "### Hint"
      ],
      "metadata": {
        "id": "I9c88vNkql4h"
      }
    },
    {
      "cell_type": "markdown",
      "source": [
        "Use a `for` loop to iterate through the list and an `if` statement to check the `len`gth of each gene name."
      ],
      "metadata": {
        "id": "wyC25gsgqnQi"
      }
    },
    {
      "cell_type": "markdown",
      "source": [
        "### Solution"
      ],
      "metadata": {
        "id": "Ll7fJk6pqrwK"
      }
    },
    {
      "cell_type": "code",
      "source": [
        "# Solution\n",
        "genes = [\"BRCA1\", \"TP53\", \"MYC\", \"EGFR\", \"APC\", \"tigers\"]\n",
        "\n",
        "for gene in genes:\n",
        "    if len(gene) >= 5:\n",
        "        print(\"Gene with long name:\", gene)"
      ],
      "metadata": {
        "id": "N_Vn_qJ7qtBF"
      },
      "execution_count": null,
      "outputs": []
    },
    {
      "cell_type": "markdown",
      "source": [
        "## Exercise 3: Monitoring pH levels"
      ],
      "metadata": {
        "id": "0zdSlWyPqzD0"
      }
    },
    {
      "cell_type": "markdown",
      "source": [
        "Simulate a pH monitoring system where you start with a neutral pH of 7.0, and with each iteration of a loop the pH decreases by 0.5. Stop the loop when the pH drops below 5.0 and print \"Acidic environment detected.\""
      ],
      "metadata": {
        "id": "E4qBvS22q34n"
      }
    },
    {
      "cell_type": "code",
      "source": [
        "# Your answer here"
      ],
      "metadata": {
        "id": "dDTNkbTNrFPr"
      },
      "execution_count": null,
      "outputs": []
    },
    {
      "cell_type": "markdown",
      "source": [
        "### Hint"
      ],
      "metadata": {
        "id": "RMeRSpcmrHG9"
      }
    },
    {
      "cell_type": "markdown",
      "source": [
        "Use a `while` loop and decrement the pH value on each iteration."
      ],
      "metadata": {
        "id": "4V-UzTDZrI4s"
      }
    },
    {
      "cell_type": "markdown",
      "source": [
        "### Solution"
      ],
      "metadata": {
        "id": "Q6yY-XSjrLOy"
      }
    },
    {
      "cell_type": "code",
      "source": [
        "# Solution\n",
        "ph = 7.0\n",
        "\n",
        "while ph >= 5.0:\n",
        "    print(\"Current pH:\", ph)\n",
        "    ph -= 0.5\n",
        "\n",
        "print(\"Acidic environment detected.\")"
      ],
      "metadata": {
        "id": "JpXCWOdArMkv"
      },
      "execution_count": null,
      "outputs": []
    },
    {
      "cell_type": "markdown",
      "source": [
        "## Exercise 4: Counting nucleotides"
      ],
      "metadata": {
        "id": "O4lk_a6zrOtU"
      }
    },
    {
      "cell_type": "markdown",
      "source": [
        "Write a program to count the number of each nucleotide (A, T, C, G) in a given DNA sequence. If an unknown character is found, print \"Invalid nucleotide found\" and skip that character."
      ],
      "metadata": {
        "id": "XQ9exc4HrT4v"
      }
    },
    {
      "cell_type": "code",
      "source": [
        "# Your answer here"
      ],
      "metadata": {
        "id": "edVwjtbCrWfB"
      },
      "execution_count": null,
      "outputs": []
    },
    {
      "cell_type": "markdown",
      "source": [
        "### Hint"
      ],
      "metadata": {
        "id": "b9l6sdmfrYR0"
      }
    },
    {
      "cell_type": "markdown",
      "source": [
        "Use a `for` loop to iterate through the sequence, and an `if` statement to check the nucleotide type."
      ],
      "metadata": {
        "id": "Cr3vX48DrZno"
      }
    },
    {
      "cell_type": "markdown",
      "source": [
        "### Solution"
      ],
      "metadata": {
        "id": "vd9mm3HJrdqk"
      }
    },
    {
      "cell_type": "code",
      "source": [
        "# Solution\n",
        "dna_sequence = \"ATGCTAAGCTNTGC\"\n",
        "\n",
        "# Initialize nucleotide counts\n",
        "nucleotide_counts = {\"A\": 0, \"T\": 0, \"C\": 0, \"G\": 0}\n",
        "\n",
        "for i, nucleotide in enumerate(dna_sequence):\n",
        "    if nucleotide in nucleotide_counts:\n",
        "        nucleotide_counts[nucleotide] += 1\n",
        "    else:\n",
        "        print(\"Invalid nucleotide found:\", nucleotide, \" at position\", i)\n",
        "\n",
        "print(\"Nucleotide counts:\", nucleotide_counts)"
      ],
      "metadata": {
        "id": "YWSEOTbcre1q"
      },
      "execution_count": null,
      "outputs": []
    },
    {
      "cell_type": "markdown",
      "source": [
        "## Exercise 5: Finding matches in a DNA sequence"
      ],
      "metadata": {
        "id": "J6f-UqMvrjaH"
      }
    },
    {
      "cell_type": "markdown",
      "source": [
        "Write a program to compare two DNA sequences of the same length and print out whether each position is a match or mismatch. Keep track of how many matches and mismatches there are."
      ],
      "metadata": {
        "id": "CBAbs4JCrnCK"
      }
    },
    {
      "cell_type": "code",
      "source": [
        "# Your answer here"
      ],
      "metadata": {
        "id": "XkKKK9zWsgf8"
      },
      "execution_count": null,
      "outputs": []
    },
    {
      "cell_type": "markdown",
      "source": [
        "### Hint"
      ],
      "metadata": {
        "id": "BAfB9CresJ6f"
      }
    },
    {
      "cell_type": "markdown",
      "source": [
        "Use a `for` loop to iterate over both sequences and an `if` statement to compare characters at each position."
      ],
      "metadata": {
        "id": "seldajqpsLad"
      }
    },
    {
      "cell_type": "markdown",
      "source": [
        "### Solution"
      ],
      "metadata": {
        "id": "QEfowbb6siyP"
      }
    },
    {
      "cell_type": "code",
      "source": [
        "# Solution\n",
        "sequence_1 = \"TTGCTA\"\n",
        "sequence_2 = \"ATGCGT\"\n",
        "\n",
        "matches = 0\n",
        "mismatches = 0\n",
        "\n",
        "for i in range(len(sequence_1)):\n",
        "    if sequence_1[i] == sequence_2[i]:\n",
        "        matches += 1\n",
        "        print(f\"Position {i+1}: Match ({sequence_1[i]})\")\n",
        "    else:\n",
        "        mismatches += 1\n",
        "        print(f\"Position {i+1}: Mismatch ({sequence_1[i]} vs {sequence_2[i]})\")\n",
        "\n",
        "print(f\"Total matches: {matches}\")\n",
        "print(f\"Total mismatches: {mismatches}\")"
      ],
      "metadata": {
        "id": "I6F_CUf-skE3"
      },
      "execution_count": null,
      "outputs": []
    },
    {
      "cell_type": "markdown",
      "source": [
        "## Exercise 6: Translating RNA to protein using the genetic code"
      ],
      "metadata": {
        "id": "1XZGWENDsop1"
      }
    },
    {
      "cell_type": "markdown",
      "source": [
        "Use the genetic code table to translate an RNA sequence into an amino acid sequence. The RNA sequence is read in triplets (codons), and the translation stops if a \"stop\" codon (UAA, UAG, UGA) is encountered. Use a dictionary for the genetic code and a loop to process the RNA sequence three characters at a time."
      ],
      "metadata": {
        "id": "7bdCGHnostdG"
      }
    },
    {
      "cell_type": "code",
      "source": [
        "# Your answer here"
      ],
      "metadata": {
        "id": "TS08QuH2szPk"
      },
      "execution_count": null,
      "outputs": []
    },
    {
      "cell_type": "markdown",
      "source": [
        "### Hint"
      ],
      "metadata": {
        "id": "Enp3pHeJs1gy"
      }
    },
    {
      "cell_type": "markdown",
      "source": [
        "Use a `for` loop and the `range` function to go through the sequence in steps of 3 and an `if` statement to check for stop codons."
      ],
      "metadata": {
        "id": "nb3rZ3k3s2iP"
      }
    },
    {
      "cell_type": "markdown",
      "source": [
        "### Solution"
      ],
      "metadata": {
        "id": "I60D8DbOtB7G"
      }
    },
    {
      "cell_type": "code",
      "source": [
        "from os import RWF_NOWAIT\n",
        "# Genetic code dictionary\n",
        "genetic_code = {\n",
        "    \"AUG\": \"Methionine\", \"UUU\": \"Phenylalanine\", \"UUC\": \"Phenylalanine\",\n",
        "    \"UUA\": \"Leucine\", \"UUG\": \"Leucine\", \"UAA\": \"Stop\", \"UAG\": \"Stop\", \"UGA\": \"Stop\"\n",
        "    # Add more codons as needed\n",
        "}\n",
        "\n",
        "rna_sequence = \"AUGUUUUUAUAGA\"\n",
        "\n",
        "# Initialize an empty list to store the amino acids\n",
        "protein = []\n",
        "\n",
        "# Iterate through the RNA sequence in steps of 3 (codon size)\n",
        "for i in range(0, len(rna_sequence), 3):\n",
        "    codon = rna_sequence[i:i+3]\n",
        "\n",
        "    if len(codon) < 3:\n",
        "        break  # Stop if the last codon is incomplete\n",
        "\n",
        "    # Check if the codon is a stop codon\n",
        "    if genetic_code[codon] == \"Stop\":\n",
        "        print(\"Stop codon encountered. Translation terminated.\")\n",
        "        break\n",
        "\n",
        "    # Append the corresponding amino acid to the protein sequence\n",
        "    protein.append(genetic_code[codon])\n",
        "    print(genetic_code[codon])\n",
        "\n",
        "# Output the translated amino acid sequence\n",
        "print(\"Protein sequence:\", protein)"
      ],
      "metadata": {
        "id": "gYZTaJ2rtBiN"
      },
      "execution_count": null,
      "outputs": []
    }
  ]
}