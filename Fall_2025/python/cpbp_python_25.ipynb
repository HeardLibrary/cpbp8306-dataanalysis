{
  "cells": [
    {
      "cell_type": "markdown",
      "metadata": {
        "id": "MBrbkY5euqtY"
      },
      "source": [
        "# Introduction to Python\n",
        "\n",
        "Welcome! This notebook introduces the basics of Python programming. Python is a popular, beginner-friendly language used in data science, web development, automation, machine learning, and more.\n",
        "\n",
        "In this notebook, you'll learn how to:\n",
        "\n",
        "- Work with numbers, strings, and variables\n",
        "- Use common data structures (lists, dictionaries, tuples, and sets)\n",
        "- Write conditional statements and loops\n",
        "- Define and use functions\n",
        "- Read and write files\n",
        "\n",
        "Let's get started!"
      ]
    },
    {
      "cell_type": "code",
      "execution_count": null,
      "metadata": {
        "id": "tXN3PAymuqtj"
      },
      "outputs": [],
      "source": [
        "print('Hello, world!')"
      ]
    },
    {
      "cell_type": "markdown",
      "metadata": {
        "id": "EYUNSjqTuqtk"
      },
      "source": [
        "If you've never written computer code before, now you have!  You just instructed your Python interpreter to print out the value inside the parentheses. In this case, that value is the string 'Hello world'.  Anything within quotation marks is parsed by Python as a string. Python also recognizes numerical values, such as integers (whole numbers) and 'floats' (decimal numbers).  Try this, and see if you can predict what will happen:\n",
        "\n",
        "    print(1 + 3)\n",
        "\n",
        "    print('1 + 3')\n"
      ]
    },
    {
      "cell_type": "code",
      "execution_count": null,
      "metadata": {
        "id": "hcxwtBOnuqtk"
      },
      "outputs": [],
      "source": [
        "print(\"1 + 3\")"
      ]
    },
    {
      "cell_type": "markdown",
      "metadata": {
        "id": "fDGZyXBfuqtl"
      },
      "source": [
        "# Value types and variables"
      ]
    },
    {
      "cell_type": "markdown",
      "metadata": {
        "id": "01Iw6MLGuqtl"
      },
      "source": [
        "If you ever have a question about the what kind of value you're working with, you can check it with the *type()* function. Try this:\n",
        "\n",
        "    print(type(3))\n"
      ]
    },
    {
      "cell_type": "code",
      "execution_count": null,
      "metadata": {
        "id": "ko6-frk7uqtm"
      },
      "outputs": [],
      "source": [
        "print(type(False))"
      ]
    },
    {
      "cell_type": "markdown",
      "metadata": {
        "id": "aicE128ruqtp"
      },
      "source": [
        "In this case, you asked Python to 1) interpret the type of the value within parentheses, and 2) print the result. You're using two nested functions: print() and type().\n",
        "\n",
        "A list of additional built-in Python functions is available here: https://docs.python.org/3/library/functions.html\n",
        "\n",
        "Next, we'll learn about variables."
      ]
    },
    {
      "cell_type": "code",
      "execution_count": null,
      "metadata": {
        "id": "5f_jQkr8uqtq"
      },
      "outputs": [],
      "source": [
        "a = 'mongoose'\n",
        "\n",
        "print(a)\n",
        "\n",
        "print(type(a))"
      ]
    },
    {
      "cell_type": "markdown",
      "metadata": {
        "id": "eIQoKxK0uqtr"
      },
      "source": [
        "In Python the variable name always goes on the left side of the assignment statement (eg x = y), and the value assigned to that variable name goes on the right.\n",
        "\n",
        "You can change the values assigned to variables at any time. A new variable assignment overwrites the previous one.\n"
      ]
    },
    {
      "cell_type": "code",
      "execution_count": null,
      "metadata": {
        "id": "YP6QW3Esuqtr"
      },
      "outputs": [],
      "source": [
        "a = 'mongoose'\n",
        "\n",
        "print(a)\n",
        "\n",
        "a = 'squid'\n",
        "\n",
        "print(a)"
      ]
    },
    {
      "cell_type": "markdown",
      "metadata": {
        "id": "obO9FNZ1uqts"
      },
      "source": [
        "Python is smart about figuring out what value types it's working with and understanding what it can and can't do with those values. Try:\n"
      ]
    },
    {
      "cell_type": "code",
      "execution_count": null,
      "metadata": {
        "id": "9upZnzDjuqtw"
      },
      "outputs": [],
      "source": [
        "a = 'mongoose'\n",
        "b = 1\n",
        "c = '2'\n",
        "print(c + b)"
      ]
    },
    {
      "cell_type": "markdown",
      "metadata": {
        "id": "szsYxkD2uqtx"
      },
      "source": [
        "In the code cell above, you should see a error message - Python is letting you know that something didn't work in your code, and explaining why it broke down. In this case, you tried to add two unlike values -- the value for c, '2', is a string, not an integer -- it's in quotation marks. But you can convert the value type with another operation:\n",
        "\n",
        "\n",
        "  "
      ]
    },
    {
      "cell_type": "code",
      "execution_count": null,
      "metadata": {
        "id": "17UMK1xcuqtx"
      },
      "outputs": [],
      "source": [
        "print(b + (int(c)))"
      ]
    },
    {
      "cell_type": "markdown",
      "metadata": {
        "id": "aRa79Gp-uqtx"
      },
      "source": [
        "Here you converted the value of c, '2', from a string into an integer with the int() operation, and then b and c could be added together.\n",
        "\n",
        "Note that you have a number of nested operations in this line above: printing, addition, and value type conversion.\n",
        "\n",
        "Interestingly enough, Python can add strings together, too. This is called string concatenation, and it uses the + sign:"
      ]
    },
    {
      "cell_type": "code",
      "execution_count": null,
      "metadata": {
        "id": "YNVn7vRUuqty"
      },
      "outputs": [],
      "source": [
        "print(a + c)"
      ]
    },
    {
      "cell_type": "markdown",
      "metadata": {
        "id": "tAJVdsVtuqty"
      },
      "source": [
        "Notice there's no space added between the original strings - they're merged into a single string.  To print both values with a space between them:\n",
        "\n",
        "    "
      ]
    },
    {
      "cell_type": "code",
      "execution_count": null,
      "metadata": {
        "id": "h5iaQBzWuqty"
      },
      "outputs": [],
      "source": [
        "print(a, c)"
      ]
    },
    {
      "cell_type": "markdown",
      "metadata": {
        "id": "QD9ZOdPeuqtz"
      },
      "source": [
        "Note that the Jupyter notebook kernel \"remembers\" the values for a, b, and c between cells. You can also change the value of a variable:"
      ]
    },
    {
      "cell_type": "code",
      "execution_count": null,
      "metadata": {
        "id": "uXsZKXHouqtz"
      },
      "outputs": [],
      "source": [
        "b = 2\n",
        "\n",
        "b = b - 5\n",
        "\n",
        "print(b)"
      ]
    },
    {
      "cell_type": "markdown",
      "metadata": {
        "id": "pI1iifM3uqtz"
      },
      "source": [
        "# Boolean values"
      ]
    },
    {
      "cell_type": "markdown",
      "metadata": {
        "id": "uHHebJEjuqtz"
      },
      "source": [
        "Python also recognizes boolean operators and logical statements.\n",
        "\n",
        "When asking Python to assess the truth value (i.e. True or False) of a statement, use TWO equals signs: == .\n",
        "\n",
        "Try this, and remember that the value of *b* is the same as it was in the last code cell:"
      ]
    },
    {
      "cell_type": "code",
      "execution_count": null,
      "metadata": {
        "id": "IDysi0Inuqt0"
      },
      "outputs": [],
      "source": [
        "b == 10"
      ]
    },
    {
      "cell_type": "markdown",
      "metadata": {
        "id": "4UjiLwhiuqt0"
      },
      "source": [
        "We can also perform more complex comparison tests:"
      ]
    },
    {
      "cell_type": "code",
      "execution_count": null,
      "metadata": {
        "id": "rcrBVFWUuqt0"
      },
      "outputs": [],
      "source": [
        "if b < 0:\n",
        "\n",
        "  print('b is a negative number')"
      ]
    },
    {
      "cell_type": "markdown",
      "metadata": {
        "id": "mpwiMXCfuqt0"
      },
      "source": [
        "# If statements"
      ]
    },
    {
      "cell_type": "markdown",
      "metadata": {
        "id": "WygBxe-0uqt0"
      },
      "source": [
        "Note the syntax of the **if statement** above.  Start with 'if' in lower case, then give the expression whose truth value you're testing (in this case, b<0), and finish with a colon.  Then skip a line and indent and give the operation you want Python to run if the ifstatement is true.  The indent lets you see at a glance that the indented operation will only happen if some other condition is met.\n",
        "\n",
        "You can write longer if-statements using the terms **elif** (a contraction of else-if) and **else**. Here's an example:"
      ]
    },
    {
      "cell_type": "code",
      "execution_count": null,
      "metadata": {
        "id": "2K2fPnC8uqt1"
      },
      "outputs": [],
      "source": [
        "z = 99\n",
        "\n",
        "if z > 100:\n",
        "\n",
        "  print(\"Big number.\")\n",
        "\n",
        "elif z < 75:\n",
        "\n",
        "  print(\"Ok.\")\n",
        "\n",
        "else:\n",
        "\n",
        "  print(\"Middling.\")\n"
      ]
    },
    {
      "cell_type": "markdown",
      "metadata": {
        "id": "iVr4ggw-uqt2"
      },
      "source": [
        "# Strings\n"
      ]
    },
    {
      "cell_type": "markdown",
      "metadata": {
        "id": "E3rKN4bzuqt2"
      },
      "source": [
        "A string in Python is a **sequence** of characters enclosed by single or double quotation marks. Here are some examples of how you can treat a character string in Python as sequential data."
      ]
    },
    {
      "cell_type": "code",
      "execution_count": null,
      "metadata": {
        "id": "g79RayM6uqt3"
      },
      "outputs": [],
      "source": [
        "a = \"waterlily\"\n",
        "print(len(a))"
      ]
    },
    {
      "cell_type": "markdown",
      "metadata": {
        "id": "8s5F71_Puqt3"
      },
      "source": [
        "len() is the length function. You just asked your Python interpreter to tell you the number of elements - i.e., characters - in the sequence that is a.\n",
        "\n",
        "Python will index the elements in a sequence numerically, starting with zero. In the case of of the string 'waterlily', the element at index 0 is 'w'. Use square brackets to indicate an index reference."
      ]
    },
    {
      "cell_type": "code",
      "execution_count": null,
      "metadata": {
        "id": "fddO4Ml9uqt3"
      },
      "outputs": [],
      "source": [
        "print(a[0])\n",
        "\n",
        "print(a[4])\n",
        "\n",
        "print(a[-1])"
      ]
    },
    {
      "cell_type": "markdown",
      "metadata": {
        "id": "ZGpuykEJuqt4"
      },
      "source": [
        "Note that using an index of [-1] can be a convenient way to find the last element in a sequence.\n",
        "\n",
        "\n",
        "You can use a variation of indexing to return a \"slice\" of elements in a sequence. Indicate an index range with endpoints separated by a colon. The start index is inclusive, and the end index is exclusive. You can omit either or both to prescribe openended-ness."
      ]
    },
    {
      "cell_type": "code",
      "execution_count": null,
      "metadata": {
        "id": "qOB3uL-Suqt4"
      },
      "outputs": [],
      "source": [
        "print(a[2:5])\n",
        "\n",
        "print(a[:6])\n",
        "\n",
        "print(a[6:])\n",
        "\n",
        "print(a[:])"
      ]
    },
    {
      "cell_type": "markdown",
      "source": [
        "There are many useful built-in methods ([methods are functions that \"belong\" to an object](https://www.w3schools.com/python/gloss_python_object_methods.asp)) that you can use to work with strings. You use methods by attaching them to appropriately-typed objects with a period. For example, if you want to **replace** every instance of one character in a string with a different character, there's a method for that:"
      ],
      "metadata": {
        "id": "zLgvj1VqO0-F"
      }
    },
    {
      "cell_type": "code",
      "source": [
        "sentence = \"This_is_a_sentence_but_for_some_reason_it_has_underscores,_not_spaces.\"\n",
        "\n",
        "sentence = sentence.replace(\"_\", \"\")\n",
        "\n",
        "print(sentence)"
      ],
      "metadata": {
        "id": "68PeOYAYP6D7"
      },
      "execution_count": null,
      "outputs": []
    },
    {
      "cell_type": "markdown",
      "source": [
        "The **replace** method requires two arguments: first, the character to be replaced, and second, the character to replace it with.\n",
        "\n",
        "There's also a built-in method to search strings for the index of a sub-string (a shorter string contained inside). What if you had a big block of text and wanted to **find** something specific?\n",
        "\n",
        "The **find** method only requires one argument: the sub-string to search a larger string for. See what happens if you try to find a sub-string that doesn't appear inside the larger string..."
      ],
      "metadata": {
        "id": "q0_nXVNSQFIR"
      }
    },
    {
      "cell_type": "code",
      "source": [
        "sentence = \"Once upon a time there was a little puppy named Lainey.\"\n",
        "\n",
        "puppy = sentence.find(\"Lainey\")\n",
        "\n",
        "print(puppy)"
      ],
      "metadata": {
        "id": "vGAjaEmmRpbP"
      },
      "execution_count": null,
      "outputs": []
    },
    {
      "cell_type": "markdown",
      "source": [
        "Or what if you wanted to **split** a string into its component parts? As you've probably guessed by now, there's a method for that too.\n",
        "\n",
        "The **split** method takes one argument: the character that you want to use to split the string. It returns a *list* containing each sub-string that appears between the character in question."
      ],
      "metadata": {
        "id": "-g9qvbzOSB4b"
      }
    },
    {
      "cell_type": "code",
      "source": [
        "sentence = \"Sentences are just lists of words!\"\n",
        "\n",
        "words = sentence.split(\" \")\n",
        "\n",
        "print(words)"
      ],
      "metadata": {
        "id": "Poe2iZsCTAiv"
      },
      "execution_count": null,
      "outputs": []
    },
    {
      "cell_type": "markdown",
      "source": [
        "# Lists"
      ],
      "metadata": {
        "id": "vuJio_Y3TIWk"
      }
    },
    {
      "cell_type": "markdown",
      "source": [
        "*Lists* are one of the most common and useful Python data structures around. They're exactly what they sound like: a list of *elements* that can be of any data type (and don't all have to be of the same type). Each element in a list has an index, and lists are zero-indexed like strings so the first element in a list has an index of 0. Lists are created by enclosing elements in square brackets and separating them with commas.\n",
        "\n",
        "How would you print out only the second element in the list defined below?"
      ],
      "metadata": {
        "id": "2zdzVQo5TMH3"
      }
    },
    {
      "cell_type": "code",
      "source": [
        "my_first_list = [1, 2, 3]"
      ],
      "metadata": {
        "id": "rN5PGxQKUAg1"
      },
      "execution_count": null,
      "outputs": []
    },
    {
      "cell_type": "markdown",
      "source": [
        "You can use the **append** method to add an element to the list:\n",
        "\n",
        "```\n",
        "my_first_list.append(4)\n",
        "```\n",
        "\n",
        "Or the **pop** method to remove a specific element, specified by its index, from the list:\n",
        "\n",
        "```\n",
        "my_first_list.pop(2)\n",
        "\n",
        "```\n",
        "\n",
        "What do you think will be the value of the element at index 2 in this list after you execute both of these operations?"
      ],
      "metadata": {
        "id": "QS4yDp-YUIUK"
      }
    },
    {
      "cell_type": "code",
      "source": [
        "my_first_list.append(4)\n",
        "my_first_list.pop(2)\n",
        "\n",
        "print(my_first_list)"
      ],
      "metadata": {
        "id": "AgwGLfqwUzRh"
      },
      "execution_count": null,
      "outputs": []
    },
    {
      "cell_type": "markdown",
      "source": [
        "If you have a long list and are looking for the **index** of a specific element, you can do that too:\n",
        "\n",
        "```\n",
        "numbers = [x for x in range(100)]\n",
        "\n",
        "print(numbers.index(45))\n",
        "```\n",
        "\n",
        "The way we created the list here uses an intermediate technique called a [list comprehension](https://www.w3schools.com/python/python_lists_comprehension.asp). See what happens if you try to use **index** to find the position of an element that isn't actuallly in the list!"
      ],
      "metadata": {
        "id": "lVjxKuuTVJYQ"
      }
    },
    {
      "cell_type": "code",
      "source": [
        "numbers = [x for x in range(100)]\n",
        "\n",
        "print(numbers.index(45))"
      ],
      "metadata": {
        "id": "YntjoEhmV-0s"
      },
      "execution_count": null,
      "outputs": []
    },
    {
      "cell_type": "markdown",
      "source": [
        "# Dictionaries"
      ],
      "metadata": {
        "id": "2AEtURWoWJma"
      }
    },
    {
      "cell_type": "markdown",
      "source": [
        "If you have data that needs just a bit more context than a list can provide, you can use another extremely useful Python data structure called a *dictionary*. Dictionaries allow you to pair pieces of information, conventionally known in this context as *values*, with labels that describe them, conventionally known in this contexts as *keys*. Dictionaries are created by enclosing key-value pairs with curly brackets. Once you've created a dictionary, you can access the value of specific keys using index notation. For example:\n",
        "\n",
        "```\n",
        "my_pet = {\"name\": \"Lainey\", \"species\": \"dog\", \"age\": 0, \"friendly\": True}\n",
        "\n",
        "print(my_pet[\"name\"])\n",
        "```"
      ],
      "metadata": {
        "id": "oElL7zuFWL0_"
      }
    },
    {
      "cell_type": "code",
      "source": [
        "my_pet = {\"name\": \"Lainey\", \"species\": \"dog\", \"age\": 0, \"friendly\": True}\n",
        "\n",
        "print(my_pet[\"name\"])"
      ],
      "metadata": {
        "id": "ZOsJEEx2XQcr"
      },
      "execution_count": null,
      "outputs": []
    },
    {
      "cell_type": "markdown",
      "source": [
        "Best of all, dictionaries and lists can work together! You could have a list of dictionaries or (less frequently) a dictionary of lists:\n",
        "\n",
        "```\n",
        "my_other_pet = {\"name\": \"Tyrion\", \"species\": \"dog\", \"age\": 9, \"friendly\": \"kind of\"}\n",
        "\n",
        "my_pets = [my_pet, my_other_pet]\n",
        "\n",
        "print(my_pets[0], my_pets[1])\n",
        "```\n"
      ],
      "metadata": {
        "id": "c4SBS1WJXUGT"
      }
    },
    {
      "cell_type": "code",
      "source": [
        "my_other_pet = {\"name\": \"Tyrion\", \"species\": \"dog\", \"age\": 9, \"friendly\": \"kind of\"}\n",
        "\n",
        "my_pets = [my_pet, my_other_pet]\n",
        "\n",
        "print(my_pets[0], my_pets[1])"
      ],
      "metadata": {
        "id": "_EHGVV7MYGq_"
      },
      "execution_count": null,
      "outputs": []
    },
    {
      "cell_type": "markdown",
      "source": [
        "\n",
        "The true power of Python starts to become clear when you learn how to combine different data structures with things like if statements or *loops* to accomplish increasingly complicated tasks. More on loops below..."
      ],
      "metadata": {
        "id": "qRntsdb9YJQ7"
      }
    },
    {
      "cell_type": "markdown",
      "source": [
        "# Tuples"
      ],
      "metadata": {
        "id": "LF_EzQv-L_ML"
      }
    },
    {
      "cell_type": "markdown",
      "source": [
        "A tuple is similar to a list, but with one key difference: tuples are **immutable**, meaning that once you create a tuple, you cannot change its values.\n",
        "\n",
        "Tuples are useful for storing data that shouldn't change. For example, we might want to store biological information like the coordinates of a gene on a chromosome, which are fixed.\n",
        "\n",
        "**Example: Storing gene coordinates**"
      ],
      "metadata": {
        "id": "TsuzBYZLMJwD"
      }
    },
    {
      "cell_type": "code",
      "source": [
        "# Tuple of gene coordinates on a chromosome (start, end)\n",
        "gene_coords = (1200, 1500)\n",
        "gene_coords.append(1300)\n",
        "\n",
        "# Accessing tuple elements\n",
        "print(\"Gene start:\", gene_coords[0])\n",
        "print(\"Gene end:\", gene_coords[1])\n",
        "\n",
        "# Trying to modify a tuple (this will raise an error)\n",
        "# new_coord = gene_coords[0] + 100  # Uncommenting this will cause an error because tuples are immutable."
      ],
      "metadata": {
        "id": "BbczoF6CMVdz"
      },
      "execution_count": null,
      "outputs": []
    },
    {
      "cell_type": "markdown",
      "source": [
        "**Explanation:**\n",
        "\n",
        "*   Tuples are created using parentheses `()`.\n",
        "*   You can access elements just like a list using indices.\n",
        "*   Unlike lists, you cannot modify the elements of a tuple.\n",
        "\n"
      ],
      "metadata": {
        "id": "lgHGKhVHMXgD"
      }
    },
    {
      "cell_type": "markdown",
      "source": [
        "**Example: Storing data in tuples**\n",
        "\n",
        "Imagine we want to store the details of a DNA sequence, such as the species and its length:"
      ],
      "metadata": {
        "id": "l0HLK98RMmyU"
      }
    },
    {
      "cell_type": "code",
      "source": [
        "# Tuple for storing species and DNA sequence length (species, length in base pairs)\n",
        "dna_info = (\"Homo sapiens\", 3200000000)\n",
        "\n",
        "# Accessing elements in the tuple\n",
        "species = dna_info[0]\n",
        "sequence_length = dna_info[1]\n",
        "\n",
        "print(f\"Species: {species}\")\n",
        "print(\"Species: \" + species)\n",
        "print(f\"DNA sequence length: {sequence_length} base pairs\")\n",
        "print(\"DNA sequence length: \" + str(sequence_length) + \" base pairs\")"
      ],
      "metadata": {
        "id": "m2zAVARWMp8V"
      },
      "execution_count": null,
      "outputs": []
    },
    {
      "cell_type": "markdown",
      "source": [
        "# Sets"
      ],
      "metadata": {
        "id": "cvoPpxqOMwIc"
      }
    },
    {
      "cell_type": "markdown",
      "source": [
        "A **set** is an unordered collection of unique elements. Sets are useful when you need to store distinct items and avoid duplicates.\n",
        "\n",
        "**Example: Storing unique species observed in a study**"
      ],
      "metadata": {
        "id": "sFe7GIzYMxWL"
      }
    },
    {
      "cell_type": "code",
      "source": [
        "# Set of species observed in a study\n",
        "species_observed = {\"Homo sapiens\", \"Pan troglodytes\", \"Mus musculus\", \"Drosophila melanogaster\", \"Homo sapiens\"}\n",
        "\n",
        "# Adding a new species to the set\n",
        "species_observed.add(\"Danio rerio\")\n",
        "\n",
        "# Removing a species from the set\n",
        "species_observed.remove(\"Mus musculus\")\n",
        "\n",
        "# Checking membership\n",
        "species_to_check = \"Homo sapiens\"\n",
        "is_in_study = False\n",
        "if species_to_check in species_observed:\n",
        "  is_in_study = True\n",
        "\n",
        "print(species_observed)"
      ],
      "metadata": {
        "id": "WWPadbHxM4mj"
      },
      "execution_count": null,
      "outputs": []
    },
    {
      "cell_type": "markdown",
      "source": [
        "**Explanation:**\n",
        "\n",
        "*   Sets are defined using curly braces `{}`.\n",
        "*   You can add and remove elements from a set, but the elements are unordered and cannot have duplicates.\n",
        "*   Set membership tests (`in`) are efficient, making sets useful for tasks where you need to check for the existence of an item."
      ],
      "metadata": {
        "id": "7Kp_gHI_M60k"
      }
    },
    {
      "cell_type": "markdown",
      "source": [
        "**Example: Intersection and union of two sets**\n",
        "\n",
        "Let's say you want to find common species discussed in two different studies, or combine the results of both studies:"
      ],
      "metadata": {
        "id": "ySONdd-WNK3O"
      }
    },
    {
      "cell_type": "code",
      "source": [
        "# Two sets of species from different studies\n",
        "study_1_species = {\"Homo sapiens\", \"Pan troglodytes\", \"Mus musculus\"}\n",
        "study_2_species = {\"Pan troglodytes\", \"Drosophila melanogaster\", \"Caenorhabditis elegans\"}\n",
        "\n",
        "# Intersection: species common to both studies\n",
        "common_species = study_1_species.intersection(study_2_species)\n",
        "\n",
        "# Union: all species from both studies\n",
        "all_species = study_1_species.union(study_2_species)\n",
        "\n",
        "print(\"Species common to both studies:\", common_species)\n",
        "print(\"All species observed across both studies:\", all_species)"
      ],
      "metadata": {
        "id": "wQ872J4ZNP7w"
      },
      "execution_count": null,
      "outputs": []
    },
    {
      "cell_type": "markdown",
      "source": [
        "**Explanation:**\n",
        "\n",
        "*   The `.intersection()` method finds elements present in both sets.\n",
        "*   The `.union()` method combines all elements from both sets, eliminating duplicates."
      ],
      "metadata": {
        "id": "JU4cQHsgNsc2"
      }
    },
    {
      "cell_type": "markdown",
      "metadata": {
        "id": "wmuZdmGuuqt4"
      },
      "source": [
        "# For loops"
      ]
    },
    {
      "cell_type": "markdown",
      "metadata": {
        "id": "vcgK92rnuqt4"
      },
      "source": [
        "Python can also iterate through items in a sequence and perform operations on them using a logical structure called a *for loop*.  \n",
        "\n",
        "For loops are declared with a for statement and a colon, then skip to a new line, indent, and describe the action you want to happen on each iteration of the loop.\n",
        "\n",
        "    for [element] in [sequence]:\n",
        "      *do something*\n",
        "\n",
        "In this example, [element] is a boilerplate variable name that will be used to refer to each element in the sequence in turn.  \n",
        "\n",
        "Note that you need to define the sequence before writing the for loop, but the iterator variable is defined for the first time within the for loop.\n",
        "\n",
        "Try this example:"
      ]
    },
    {
      "cell_type": "code",
      "execution_count": null,
      "metadata": {
        "id": "WFRaTrktuqt4"
      },
      "outputs": [],
      "source": [
        "b = \"bananas\"\n",
        "\n",
        "for letter in b:\n",
        "\n",
        "  print(letter)"
      ]
    },
    {
      "cell_type": "markdown",
      "metadata": {
        "id": "E6qqRMz1uqt4"
      },
      "source": [
        "You can make this more complex, more silly, or both.  Try this version:"
      ]
    },
    {
      "cell_type": "code",
      "execution_count": null,
      "metadata": {
        "id": "3eBWU2u9uqt5"
      },
      "outputs": [],
      "source": [
        "b = \"bananas\"\n",
        "\n",
        "for letter in b:\n",
        "  print(letter + 'aa')"
      ]
    },
    {
      "cell_type": "markdown",
      "metadata": {
        "id": "tt10uYLmuqt5"
      },
      "source": [
        "You can also combine loops and conditional execution:"
      ]
    },
    {
      "cell_type": "code",
      "execution_count": null,
      "metadata": {
        "id": "MgQR9Zzsuqt5"
      },
      "outputs": [],
      "source": [
        "word = 'bananas'\n",
        "\n",
        "a_count = 0\n",
        "\n",
        "for letter in word[:3]:\n",
        "  if letter == 'a':\n",
        "    a_count += 1\n",
        "    print(letter)\n",
        "\n",
        "print(f'the letter a appears {a_count} times in the word {word}')"
      ]
    },
    {
      "cell_type": "markdown",
      "metadata": {
        "id": "Q5zx3o05uqt5"
      },
      "source": [
        "# While loops"
      ]
    },
    {
      "cell_type": "markdown",
      "source": [
        "If you'd like for a loop to execute until a certain condition is met rather than for all of the items in a sequence, you can use a *while loop* instead. The basic syntax is similar:\n",
        "\n",
        "```\n",
        "while *some condition is true*:\n",
        "  *do something*\n",
        "```\n",
        "\n",
        "The indented block of code will run repeatedly until the condition in the loop declaration is no longer true. For example:"
      ],
      "metadata": {
        "id": "WuFyLirvZCPZ"
      }
    },
    {
      "cell_type": "code",
      "source": [
        "treats_lainey_has_eaten = 0\n",
        "\n",
        "while treats_lainey_has_eaten < 10:\n",
        "  print(\"Lainey ate another treat!\")\n",
        "  treats_lainey_has_eaten += 1"
      ],
      "metadata": {
        "id": "2OVLASjgcwWv"
      },
      "execution_count": null,
      "outputs": []
    },
    {
      "cell_type": "markdown",
      "source": [
        "It's particularly easy to accidentally write a loop that will never end with a while loop! These kinds of loops, known as infinite loops, will run repeatedly until you tell your Python interpreter to stop:"
      ],
      "metadata": {
        "id": "qFpe3w0Hc9LC"
      }
    },
    {
      "cell_type": "code",
      "source": [
        "iterations = 0\n",
        "stop = False\n",
        "\n",
        "while not stop:\n",
        "  iterations += 1\n",
        "  print(\"The loop has executed\", str(iterations), \" times.\")\n",
        "  # if iterations == 10:\n",
        "    # stop = True"
      ],
      "metadata": {
        "id": "S8euXpigd0wX"
      },
      "execution_count": null,
      "outputs": []
    },
    {
      "cell_type": "markdown",
      "source": [
        "Now remove the pound signs from the two lines above and run the cell again. You can (and should) use pound signs to add comments to your code as you write it, but be careful not to put them in front of lines that you actually need to run.\n",
        "\n",
        "This code snippet introduces two other new concepts:\n",
        "\n",
        "1.   The *not* operator, which inverts a boolean value\n",
        "2.   The *str* function, which converts a value to a string - if you think back to one of our first exercises, we used the similar *int* function to convert a value into an integer\n",
        "\n",
        "As with lists and dictionaries above, there's no reason that you can't combine different kinds of loops:"
      ],
      "metadata": {
        "id": "-2IQLM-Kd6bl"
      }
    },
    {
      "cell_type": "code",
      "source": [
        "months = [{\"name\": \"august\", \"length\": 31}, {\"name\": \"september\", \"length\": 30}, {\"name\":\"october\", \"length\": 31}]\n",
        "\n",
        "for month in months:\n",
        "  day = 0\n",
        "  while day <= month[\"length\"]:\n",
        "    print(month[\"name\"], day)\n",
        "    day += 1"
      ],
      "metadata": {
        "id": "Z6vg-jmRfh5U"
      },
      "execution_count": null,
      "outputs": []
    },
    {
      "cell_type": "markdown",
      "source": [
        "Let's break down what's happening here. First, our for loop is iterating across the three elements in our list, each of which is a dictionary describing a month of the year with a couple of key-value pairs in it.\n",
        "\n",
        "On each iteration of the for loop, our nested while loop will run and print out the days of each month until it reaches the \"end\" of that month, as defined by its \"length\" key.\n",
        "\n",
        "Can you modify the code to include another month?\n",
        "\n",
        "What if we only wanted to print out even months? There's many different ways to achieve that, but one makes use of the *continue* keyword. Any time our Python interpreter hits a continue inside of a loop, it will immediately move on to the next iteration of that loop. For example:"
      ],
      "metadata": {
        "id": "xkOdR46FfuLh"
      }
    },
    {
      "cell_type": "code",
      "source": [
        "months = [{\"name\": \"august\", \"length\": 31}, {\"name\": \"september\", \"length\": 30}, {\"name\":\"october\", \"length\": 31}]\n",
        "\n",
        "for month in months:\n",
        "  day = 0\n",
        "  while day < month[\"length\"]:\n",
        "    day += 1\n",
        "    if day % 2 != 0:\n",
        "      continue\n",
        "    print(month[\"name\"], day)"
      ],
      "metadata": {
        "id": "nr6SSEqng5T_"
      },
      "execution_count": null,
      "outputs": []
    },
    {
      "cell_type": "markdown",
      "source": [
        "We've substantially changed how this code behaves simply by adding an if statement! That if statement uses a couple of new concepts to allow us to skip odd days of the month:\n",
        "\n",
        "1.   The modulo operator (%), which returns the remainder when the integer on the left is divided by the integer on the right. What's the remainder when an even number is divided by 2?\n",
        "2.   The not equal to operator (!=), which returns the logical inverse of the equal to operator (==) that we learned about earlier.\n",
        "\n",
        "Together, these operators give us an if statement that will trigger for all odd days of the month, and when it does, we hit a continue keyword, which immediately skips to the next iteration of the loop with executing any more code.\n",
        "\n",
        "If, instead of continuing the loop, we wanted to stop it as soon as we hit a certain keyword, the keyword that we would want to use is *break*. Can you modify the loop so that it only prints out the first 10 days of each month?"
      ],
      "metadata": {
        "id": "HpAJsUdthRr5"
      }
    },
    {
      "cell_type": "markdown",
      "source": [
        "# Defining functions"
      ],
      "metadata": {
        "id": "yQ2yKjiGi6oV"
      }
    },
    {
      "cell_type": "markdown",
      "source": [
        "If there isn't a built-in function or method that does what you want to do, you can make your own! You're probably sensing the pattern by now, but the basic syntax to define your own function is quite simple:\n",
        "\n",
        "```\n",
        "def *your function name*(*your function parameters*):\n",
        "  *do something*\n",
        "  return *some value* <- this is optional\n",
        "```\n",
        "\n",
        "For example:"
      ],
      "metadata": {
        "id": "2tiZrR69i89M"
      }
    },
    {
      "cell_type": "code",
      "source": [
        "def add_two_numbers(x, y):\n",
        "  z = x + y\n",
        "  return z\n",
        "\n",
        "print(add_two_numbers(4, 5))"
      ],
      "metadata": {
        "id": "L_hc_t_wupSs"
      },
      "execution_count": null,
      "outputs": []
    },
    {
      "cell_type": "markdown",
      "source": [
        "What happens if you change the code above and instead pass one string and one integer to your function as arguments? (\"parameters\" refer to the input variables that you ask for in your function defintion, and \"arguments\" are the actual values that you supply when calling the function) This is one of the many reasons why documenting your code is important!\n",
        "\n",
        "Any parameter like x and y in the code snippet above that appear in a function definition without a default value are required. You can also include additional parameters with default values that then become optional:"
      ],
      "metadata": {
        "id": "C65a5otTvDY1"
      }
    },
    {
      "cell_type": "code",
      "source": [
        "def add_two_or_three_numbers(x, y, z=0):\n",
        "  return x + y + z\n",
        "\n",
        "print(add_two_or_three_numbers(4, 5, z=6))"
      ],
      "metadata": {
        "id": "btz6rqmMwgv5"
      },
      "execution_count": null,
      "outputs": []
    },
    {
      "cell_type": "markdown",
      "source": [
        "But why would you want to go through the trouble of defining functions rather than simply writing the code in the middle of your script? There are many reasons! Some of the important ones include avoiding the duplication of code, making your code more legible, or making it easier to share your code. Can you think of others?"
      ],
      "metadata": {
        "id": "R_pL7s7Twt3H"
      }
    },
    {
      "cell_type": "markdown",
      "source": [
        "# Importing packages"
      ],
      "metadata": {
        "id": "W4M_vmhTi9ae"
      }
    },
    {
      "cell_type": "markdown",
      "source": [
        "Python has a ton of functionality built in, and the ability to write your own functions extends the range of things you can do even further, but what if someone else has written some code for a common use case that you'd like to be able to use? Luckily, this is easy to do! And because of the wide adoption of python, [**packages** exist for just about anything that you're interested in doing](https://pypi.org/).\n",
        "\n",
        "The [pip package manager](https://pypi.org/project/pip/) is a tool that is commonly used to install and manage Python packages. If/when you're writing Python outside of a Jupyter Notebook, you'll typically interact with pip on the command line, but here we can interact with it directly through the Colab interface.\n",
        "\n",
        "You can do so using this syntax:\n",
        "\n",
        "```\n",
        "!pip install *package name*\n",
        "```\n",
        "\n",
        "The exclamation mark tells Jupyter that the line of code that follows should be interpreted as a terminal command. Try this:\n",
        "\n",
        "```\n",
        "!pip install wordcloud\n",
        "\n",
        "import wordcloud\n",
        "\n",
        "words = \"these are some words words words to make a word cloud cloud out of\"\n",
        "\n",
        "wc = wordcloud.WordCloud(background_color=\"white\", max_words=5000, contour_width=3, contour_color='steelblue')\n",
        "\n",
        "wc.generate(words)\n",
        "\n",
        "wc.to_image()\n",
        "```\n",
        "\n",
        "Don't worry if you don't understand all of the syntax in this snippet, the key takeaway is to see how we're installing and importing the wordcloud package."
      ],
      "metadata": {
        "id": "gumdLPyajClS"
      }
    },
    {
      "cell_type": "code",
      "source": [
        "!conda install wordcloud\n",
        "\n",
        "import wordcloud\n",
        "\n",
        "words = \"these are some words words words to make a word cloud cloud out of\"\n",
        "\n",
        "wc = wordcloud.WordCloud(background_color=\"white\", max_words=5000, contour_width=3, contour_color='steelblue')\n",
        "\n",
        "wc.generate(words)\n",
        "\n",
        "wc.to_image()"
      ],
      "metadata": {
        "id": "Wj17Q6kEzV9T"
      },
      "execution_count": null,
      "outputs": []
    },
    {
      "cell_type": "markdown",
      "source": [
        "If you don't want to import all of the functions in a package, you can use this syntax:\n",
        "\n",
        "```\n",
        "from *package name* import *function name*\n",
        "```\n",
        "\n",
        "For example, this code will work the same as the snippet above:\n",
        "\n",
        "```\n",
        "#!pip install wordcloud\n",
        "\n",
        "from wordcloud import WordCloud\n",
        "\n",
        "words = \"these are some words words words to make a word cloud cloud out of\"\n",
        "\n",
        "wc = WordCloud(background_color=\"white\", max_words=5000, contour_width=3, contour_color='steelblue')\n",
        "\n",
        "wc.generate(words)\n",
        "\n",
        "wc.to_image()\n",
        "```\n",
        "\n",
        "The first line is commented out because if you already installed wordcloud during this Colab session you won't need to again. Notice how the line where we call the WordCloud function changed. Can you figure out why this is?"
      ],
      "metadata": {
        "id": "UNEpaetVzeH6"
      }
    },
    {
      "cell_type": "code",
      "source": [
        "# !pip install wordcloud\n",
        "\n",
        "from wordcloud import WordCloud\n",
        "\n",
        "words = \"these are some words words words to make a word cloud cloud out of\"\n",
        "\n",
        "wc = WordCloud(background_color=\"white\", max_words=5000, contour_width=3, contour_color='steelblue')\n",
        "\n",
        "wc.generate(words)\n",
        "\n",
        "wc.to_image()"
      ],
      "metadata": {
        "id": "dbRQRTWM0Ake"
      },
      "execution_count": null,
      "outputs": []
    },
    {
      "cell_type": "markdown",
      "source": [
        "Finally, if you want to change (usually shorten) the names of packages or functions that you're importing, you can use the **as** keyword. This code will also work the same as the two previous snippets:\n",
        "\n",
        "```\n",
        "# !pip install wordcloud\n",
        "\n",
        "from wordcloud import WordCloud as wc\n",
        "\n",
        "words = \"these are some words words words to make a word cloud cloud out of\"\n",
        "\n",
        "wc = wc(background_color=\"white\", max_words=5000, contour_width=3, contour_color='steelblue')\n",
        "\n",
        "wc.generate(words)\n",
        "\n",
        "wc.to_image()\n",
        "```\n",
        "\n",
        "Again, the only change is to the line where we call the WordCloud function. What does \"wc\" refer to on the left side of the equal sign? What does it refer to on the right side?"
      ],
      "metadata": {
        "id": "zIIZJvrd0FnH"
      }
    },
    {
      "cell_type": "code",
      "source": [
        "# !pip install wordcloud\n",
        "\n",
        "from wordcloud import WordCloud as woc\n",
        "\n",
        "words = \"these are some words words words to make a word cloud cloud out of\"\n",
        "\n",
        "wc = woc(background_color=\"white\", max_words=5000, contour_width=3, contour_color='steelblue')\n",
        "\n",
        "wc.generate(words)\n",
        "\n",
        "wc.to_image()"
      ],
      "metadata": {
        "id": "qjGL5dW-0cux"
      },
      "execution_count": null,
      "outputs": []
    },
    {
      "cell_type": "markdown",
      "source": [
        "# Reading and writing files"
      ],
      "metadata": {
        "id": "JP5wIpgAjC-n"
      }
    },
    {
      "cell_type": "markdown",
      "source": [
        "Since we're in the business of working with text here, how might we actually go about interacting with a text file? We can do that with the built-in *open* function:\n",
        "\n",
        "```\n",
        "with open(*path to your file*, \"r\") as infile:\n",
        "  *read the file*\n",
        "```\n",
        "\n",
        "The open function requires two arguments: the path to the file that you want to open and a flag telling Python what you want to do with the file. Here we've passed in \"r\" as our flag to indicate that we want to *R*ead the file. You can also passing in an optional \"encoding\" argument if you know what form of [character encoding](https://en.wikipedia.org/wiki/Character_encoding) your file uses.\n",
        "\n",
        "In order to try reading a file, we're going to need a file to read. You can either create your own text file or [download this one](https://drive.google.com/file/d/1vK96xMfgBokhWHjANAGmn1k-WNuso_Bk/view?usp=sharing). Once you have a file ready, click on the folder icon on the left side of the screen and upload the file to the Colab environment. Then try:\n",
        "\n",
        "```\n",
        "with open(*path to your file*, \"r\") as infile:\n",
        "  for line in infile:\n",
        "    print(line)\n",
        "```\n",
        "\n",
        "Recall the difference between absolute paths and relative paths. It's important to get comfortable navigating the file structure on your computer! For now, though, since you've uploaded the text file directly to your Colab environment, you can simply substitute the name of the file (including the file extension) as a string for \"path to your file\" in the code snippet."
      ],
      "metadata": {
        "id": "a0TbPjPrjMAF"
      }
    },
    {
      "cell_type": "code",
      "source": [
        "with open(\"lyrics.txt\", \"r\", encoding=\"utf-8\") as infile:\n",
        "  for line in infile:\n",
        "    print(line)"
      ],
      "metadata": {
        "id": "4vAiQ6cM4Lgu"
      },
      "execution_count": null,
      "outputs": []
    },
    {
      "cell_type": "markdown",
      "source": [
        "If everything worked correctly, you should see the lyrics to \"Baby Shark\" output above. You're welcome.\n",
        "\n",
        "Last but not least, what if we wanted to write to a file rather than read it? In that case, all that we need to do is change \"r\" to \"w\" when we call the open function:\n",
        "\n",
        "```\n",
        "path = *path to your file*\n",
        "\n",
        "with open(path, \"w\") as outfile:\n",
        "  outfile.write(\"Hello world!\")\n",
        "\n",
        "with open(path, \"r\") as infile:\n",
        "  for line in infile:\n",
        "    print(line)\n",
        "```\n",
        "\n",
        "Note how we save the path to the file as a variable so that we don't have to write it out twice (and improve the readability of our code)."
      ],
      "metadata": {
        "id": "mgo__AJf4XwZ"
      }
    },
    {
      "cell_type": "code",
      "source": [
        "path = \"some_words.txt\"\n",
        "\n",
        "with open(path, \"w\") as outfile:\n",
        "  outfile.write(\"Hello world!\")\n",
        "\n",
        "with open(path, \"r\") as infile:\n",
        "  for line in infile:\n",
        "    print(line)"
      ],
      "metadata": {
        "id": "_O9zhAy346mb"
      },
      "execution_count": null,
      "outputs": []
    },
    {
      "cell_type": "markdown",
      "source": [
        "Our file only contains \"Hello world!\" now because the open function overwrites all existing file content by default. You can download the updated file to confirm this - be careful not to overwrite important information!"
      ],
      "metadata": {
        "id": "qDr8tIuf5LXY"
      }
    },
    {
      "cell_type": "markdown",
      "source": [
        "# Conclusion"
      ],
      "metadata": {
        "id": "JbRy8ppf5hwN"
      }
    },
    {
      "cell_type": "markdown",
      "source": [
        "If you have a solid grasp of the concepts covered in this notebook, you're more than a Python novice - you genuinely have all of the information that you need to do some very complicated things. The challenge (and power) of using Python, or any other programming language, comes in understanding how best to leverage and combine different data structures, functions, and logical constructs to achieve a particular purpose.\n",
        "\n",
        "Once you're comfortable with the basics, the best way to learn more is to go write some code. Programming knowledge scales exponentially, as each thing you figure out how to do unlocks multiple others in combination with the other things that you already know how to do!"
      ],
      "metadata": {
        "id": "gKEJ59lt5jzu"
      }
    }
  ],
  "metadata": {
    "kernelspec": {
      "display_name": "Python 3",
      "language": "python",
      "name": "python3"
    },
    "language_info": {
      "codemirror_mode": {
        "name": "ipython",
        "version": 3
      },
      "file_extension": ".py",
      "mimetype": "text/x-python",
      "name": "python",
      "nbconvert_exporter": "python",
      "pygments_lexer": "ipython3",
      "version": "3.4.9"
    },
    "colab": {
      "provenance": []
    }
  },
  "nbformat": 4,
  "nbformat_minor": 0
}