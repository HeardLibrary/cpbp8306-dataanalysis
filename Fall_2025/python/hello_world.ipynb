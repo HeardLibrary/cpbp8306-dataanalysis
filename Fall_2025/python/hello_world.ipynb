{
  "nbformat": 4,
  "nbformat_minor": 0,
  "metadata": {
    "colab": {
      "provenance": []
    },
    "kernelspec": {
      "name": "python3",
      "display_name": "Python 3"
    },
    "language_info": {
      "name": "python"
    }
  },
  "cells": [
    {
      "cell_type": "markdown",
      "source": [
        "# Getting Started with Python in VS Code (with Miniconda)\n",
        "\n",
        "Welcome! In this guide, you'll learn how to set up your Python environment using **Miniconda** and **Visual Studio Code**, then write and run your first Python script: `Hello, world!`.\n",
        "\n",
        "---\n",
        "\n",
        "## 🔧 Step 1: Launch Visual Studio Code\n",
        "\n",
        "- Find and open **VS Code** on your system.\n",
        "- If it's your first time, accept any prompts to install recommended tools.\n",
        "\n",
        "---\n",
        "\n",
        "## 📁 Step 2: Create and Open a New Project Folder\n",
        "\n",
        "1. Click `File > Open Folder...`.\n",
        "2. Navigate to a location like `Documents` or `Desktop`.\n",
        "3. Create a new folder (e.g., `python-basics`) and open it.\n",
        "\n",
        "This is where your code files will live.\n",
        "\n",
        "---\n",
        "\n",
        "## 🐍 Step 3: Make Sure You're Using the Right Python (Miniconda)\n",
        "\n",
        "Look in the **bottom right** corner of VS Code.\n",
        "\n",
        "- You should see something like: `Python 3.11.5 ('base': conda)`\n",
        "\n",
        "\n",
        "If not:\n",
        "\n",
        "1. Click that version text.\n",
        "2. In the menu that appears, choose the Python interpreter from your Miniconda installation.\n",
        "\n",
        "Still not seeing it? No problem — you’ll fix it in the next step.\n",
        "\n",
        "---\n",
        "\n",
        "## 🧩 Step 4: Install the Python Extension\n",
        "\n",
        "1. Click the **Extensions** icon on the left sidebar (or press `Ctrl+Shift+X` / `Cmd+Shift+X`).\n",
        "2. Search for `Python` (by Microsoft) and click **Install**.\n",
        "3. Optionally install **Pylance** for better coding assistance.\n",
        "\n",
        "Once installed, VS Code will recognize `.py` files as Python code.\n",
        "\n",
        "---\n",
        "\n",
        "## ✏️ Step 5: Create a New Python File\n",
        "\n",
        "1. Click `File > New File`.\n",
        "2. Save it as `hello.py` in your project folder.\n",
        "\n",
        "---\n",
        "\n",
        "## 🧪 Step 6: Write Your First Script"
      ],
      "metadata": {
        "id": "wIAH6o6Dhj_D"
      }
    },
    {
      "cell_type": "code",
      "execution_count": null,
      "metadata": {
        "id": "Dbk5Ua8QhcbX"
      },
      "outputs": [],
      "source": [
        "# hello.py\n",
        "print(\"Hello, world!\")"
      ]
    },
    {
      "cell_type": "markdown",
      "source": [
        "---\n",
        "\n",
        "## ▶️ Step 7: Run the Script\n",
        "\n",
        "Click the green **Run** button in the top right corner of the editor.\n",
        "\n",
        "If prompted, select **Run Python File**.\n",
        "\n",
        "Alternatively, you can open the terminal and type: `python hello.py`\n",
        "\n",
        "You should see:\n",
        "\n",
        "\n",
        "---\n",
        "\n",
        "## ✅ You're Done!\n",
        "\n",
        "Congratulations — you've written and run your first Python program!\n",
        "\n",
        "You're ready to start learning Python basics. 🚀\n",
        "\n",
        "---"
      ],
      "metadata": {
        "id": "zYxEBFa1h8xz"
      }
    }
  ]
}