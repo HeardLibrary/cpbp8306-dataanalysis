{
  "nbformat": 4,
  "nbformat_minor": 0,
  "metadata": {
    "colab": {
      "provenance": []
    },
    "kernelspec": {
      "name": "python3",
      "display_name": "Python 3"
    },
    "language_info": {
      "name": "python"
    }
  },
  "cells": [
    {
      "cell_type": "markdown",
      "source": [
        "# Exercise 1: Storing study results in a dictionary"
      ],
      "metadata": {
        "id": "S_MASnNXYDqf"
      }
    },
    {
      "cell_type": "markdown",
      "source": [
        "**Introduction:** You are conducting a study on multiple species and recording the number of individuals observed for each species. Use a dictionary to store the species as keys and the count of individuals as values."
      ],
      "metadata": {
        "id": "RM2K2ouSYHtn"
      }
    },
    {
      "cell_type": "markdown",
      "source": [
        "**Task:**\n",
        "\n",
        "1.   Create a dictionary with the following data: `{\"Homo sapiens\": 10, \"Pan troglodytes\": 5, \"Mus musculus\": 15}`.\n",
        "2.   Write code to add a new species to the dictionary (`\"Danio rerio\": 8`).\n",
        "3.   Print the total number of individuals observed across all species.\n",
        "\n"
      ],
      "metadata": {
        "id": "M8DkSxXbYNp3"
      }
    },
    {
      "cell_type": "code",
      "source": [
        "# Your solution here"
      ],
      "metadata": {
        "id": "ElcPUOlsZ7tr"
      },
      "execution_count": null,
      "outputs": []
    },
    {
      "cell_type": "markdown",
      "source": [
        "## Hint"
      ],
      "metadata": {
        "id": "eUYxPBKHYZiA"
      }
    },
    {
      "cell_type": "markdown",
      "source": [
        "Use `.values()` to get the values from the dictionary, then use `sum()` to get the total."
      ],
      "metadata": {
        "id": "eXC7uzNTYgZv"
      }
    },
    {
      "cell_type": "markdown",
      "source": [
        "## Solution"
      ],
      "metadata": {
        "id": "V7FfiAR-YpVA"
      }
    },
    {
      "cell_type": "code",
      "source": [
        "# Solution\n",
        "species_counts = {\"Homo sapiens\": 10, \"Pan troglodytes\": 5, \"Mus musculus\": 15}\n",
        "\n",
        "# Add new species\n",
        "species_counts[\"Danio rerio\"] = 8\n",
        "\n",
        "# Calculate total number of individuals\n",
        "total_individuals = sum(species_counts.values())\n",
        "\n",
        "print(\"Total individuals observed:\", total_individuals)"
      ],
      "metadata": {
        "id": "lnnsNu00Yr78"
      },
      "execution_count": null,
      "outputs": []
    },
    {
      "cell_type": "markdown",
      "source": [
        "# Exercise 2: Removing duplicate DNA sequences using a set"
      ],
      "metadata": {
        "id": "TMECD2g5Y1D4"
      }
    },
    {
      "cell_type": "markdown",
      "source": [
        "**Introduction:** You are analyzing DNA sequences, and some sequences may be duplicated. Use a set to remove duplicates."
      ],
      "metadata": {
        "id": "Za_EO8cwY-y4"
      }
    },
    {
      "cell_type": "markdown",
      "source": [
        "**Task:**\n",
        "\n",
        "1.   Create a list of DNA sequences with some duplicates: `[\"ATCG\", \"GCTA\", \"ATCG\", \"CGTA\", \"GCTA\"]`.\n",
        "2.   Convert the list to a set to remove duplicates.\n",
        "3.   Print the set of unique sequences.\n",
        "\n"
      ],
      "metadata": {
        "id": "2panqTXMZC2Z"
      }
    },
    {
      "cell_type": "code",
      "source": [
        "# Your solution here"
      ],
      "metadata": {
        "id": "I2roTZYCaAru"
      },
      "execution_count": null,
      "outputs": []
    },
    {
      "cell_type": "markdown",
      "source": [
        "## Hint"
      ],
      "metadata": {
        "id": "hnUf5a3sZUxI"
      }
    },
    {
      "cell_type": "markdown",
      "source": [
        "\n",
        "*   Sets automatically remove duplicates.\n",
        "*   Use the `set()` function to convert the list to a set."
      ],
      "metadata": {
        "id": "ZxnscdQ_ZWGB"
      }
    },
    {
      "cell_type": "markdown",
      "source": [
        "## Solution"
      ],
      "metadata": {
        "id": "1myovIzrZcmi"
      }
    },
    {
      "cell_type": "code",
      "source": [
        "# Solution\n",
        "dna_sequences = [\"ATCG\", \"GCTA\", \"ATCG\", \"CGTA\", \"GCTA\"]\n",
        "\n",
        "# Convert to set to remove duplicates\n",
        "unique_sequences = set(dna_sequences)\n",
        "\n",
        "print(\"Unique DNA sequences:\", unique_sequences)"
      ],
      "metadata": {
        "id": "so2RkGm_ZfkV"
      },
      "execution_count": null,
      "outputs": []
    },
    {
      "cell_type": "markdown",
      "source": [
        "# Exercise 3: Finding common species between two studies using sets"
      ],
      "metadata": {
        "id": "Wtqa2liLZhZJ"
      }
    },
    {
      "cell_type": "markdown",
      "source": [
        "**Introduction:** Two different research teams observed species in the same habitat. Your task is to find out which species were observed by both teams."
      ],
      "metadata": {
        "id": "XRHKtVl9ZqVK"
      }
    },
    {
      "cell_type": "markdown",
      "source": [
        "Task:\n",
        "\n",
        "1.   Create two sets of species observed by each research team:\n",
        "\n",
        "  *   `team_1 = {\"Homo sapiens\", \"Pan troglodytes\", \"Mus musculus\"}`\n",
        "  *   `team_2 = {\"Pan troglodytes\", \"Drosophila melanogaster\", \"Mus musculus\"}`\n",
        "\n",
        "2.   Find and print the species common to both sets."
      ],
      "metadata": {
        "id": "VpxAdelKZyaJ"
      }
    },
    {
      "cell_type": "code",
      "source": [
        "# Your solution here"
      ],
      "metadata": {
        "id": "6wv-NHr4aBSI"
      },
      "execution_count": null,
      "outputs": []
    },
    {
      "cell_type": "markdown",
      "source": [
        "## Hint"
      ],
      "metadata": {
        "id": "ZDljUMasaQ6q"
      }
    },
    {
      "cell_type": "markdown",
      "source": [
        "Use the `.intersection()` method to find common elements between sets."
      ],
      "metadata": {
        "id": "3AVq9AccaSAS"
      }
    },
    {
      "cell_type": "markdown",
      "source": [
        "## Solution"
      ],
      "metadata": {
        "id": "AwenyOFUaUwq"
      }
    },
    {
      "cell_type": "code",
      "source": [
        "# Solution\n",
        "team_1 = {\"Homo sapiens\", \"Pan troglodytes\", \"Mus musculus\"}\n",
        "team_2 = {\"Pan troglodytes\", \"Drosophila melanogaster\", \"Mus musculus\"}\n",
        "\n",
        "# Find common species\n",
        "common_species = team_1.intersection(team_2)\n",
        "\n",
        "print(\"Species common to both studies:\", common_species)"
      ],
      "metadata": {
        "id": "ja8fd4aXaWH0"
      },
      "execution_count": null,
      "outputs": []
    }
  ]
}