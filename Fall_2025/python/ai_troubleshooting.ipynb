{
  "nbformat": 4,
  "nbformat_minor": 0,
  "metadata": {
    "colab": {
      "provenance": []
    },
    "kernelspec": {
      "name": "python3",
      "display_name": "Python 3"
    },
    "language_info": {
      "name": "python"
    }
  },
  "cells": [
    {
      "cell_type": "markdown",
      "source": [
        "# Using generative AI to understand and troubleshoot Python errors"
      ],
      "metadata": {
        "id": "mOFUdWAPcKle"
      }
    },
    {
      "cell_type": "markdown",
      "source": [
        "Generative AI tools such as ChatGPT can help you understand and resolve Python errors when you encounter them. Let's walk through an example where we encounter an error when running our code, and then use AI to help diagnose and fix it."
      ],
      "metadata": {
        "id": "kucuziSIcOEl"
      }
    },
    {
      "cell_type": "markdown",
      "source": [
        "**Example: troubleshooting a `TypeError`**\n",
        "\n",
        "Imagine you have the following code where you want to add a number and a string together:"
      ],
      "metadata": {
        "id": "qSLrRrWUcbGa"
      }
    },
    {
      "cell_type": "code",
      "execution_count": null,
      "metadata": {
        "id": "TI6Ul2XNcIT7"
      },
      "outputs": [],
      "source": [
        "# Code snippet that raises an error\n",
        "num = str(5)\n",
        "text = \" apples\"\n",
        "result = num + text\n",
        "print(result)"
      ]
    },
    {
      "cell_type": "markdown",
      "source": [
        "When you run this code, you'll likely see an error message like this:\n",
        "\n",
        "`TypeError: unsupported operand type(s) for +: 'int' and 'str'`"
      ],
      "metadata": {
        "id": "PnHAvQ8vck8a"
      }
    },
    {
      "cell_type": "markdown",
      "source": [
        "This error occurs because Python doesn't know how to add an integer (`int`) and a string (`str`) together.\n",
        "\n",
        "**Using generative AI to troubleshoot:**\n",
        "\n",
        "You can use a tool like ChatGPT to ask why this error occurs and how to fix it. For example, you could ask: \"I got a `TypeError: unsupported operand type(s) for +: 'int' and 'str'` in Python. What does this mean, and how do I fix it?\"\n",
        "\n",
        "AI might respond with something like:\n",
        "\n",
        "The error occurs because Python doesn't allow direct addition of an integer and a string. You need to convert the number to a string first or concatenate the string in a different way.\n",
        "\n",
        "To fix this, you can convert the integer to a string using the `str()` function:"
      ],
      "metadata": {
        "id": "pWu_XB7Lcp6l"
      }
    },
    {
      "cell_type": "code",
      "source": [
        "# Corrected code\n",
        "num = 5\n",
        "text = \" apples\"\n",
        "result = str(num) + text\n",
        "print(result)  # Output: \"5 apples\""
      ],
      "metadata": {
        "id": "Ya5__ujadAs0"
      },
      "execution_count": null,
      "outputs": []
    },
    {
      "cell_type": "markdown",
      "source": [
        "Now, the error is resolved, and the output is as expected."
      ],
      "metadata": {
        "id": "7pLwZu6cdH1u"
      }
    },
    {
      "cell_type": "markdown",
      "source": [
        "# Exercise: using generative AI to troubleshoot a code error"
      ],
      "metadata": {
        "id": "qnHjdcYBdJPa"
      }
    },
    {
      "cell_type": "markdown",
      "source": [
        "In this exercise, you'll intentionally encounter an error, then use generative AI to troubleshoot and fix it.\n",
        "\n",
        "**Task:**\n",
        "\n",
        "1.   Run the following code, which contains an error.\n",
        "2.   Observe the error message, and then use generative AI (e.g., ChatGPT, Bard, Copilot) to understand what the error means and how to fix it.\n",
        "3.   Apply the suggested fix to resolve the issue."
      ],
      "metadata": {
        "id": "c8-33HIxdNaR"
      }
    },
    {
      "cell_type": "code",
      "source": [
        "# The code below contains an error. Try to fix it with the help of AI!\n",
        "fruit_list = [\"apple\", \"banana\", \"cherry\"]\n",
        "fruit_dict = {\"apple\": 1, \"banana\": 2, \"cherry\": 3}\n",
        "\n",
        "# Trying to access a dictionary using list indexing (which will cause an error)\n",
        "fruit_quantity = fruit_dict[fruit_list[3]]  # Index out of range error\n",
        "\n",
        "print(fruit_quantity)"
      ],
      "metadata": {
        "id": "0r7tbr4VdeRI"
      },
      "execution_count": null,
      "outputs": []
    },
    {
      "cell_type": "markdown",
      "source": [
        "## Solution"
      ],
      "metadata": {
        "id": "2ObNviVOdjEd"
      }
    },
    {
      "cell_type": "code",
      "source": [
        "# Corrected code\n",
        "fruit_list = [\"apple\", \"banana\", \"cherry\"]\n",
        "fruit_dict = {\"apple\": 1, \"banana\": 2, \"cherry\": 3}\n",
        "\n",
        "# Correcting the index to be within the valid range (0 to 2)\n",
        "fruit_quantity = fruit_dict[fruit_list[2]]  # Accessing 'cherry'\n",
        "\n",
        "print(fruit_quantity)  # Output: 3"
      ],
      "metadata": {
        "id": "WVcxr5mQdlBR"
      },
      "execution_count": null,
      "outputs": []
    }
  ]
}