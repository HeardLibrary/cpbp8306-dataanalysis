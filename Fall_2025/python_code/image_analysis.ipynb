{
  "nbformat": 4,
  "nbformat_minor": 0,
  "metadata": {
    "colab": {
      "provenance": []
    },
    "kernelspec": {
      "name": "python3",
      "display_name": "Python 3"
    },
    "language_info": {
      "name": "python"
    }
  },
  "cells": [
    {
      "cell_type": "markdown",
      "source": [
        "# Reading and displaying images"
      ],
      "metadata": {
        "id": "yrDQHS1z0dT_"
      }
    },
    {
      "cell_type": "markdown",
      "source": [
        "OpenCV (`cv2`) is a powerful computer vision library widely used for image processing tasks. It reads images in BGR format, which means the color channels are reversed compared to the more familiar RGB format. In this example, after loading the image using `cv2.imread()`, we convert it to RGB using `cv2.cvtColor()` before displaying it with `matplotlib`. This ensures the image appears with the correct colors."
      ],
      "metadata": {
        "id": "_7TA5zVVzyCX"
      }
    },
    {
      "cell_type": "code",
      "execution_count": null,
      "metadata": {
        "id": "z9M5K23jzbEC"
      },
      "outputs": [],
      "source": [
        "import cv2\n",
        "import matplotlib.pyplot as plt\n",
        "\n",
        "# Load image with cv2. Remember to adjust this path!\n",
        "image_cv2 = cv2.imread('champ.jpg')\n",
        "\n",
        "# Convert color from BGR (default in cv2) to RGB for proper display in matplotlib\n",
        "image_rgb = cv2.cvtColor(image_cv2, cv2.COLOR_BGR2RGB)\n",
        "\n",
        "# Display the image using matplotlib\n",
        "plt.imshow(image_rgb)\n",
        "plt.title(\"Image using OpenCV\")\n",
        "plt.axis('off')  # Turn off axis labels\n",
        "plt.show()"
      ]
    },
    {
      "cell_type": "markdown",
      "source": [
        "`scikit-image` is a Python library designed for image processing and manipulation. It provides a wide range of tools for tasks such as filtering, segmentation, and color manipulation. In this example, we use `io.imread()` from `scikit-image` to read the image, which automatically handles the RGB format. We then use `matplotlib` to display the image without any additional color conversion."
      ],
      "metadata": {
        "id": "zkPs6oNA0ERy"
      }
    },
    {
      "cell_type": "code",
      "source": [
        "from skimage import io\n",
        "import matplotlib.pyplot as plt\n",
        "\n",
        "# Load image with scikit-image\n",
        "image_skimage = io.imread('champ.jpg')\n",
        "\n",
        "# Display the image using matplotlib\n",
        "plt.imshow(image_skimage)\n",
        "plt.title(\"Image using scikit-image\")\n",
        "plt.axis('off')  # Turn off axis labels\n",
        "plt.show()"
      ],
      "metadata": {
        "id": "bwifk5_K0R1Y"
      },
      "execution_count": null,
      "outputs": []
    },
    {
      "cell_type": "markdown",
      "source": [
        "The Pillow (`PIL`) library is an image processing library that is very user-friendly and well-integrated with Python's ecosystem. It is commonly used for opening, manipulating, and saving images in various formats. In this example, we use `Image.open()` to load the image and then display it using `matplotlib`. Since Pillow works with RGB format by default, there is no need for any color conversion."
      ],
      "metadata": {
        "id": "f5TcZrGV0URa"
      }
    },
    {
      "cell_type": "code",
      "source": [
        "from PIL import Image\n",
        "import matplotlib.pyplot as plt\n",
        "\n",
        "# Load image with PIL\n",
        "image_pil = Image.open('champ.jpg')\n",
        "\n",
        "# Display the image using matplotlib\n",
        "plt.imshow(image_pil)\n",
        "plt.title(\"Image using PIL\")\n",
        "plt.axis('off')  # Turn off axis labels\n",
        "plt.show()"
      ],
      "metadata": {
        "id": "g8tUBUG-0aGT"
      },
      "execution_count": null,
      "outputs": []
    },
    {
      "cell_type": "markdown",
      "source": [
        "# Manipulating images"
      ],
      "metadata": {
        "id": "8vOJve890hGz"
      }
    },
    {
      "cell_type": "markdown",
      "source": [
        "Grayscale conversion is essential for reducing the complexity of image data and making edge detection or other transformations more efficient. In OpenCV, this is done using the `cv2.cvtColor()` function, which allows converting from the default BGR to grayscale."
      ],
      "metadata": {
        "id": "9uUGBCfl1BOl"
      }
    },
    {
      "cell_type": "code",
      "source": [
        "import cv2\n",
        "import matplotlib.pyplot as plt\n",
        "\n",
        "# Load the image\n",
        "image = cv2.imread('champ.jpg')\n",
        "\n",
        "# Convert to grayscale\n",
        "gray_image_cv2 = cv2.cvtColor(image, cv2.COLOR_BGR2GRAY)\n",
        "\n",
        "# Display the grayscale image\n",
        "plt.imshow(gray_image_cv2, cmap='gray')\n",
        "plt.title(\"Grayscale Image using OpenCV\")\n",
        "plt.axis('off')\n",
        "plt.show()"
      ],
      "metadata": {
        "id": "SvaLCTQT1FGv"
      },
      "execution_count": null,
      "outputs": []
    },
    {
      "cell_type": "markdown",
      "source": [
        "With `scikit-image`, we can use `rgb2gray()` from the `color` module to easily convert an RGB image to grayscale. This function returns a floating-point image, where pixel values represent brightness."
      ],
      "metadata": {
        "id": "2cQHntvB1Hnr"
      }
    },
    {
      "cell_type": "code",
      "source": [
        "from skimage import io, color\n",
        "import matplotlib.pyplot as plt\n",
        "\n",
        "# Load the image\n",
        "image_skimage = io.imread('champ.jpg')\n",
        "\n",
        "# Convert to grayscale\n",
        "gray_image_skimage = color.rgb2gray(image_skimage)\n",
        "\n",
        "# Display the grayscale image\n",
        "plt.imshow(gray_image_skimage, cmap='gray')\n",
        "plt.title(\"Grayscale Image using scikit-image\")\n",
        "plt.axis('off')\n",
        "plt.show()"
      ],
      "metadata": {
        "id": "Yks5B8571O5e"
      },
      "execution_count": null,
      "outputs": []
    },
    {
      "cell_type": "markdown",
      "source": [
        "Blurring helps reduce image noise and detail. OpenCV's `cv2.GaussianBlur()` applies Gaussian smoothing to the image, with the `ksize` parameter controlling the kernel size. This method is often used before applying edge detection to avoid noise being mistaken for edges."
      ],
      "metadata": {
        "id": "_lcOx4m81SLC"
      }
    },
    {
      "cell_type": "code",
      "source": [
        "import cv2\n",
        "import matplotlib.pyplot as plt\n",
        "\n",
        "# Load the image\n",
        "image = cv2.imread('champ.jpg')\n",
        "\n",
        "# Apply Gaussian blur\n",
        "blurred_image_cv2 = cv2.GaussianBlur(image, (11, 11), 0)\n",
        "\n",
        "# Convert to RGB for displaying with matplotlib\n",
        "blurred_image_rgb = cv2.cvtColor(blurred_image_cv2, cv2.COLOR_BGR2RGB)\n",
        "\n",
        "# Display the blurred image\n",
        "plt.imshow(blurred_image_rgb)\n",
        "plt.title(\"Blurred Image using OpenCV\")\n",
        "plt.axis('off')\n",
        "plt.show()"
      ],
      "metadata": {
        "id": "ClKW7PzG1YG3"
      },
      "execution_count": null,
      "outputs": []
    },
    {
      "cell_type": "markdown",
      "source": [
        "In `scikit-image`, the `gaussian()` function from the `filters` module allows us to apply Gaussian blurring. By default, it operates on a grayscale image but can also work with multi-channel images."
      ],
      "metadata": {
        "id": "0NZTRaP11Zgd"
      }
    },
    {
      "cell_type": "code",
      "source": [
        "from skimage import io, filters\n",
        "import matplotlib.pyplot as plt\n",
        "\n",
        "# Load the image\n",
        "image_skimage = io.imread('champ.jpg')\n",
        "\n",
        "# Apply Gaussian blur\n",
        "blurred_image_skimage = filters.gaussian(image_skimage, sigma=2)\n",
        "\n",
        "# Display the blurred image\n",
        "plt.imshow(blurred_image_skimage)\n",
        "plt.title(\"Blurred Image using scikit-image\")\n",
        "plt.axis('off')\n",
        "plt.show()"
      ],
      "metadata": {
        "id": "H32hhLto1fQl"
      },
      "execution_count": null,
      "outputs": []
    },
    {
      "cell_type": "markdown",
      "source": [
        "Edge detection can be performed in OpenCV using the Canny edge detector. This method uses gradient intensity and direction to identify edges in the image."
      ],
      "metadata": {
        "id": "AiJP9O9z1kSp"
      }
    },
    {
      "cell_type": "code",
      "source": [
        "import cv2\n",
        "import matplotlib.pyplot as plt\n",
        "\n",
        "# Load the image\n",
        "image = cv2.imread('champ.jpg')\n",
        "\n",
        "# Convert to grayscale for edge detection\n",
        "gray_image = cv2.cvtColor(image, cv2.COLOR_BGR2GRAY)\n",
        "\n",
        "# Apply Canny edge detector\n",
        "edges_cv2 = cv2.Canny(gray_image, 5, 200)\n",
        "\n",
        "# Display the edges\n",
        "plt.imshow(edges_cv2, cmap='gray')\n",
        "plt.title(\"Edges using OpenCV\")\n",
        "plt.axis('off')\n",
        "plt.show()"
      ],
      "metadata": {
        "id": "41yAoJOu1k4t"
      },
      "execution_count": null,
      "outputs": []
    },
    {
      "cell_type": "markdown",
      "source": [
        "In `scikit-image`, edge detection can be performed using the `canny()` function from the `feature` module. The `sigma` parameter controls the amount of Gaussian smoothing before edge detection."
      ],
      "metadata": {
        "id": "xSb9N1va1mdm"
      }
    },
    {
      "cell_type": "code",
      "source": [
        "from skimage import io, feature, color\n",
        "import matplotlib.pyplot as plt\n",
        "\n",
        "# Load the image\n",
        "image_skimage = io.imread('champ.jpg')\n",
        "\n",
        "# Convert to grayscale\n",
        "gray_image_skimage = color.rgb2gray(image_skimage)\n",
        "\n",
        "# Apply Canny edge detector\n",
        "edges_skimage = feature.canny(gray_image_skimage, sigma=2)\n",
        "\n",
        "# Display the edges\n",
        "plt.imshow(edges_skimage, cmap='gray')\n",
        "plt.title(\"Edges using scikit-image\")\n",
        "plt.axis('off')\n",
        "plt.show()"
      ],
      "metadata": {
        "id": "GnHS5qt_1sY8"
      },
      "execution_count": null,
      "outputs": []
    }
  ]
}