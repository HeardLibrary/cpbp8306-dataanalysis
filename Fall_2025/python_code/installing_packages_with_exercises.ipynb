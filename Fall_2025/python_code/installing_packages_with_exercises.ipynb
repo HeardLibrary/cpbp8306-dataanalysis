{
  "cells": [
    {
      "cell_type": "markdown",
      "id": "l9wtDRMLsGs3",
      "metadata": {
        "id": "l9wtDRMLsGs3"
      },
      "source": [
        "# The enumerate function"
      ]
    },
    {
      "cell_type": "markdown",
      "id": "P-PS28nqs4A5",
      "metadata": {
        "id": "P-PS28nqs4A5"
      },
      "source": [
        "The `enumerate()` function in Python allows you to loop over a sequence (like a list or a string) while keeping track of the **index** of the current item. This can be helpful when you need both the **item** and its **position** in the sequence during iteration. Instead of using a separate counter variable, `enumerate()` provides a cleaner and more Pythonic way to accomplish this.\n",
        "\n",
        "`enumerate(iterable, start=0)`\n",
        "\n",
        "*   `iterable`: The collection you want to loop over (like a list or string).\n",
        "*   `start` (optional): The number at which the index should begin. By default, it starts at 0.\n",
        "\n",
        "Here’s a simple example where we print both the index and the value of each item in a list:"
      ]
    },
    {
      "cell_type": "code",
      "execution_count": null,
      "id": "_y692HUStM3q",
      "metadata": {
        "id": "_y692HUStM3q"
      },
      "outputs": [],
      "source": [
        "fruits = ['apple', 'banana', 'cherry']\n",
        "\n",
        "for index, fruit in enumerate(fruits):\n",
        "    print(f\"Index {index}: {fruit}\")"
      ]
    },
    {
      "cell_type": "markdown",
      "id": "dlQXHWbstc-C",
      "metadata": {
        "id": "dlQXHWbstc-C"
      },
      "source": [
        "In this example, `enumerate()` helps us access both the index and the item (the fruit) at the same time.\n",
        "\n",
        "If you want to start the index at a number other than 0, you can use the `start` parameter. Here's how you would start the index at 1:"
      ]
    },
    {
      "cell_type": "code",
      "execution_count": null,
      "id": "Qu5nox1TtlF5",
      "metadata": {
        "id": "Qu5nox1TtlF5"
      },
      "outputs": [],
      "source": [
        "fruits = ['apple', 'banana', 'cherry']\n",
        "\n",
        "for index, fruit in enumerate(fruits, start=1):\n",
        "    print(f\"Index {index}: {fruit}\")"
      ]
    },
    {
      "cell_type": "markdown",
      "id": "VOI80qL2tnF6",
      "metadata": {
        "id": "VOI80qL2tnF6"
      },
      "source": [
        "You can also use `enumerate()` with strings. For instance, if you want to print the index and character in a word:"
      ]
    },
    {
      "cell_type": "code",
      "execution_count": null,
      "id": "vhtpKAo2tptT",
      "metadata": {
        "id": "vhtpKAo2tptT"
      },
      "outputs": [],
      "source": [
        "word = \"Python\"\n",
        "\n",
        "for index, letter in enumerate(word):\n",
        "    print(f\"Letter {letter} is at position {index}\")"
      ]
    },
    {
      "cell_type": "markdown",
      "id": "lJLiO1H2ts2L",
      "metadata": {
        "id": "lJLiO1H2ts2L"
      },
      "source": [
        "The `enumerate()` function is a useful tool for situations where you need to loop through a sequence and have access to both the item and its index. It is especially helpful for making your code more concise and easier to read."
      ]
    },
    {
      "cell_type": "markdown",
      "id": "4r8p9flrupQa",
      "metadata": {
        "id": "4r8p9flrupQa"
      },
      "source": [
        "# Installing and updating packages"
      ]
    },
    {
      "cell_type": "markdown",
      "id": "pky1Cs8VuwLB",
      "metadata": {
        "id": "pky1Cs8VuwLB"
      },
      "source": [
        "Python's flexibility comes in part from the thousands of available packages that extend its functionality. To manage and install these packages, we commonly use **conda** (if you are using Anaconda or Miniconda) or **pip** (Python's package manager). Here's a guide to installing and updating packages using both."
      ]
    },
    {
      "cell_type": "markdown",
      "id": "oKczm4G3-jkD",
      "metadata": {
        "id": "oKczm4G3-jkD"
      },
      "source": [
        "**Important note:** If you're executing cells from this Jupyter notebook (or any other) from inside VS Code, you will not natively be able to interact with the terminal. In practice, this means that it will be difficult to install packages using `conda` from notebooks in VS Code. Instead, run the same commands listed below, omitting the leading exclamation mark, directly from the terminal. If you do so outside of VS Code, you may also need to restart the application before your newly-installed packages are available."
      ]
    },
    {
      "cell_type": "markdown",
      "id": "hEnmS6Ukurde",
      "metadata": {
        "id": "hEnmS6Ukurde"
      },
      "source": [
        "## Using conda"
      ]
    },
    {
      "cell_type": "markdown",
      "id": "6JnRudYk1LwF",
      "metadata": {
        "id": "6JnRudYk1LwF"
      },
      "source": [
        "`conda` is a powerful package manager that helps manage environments and packages, especially in scientific computing contexts. It is a great tool for users working in environments that require complex dependencies.\n",
        "\n",
        "To install a package with `conda`, use the following syntax:\n",
        "\n",
        "`conda install package_name`\n",
        "\n",
        "This will install the latest version of the package available in the **Conda** repositories (typically the **Anaconda** or **Conda-Forge** channels)."
      ]
    },
    {
      "cell_type": "code",
      "execution_count": null,
      "id": "2thbEDx11f1E",
      "metadata": {
        "id": "2thbEDx11f1E"
      },
      "outputs": [],
      "source": [
        "!conda install numpy"
      ]
    },
    {
      "cell_type": "markdown",
      "id": "DwdTd5m31hyu",
      "metadata": {
        "id": "DwdTd5m31hyu"
      },
      "source": [
        "This will install **NumPy**, one of the most widely-used packages for numerical computing in Python.\n",
        "\n",
        "To update a package to its latest version, use the `update` command:\n",
        "\n",
        "`conda update package_name`\n",
        "\n",
        "Conda has different channels (repositories) from which it can fetch packages. You can specify a channel explicitly if the package isn't available in the default channel:"
      ]
    },
    {
      "cell_type": "code",
      "execution_count": null,
      "id": "hONNeqkd124c",
      "metadata": {
        "id": "hONNeqkd124c"
      },
      "outputs": [],
      "source": [
        "!conda install -c conda-forge scikit-learn"
      ]
    },
    {
      "cell_type": "markdown",
      "id": "bUFlunmK14tE",
      "metadata": {
        "id": "bUFlunmK14tE"
      },
      "source": [
        "This installs **Scikit-Learn** (a machine learning library) from the **Conda-Forge** channel, which often has more up-to-date versions of packages."
      ]
    },
    {
      "cell_type": "markdown",
      "id": "vMfo7yb2u2Mv",
      "metadata": {
        "id": "vMfo7yb2u2Mv"
      },
      "source": [
        "## Using pip"
      ]
    },
    {
      "cell_type": "markdown",
      "id": "yBHNhArO1-_H",
      "metadata": {
        "id": "yBHNhArO1-_H"
      },
      "source": [
        "`pip` is the default package manager for Python. It installs packages from the Python Package Index (PyPI), which hosts thousands of Python packages for all sorts of applications.\n",
        "\n",
        "To install a package using `pip`, use the following command:\n",
        "\n",
        "`pip install package_name`\n",
        "\n",
        "This will install the package from PyPI. If the package is already installed, it will be reinstalled to ensure it is properly configured."
      ]
    },
    {
      "cell_type": "code",
      "execution_count": null,
      "id": "VSVnmaS92NYx",
      "metadata": {
        "id": "VSVnmaS92NYx"
      },
      "outputs": [],
      "source": [
        "!pip install requests"
      ]
    },
    {
      "cell_type": "markdown",
      "id": "5Z3C7AJh2YG-",
      "metadata": {
        "id": "5Z3C7AJh2YG-"
      },
      "source": [
        "This installs the **Requests** library, which simplifies making HTTP requests in Python.\n",
        "\n",
        "To update an already installed package to the latest version, use:"
      ]
    },
    {
      "cell_type": "code",
      "execution_count": null,
      "id": "xEksx66x2fGd",
      "metadata": {
        "id": "xEksx66x2fGd"
      },
      "outputs": [],
      "source": [
        "!pip install --upgrade matplotlib"
      ]
    },
    {
      "cell_type": "markdown",
      "id": "YqcyXCDt2i75",
      "metadata": {
        "id": "YqcyXCDt2i75"
      },
      "source": [
        "This updates the **Matplotlib** library (used for plotting and data visualization) to the latest version.\n",
        "\n",
        "You can also install a specific version of a package using `pip`:"
      ]
    },
    {
      "cell_type": "code",
      "execution_count": null,
      "id": "qvrsQvP12ojz",
      "metadata": {
        "id": "qvrsQvP12ojz"
      },
      "outputs": [],
      "source": [
        "!pip install numpy==1.21.0"
      ]
    },
    {
      "cell_type": "markdown",
      "id": "P7S6flTG2r6z",
      "metadata": {
        "id": "P7S6flTG2r6z"
      },
      "source": [
        "This installs **NumPy** version 1.21.0 instead of the latest version, which is useful for compatibility with certain projects."
      ]
    },
    {
      "cell_type": "markdown",
      "id": "_lg5S4C52xOi",
      "metadata": {
        "id": "_lg5S4C52xOi"
      },
      "source": [
        "## When to use `conda` vs `pip`"
      ]
    },
    {
      "cell_type": "markdown",
      "id": "VvAASS-A211h",
      "metadata": {
        "id": "VvAASS-A211h"
      },
      "source": [
        "Use `conda` when you are working with environments set up by Anaconda or Miniconda, especially if you are in data science, machine learning, or scientific computing where packages have complex dependencies (like **NumPy**, **SciPy**, and **TensorFlow**). Conda is often better at managing those dependencies.\n",
        "\n",
        "Use `pip` when you need access to packages that are not available in Conda's repositories or if you are working in a virtual environment outside of Conda. **Pip** has access to a larger variety of packages via PyPI."
      ]
    },
    {
      "cell_type": "markdown",
      "id": "5630d5db",
      "metadata": {
        "id": "5630d5db"
      },
      "source": [
        "# Using packages together"
      ]
    },
    {
      "cell_type": "code",
      "execution_count": null,
      "id": "b13e553e-ba93-4250-add0-7fafaf893cf2",
      "metadata": {
        "id": "b13e553e-ba93-4250-add0-7fafaf893cf2"
      },
      "outputs": [],
      "source": [
        "import matplotlib.pyplot as plt\n",
        "import numpy as np\n",
        "from matplotlib.patches import Ellipse\n",
        "\n",
        "print(np.__version__)\n",
        "print(f\"Matplotlib version: {plt.matplotlib.__version__}\")\n",
        "# Generate some sample data\n",
        "np.random.seed(43)\n",
        "x = np.random.normal(0, 1, 200)\n",
        "y = np.random.normal(0, 1, 200)\n",
        "\n",
        "# Create a scatter plot with ellipses using matplotlib\n",
        "fig, ax = plt.subplots(figsize=(8, 6))\n",
        "scatter = ax.scatter(x, y)\n",
        "\n",
        "# Add ellipses to the scatter plot\n",
        "for i in range(5):\n",
        "    ellipse = Ellipse(xy=(np.random.uniform(-2, 2), np.random.uniform(-2, 2)),\n",
        "                     width=np.random.uniform(0.5, 1.5),\n",
        "                     height=np.random.uniform(0.5, 1.5),\n",
        "                     angle=np.random.uniform(0, 360),\n",
        "                     edgecolor='r',\n",
        "                     fill=False)\n",
        "    ax.add_artist(ellipse)\n",
        "\n",
        "# Customize the plot\n",
        "ax.set_title('Scatter Plot with Ellipses')\n",
        "ax.set_xlabel('X')\n",
        "ax.set_ylabel('Y')\n",
        "ax.set_xlim([-3, 3])\n",
        "ax.set_ylim([-3, 3])\n",
        "ax.grid(True)\n",
        "\n",
        "plt.show()"
      ]
    },
    {
      "cell_type": "markdown",
      "id": "j81BPMMC4iZs",
      "metadata": {
        "id": "j81BPMMC4iZs"
      },
      "source": [
        "# Try-except blocks"
      ]
    },
    {
      "cell_type": "markdown",
      "id": "cX5pPmE74nDX",
      "metadata": {
        "id": "cX5pPmE74nDX"
      },
      "source": [
        "In Python, **exceptions** are errors that occur during the execution of a program. Common exceptions include trying to divide by zero, accessing a variable that hasn't been defined, or opening a file that doesn't exist. To prevent the program from crashing when an exception occurs, Python provides a way to handle errors gracefully using **try-except blocks**.\n",
        "\n",
        "The basic structure is:\n",
        "\n",
        "    try:\n",
        "      # Code that might raise an exception\n",
        "      risky_code()\n",
        "    except SomeException as e:\n",
        "      # Code that runs if the exception occurs\n",
        "      handle_the_error()"
      ]
    },
    {
      "cell_type": "markdown",
      "id": "HuHiuvHg5CaS",
      "metadata": {
        "id": "HuHiuvHg5CaS"
      },
      "source": [
        "\n",
        "*   **`try`**: Contains the code that might raise an exception.\n",
        "\n",
        "*   **`except`**: Defines how to handle specific exceptions if they occur.\n",
        "\n",
        "*   **Exception type**: You can specify the type of exception to handle specific errors (e.g., `ZeroDivisionError`, `FileNotFoundError`), or use a generic `Exception` to catch all errors.\n",
        "\n",
        "*   **Optional `finally`**: The code in the `finally` block runs no matter what, useful for cleanup actions (e.g., closing a file).\n",
        "\n",
        "Let's say we want to divide two numbers, but there's a risk of dividing by zero, which would cause an error. We can handle this using a `try-except` block:"
      ]
    },
    {
      "cell_type": "code",
      "execution_count": null,
      "id": "yGsxKyUC5ro9",
      "metadata": {
        "id": "yGsxKyUC5ro9"
      },
      "outputs": [],
      "source": [
        "def safe_division(a, b):\n",
        "    try:\n",
        "        result = a / b\n",
        "        print(f\"Result: {result}\")\n",
        "    except ZeroDivisionError:\n",
        "        print(\"Error: Cannot divide by zero!\")\n",
        "\n",
        "# Test the function\n",
        "safe_division(10, 2)  # This works fine\n",
        "safe_division(10, 0)  # This triggers the exception"
      ]
    },
    {
      "cell_type": "markdown",
      "id": "EbcgeuVA5usm",
      "metadata": {
        "id": "EbcgeuVA5usm"
      },
      "source": [
        "Here, the `try` block runs the division, but if `b` is zero, the `except ZeroDivisionError` block catches the error and prints a user-friendly message.\n",
        "\n",
        "If you try to open a file that doesn't exist, Python raises a `FileNotFoundError`. You can use `try-except` to handle this case:"
      ]
    },
    {
      "cell_type": "code",
      "execution_count": null,
      "id": "fQkUvkBj55QY",
      "metadata": {
        "id": "fQkUvkBj55QY"
      },
      "outputs": [],
      "source": [
        "try:\n",
        "    with open('data.txt', 'r') as file:\n",
        "        data = file.read()\n",
        "except FileNotFoundError:\n",
        "    print(\"Error: The file was not found!\")"
      ]
    },
    {
      "cell_type": "markdown",
      "id": "XgsRUj7t59Gn",
      "metadata": {
        "id": "XgsRUj7t59Gn"
      },
      "source": [
        "If the file `data.txt` doesn't exist, instead of the program crashing, it will print an error message.\n",
        "\n",
        "Sometimes, you might want to handle different types of errors separately. Here's an example where we handle both `FileNotFoundError` and `ZeroDivisionError`:"
      ]
    },
    {
      "cell_type": "code",
      "execution_count": null,
      "id": "WOVXWOIk6HCK",
      "metadata": {
        "id": "WOVXWOIk6HCK"
      },
      "outputs": [],
      "source": [
        "try:\n",
        "    with open('experiment_data.txt', 'r') as file:\n",
        "        data = file.read()\n",
        "\n",
        "    # Assume we read some numbers and now want to perform a division\n",
        "    num_cells = int(data)\n",
        "    concentration = 500 / num_cells\n",
        "\n",
        "except FileNotFoundError:\n",
        "    print(\"Error: The file was not found!\")\n",
        "except ZeroDivisionError:\n",
        "    print(\"Error: Cannot divide by zero! Check your data.\")"
      ]
    },
    {
      "cell_type": "markdown",
      "id": "tmf_bwfd6J2s",
      "metadata": {
        "id": "tmf_bwfd6J2s"
      },
      "source": [
        "This code handles two possible errors: one where the file is missing and another where the file contains data that results in a division by zero.\n",
        "\n",
        "The `finally` block is always executed, whether an exception occurs or not. It's useful for cleanup actions, like closing a file or releasing resources:"
      ]
    },
    {
      "cell_type": "code",
      "execution_count": null,
      "id": "nvvjWwN_6O5f",
      "metadata": {
        "id": "nvvjWwN_6O5f"
      },
      "outputs": [],
      "source": [
        "try:\n",
        "    file = open('data.txt', 'r')\n",
        "    data = file.read()\n",
        "except FileNotFoundError:\n",
        "    print(\"Error: The file was not found!\")\n",
        "finally:\n",
        "    file.close()  # This will always run, even if an error occurs\n",
        "    print(\"File closed.\")"
      ]
    },
    {
      "cell_type": "markdown",
      "source": [
        "# Exercises"
      ],
      "metadata": {
        "id": "Q953lM9AFWoK"
      },
      "id": "Q953lM9AFWoK"
    },
    {
      "cell_type": "markdown",
      "id": "3a9203aa",
      "metadata": {
        "id": "3a9203aa"
      },
      "source": [
        "## 🧪 Exercise: Installing and Using a Package\n",
        "\n",
        "Install the `emoji` package and use it to print a message with an emoji.\n",
        "\n",
        "📝 *Hint*: Use the [Emoji Cheat Sheet](https://www.webfx.com/tools/emoji-cheat-sheet/)."
      ]
    },
    {
      "cell_type": "code",
      "source": [
        "# Your solution here."
      ],
      "metadata": {
        "id": "5v72W9OhFljA"
      },
      "id": "5v72W9OhFljA",
      "execution_count": null,
      "outputs": []
    },
    {
      "cell_type": "markdown",
      "source": [
        "### Solution"
      ],
      "metadata": {
        "id": "B1AjJhqFFnkF"
      },
      "id": "B1AjJhqFFnkF"
    },
    {
      "cell_type": "code",
      "source": [
        "# Step 1: Install the package (uncomment the line below if you're running this in Colab or your own environment)\n",
        "!pip install emoji\n",
        "\n",
        "# Step 2: Import and use the package\n",
        "import emoji\n",
        "\n",
        "print(emoji.emojize(\"Python is fun! :snake:\", language='alias'))"
      ],
      "metadata": {
        "id": "pfXENUDdFqSR"
      },
      "id": "pfXENUDdFqSR",
      "execution_count": null,
      "outputs": []
    },
    {
      "cell_type": "markdown",
      "id": "db803e04",
      "metadata": {
        "id": "db803e04"
      },
      "source": [
        "## ⚠️ Exercise: Handling Errors with Try/Except\n",
        "\n",
        "Write a block of code that attempts to convert user input into an integer. If the input is not a valid number, catch the error and print a friendly message.\n",
        "\n",
        "📝 *Bonus*: Extend the `try` block to include a calculation, like dividing 100 by the number, and catch a `ZeroDivisionError` too."
      ]
    },
    {
      "cell_type": "code",
      "source": [
        "# Your solution here."
      ],
      "metadata": {
        "id": "N_xrQqW4GACv"
      },
      "id": "N_xrQqW4GACv",
      "execution_count": null,
      "outputs": []
    },
    {
      "cell_type": "markdown",
      "source": [
        "### Solution"
      ],
      "metadata": {
        "id": "IaMoK1UHGCJx"
      },
      "id": "IaMoK1UHGCJx"
    },
    {
      "cell_type": "code",
      "source": [
        "# Step 1: Get input from the user\n",
        "user_input = input(\"Enter a number: \")\n",
        "\n",
        "# Step 2: Try to convert it to an integer and handle exceptions\n",
        "try:\n",
        "    number = int(user_input)\n",
        "    print(\"You entered:\", number)\n",
        "except ValueError:\n",
        "    print(\"Oops! That wasn't a valid number. Please try again.\")"
      ],
      "metadata": {
        "id": "-GraYlwaGEXp"
      },
      "id": "-GraYlwaGEXp",
      "execution_count": null,
      "outputs": []
    }
  ],
  "metadata": {
    "colab": {
      "provenance": [],
      "toc_visible": true
    },
    "kernelspec": {
      "display_name": "teaching_env",
      "language": "python",
      "name": "python3"
    },
    "language_info": {
      "codemirror_mode": {
        "name": "ipython",
        "version": 3
      },
      "file_extension": ".py",
      "mimetype": "text/x-python",
      "name": "python",
      "nbconvert_exporter": "python",
      "pygments_lexer": "ipython3",
      "version": "3.12.6"
    }
  },
  "nbformat": 4,
  "nbformat_minor": 5
}