{
  "nbformat": 4,
  "nbformat_minor": 0,
  "metadata": {
    "colab": {
      "provenance": []
    },
    "kernelspec": {
      "name": "python3",
      "display_name": "Python 3"
    },
    "language_info": {
      "name": "python"
    }
  },
  "cells": [
    {
      "cell_type": "markdown",
      "source": [
        "In Python, **functions** allow us to encapsulate code into reusable blocks. This is especially useful for repetitive tasks, such as calculating values or analyzing datasets.\n",
        "\n",
        "A **function** takes inputs (known as arguments or parameters, depending on context), performs some computation or action, and can return a result. Functions help to organize your code, avoid repetition, and make complex programs easier to manage."
      ],
      "metadata": {
        "id": "0DMnr83AyYmJ"
      }
    },
    {
      "cell_type": "markdown",
      "source": [
        "# Defining a simple function to calculate BMI"
      ],
      "metadata": {
        "id": "H1Ha4wMoyyGm"
      }
    },
    {
      "cell_type": "markdown",
      "source": [
        "Let’s start with a simple function to calculate Body Mass Index (BMI)."
      ],
      "metadata": {
        "id": "QpB1MxKuy0os"
      }
    },
    {
      "cell_type": "code",
      "execution_count": null,
      "metadata": {
        "id": "k4DWcSH-yXya"
      },
      "outputs": [],
      "source": [
        "wt = 70  # in kilograms\n",
        "ht = 1.75  # in meters\n",
        "bmi = calculate_bmi(wt, ht)\n",
        "\n",
        "# Define a function to calculate BMI\n",
        "def calculate_bmi(weight, height):\n",
        "    bmi = weight / (height ** 2)\n",
        "    return bmi\n",
        "\n",
        "# Using the function to calculate BMI\n",
        "\n",
        "print(\"BMI:\", bmi)"
      ]
    },
    {
      "cell_type": "markdown",
      "source": [
        "We define a function called `calculate_bmi()` that takes two parameters: `weight` and `height`. The function returns the BMI, which is calculated as weight divided by the square of the height."
      ],
      "metadata": {
        "id": "XykqtKRfy7O3"
      }
    },
    {
      "cell_type": "markdown",
      "source": [
        "# Function with multiple return values"
      ],
      "metadata": {
        "id": "prTopkF7zwtl"
      }
    },
    {
      "cell_type": "markdown",
      "source": [
        "Let’s write a function that calculates the length of a DNA sequence and its GC content (the percentage of G and C nucleotides in the sequence)."
      ],
      "metadata": {
        "id": "GPE8_oq0zzIa"
      }
    },
    {
      "cell_type": "code",
      "source": [
        "# Define a function to calculate DNA length and GC content\n",
        "def analyze_dna(sequence):\n",
        "    length = len(sequence)\n",
        "    gc_content = (sequence.count('G') + sequence.count('C')) / length * 100\n",
        "\n",
        "    return length, gc_content\n",
        "\n",
        "# Using the function\n",
        "dna_sequence = \"ATGCGCGTA\"\n",
        "length, gc_content = analyze_dna(dna_sequence)\n",
        "print(f\"Length: {length}, GC Content: {gc_content:.3f}%\")"
      ],
      "metadata": {
        "id": "9_5RSD50z0ym",
        "colab": {
          "base_uri": "https://localhost:8080/"
        },
        "outputId": "c2d479a8-09bb-49d8-9d49-84bd1db496bc"
      },
      "execution_count": null,
      "outputs": [
        {
          "output_type": "stream",
          "name": "stdout",
          "text": [
            "Length: 9, GC Content: 55.556%\n"
          ]
        }
      ]
    },
    {
      "cell_type": "markdown",
      "source": [
        "The function `analyze_dna()` returns two values: the length of the sequence and its GC content. The `return` statement can pass multiple values back to the caller, which can be stored in multiple variables."
      ],
      "metadata": {
        "id": "Yt3w6kG_z2vf"
      }
    },
    {
      "cell_type": "markdown",
      "source": [
        "# The `return` statement"
      ],
      "metadata": {
        "id": "9FF-D3kUz93X"
      }
    },
    {
      "cell_type": "markdown",
      "source": [
        "The `return` statement is used in functions to send a value back to the part of the program where the function was called. When a `return` statement is executed, it ends the function and provides the specified value (or values) as the output of that function.\n",
        "\n",
        "Key points about the return statement:\n",
        "\n",
        "*   It **terminates** the function's execution.\n",
        "*   It sends back a **value or result** from the function to the caller.\n",
        "*   If a function doesn't have a `return` statement, it returns `None` by default."
      ],
      "metadata": {
        "id": "eH0LomSo0A26"
      }
    },
    {
      "cell_type": "code",
      "source": [
        "def add_numbers(a, b):\n",
        "    result = a + b\n",
        "    return result  # This sends the result back to where the function was called\n",
        "\n",
        "sum_value = add_numbers(5, 3)  # sum_value will be assigned the value returned by the function (8)\n",
        "print(sum_value)  # Output: 8"
      ],
      "metadata": {
        "id": "7uHUw4CM0VNf"
      },
      "execution_count": null,
      "outputs": []
    },
    {
      "cell_type": "markdown",
      "source": [
        "You can also return multiple values:"
      ],
      "metadata": {
        "id": "uEIcpmQF0bD5"
      }
    },
    {
      "cell_type": "code",
      "source": [
        "def divide_and_remainder(a, b):\n",
        "    quotient = a // b\n",
        "    remainder = a % b\n",
        "    return quotient, remainder  # Returns both values as a tuple\n",
        "\n",
        "q, r = divide_and_remainder(10, 3)\n",
        "print(\"Quotient:\", q)  # Output: 3\n",
        "print(\"Remainder:\", r)  # Output: 1"
      ],
      "metadata": {
        "id": "AmI_i1zX0blH"
      },
      "execution_count": null,
      "outputs": []
    },
    {
      "cell_type": "markdown",
      "source": [
        "In summary, the `return` statement allows you to pass the result of a function back to the caller, enabling functions to be useful components of more complex programs."
      ],
      "metadata": {
        "id": "c91-Jbcy0eJm"
      }
    },
    {
      "cell_type": "markdown",
      "source": [
        "# Function with default parameters"
      ],
      "metadata": {
        "id": "_LadSqlS0ivu"
      }
    },
    {
      "cell_type": "markdown",
      "source": [
        "You might want to set default values for some parameters. For example, you might have a function that estimates enzyme activity at different temperatures, but the default temperature is 37°C if no other value is provided."
      ],
      "metadata": {
        "id": "1P7T9HdT0lU7"
      }
    },
    {
      "cell_type": "code",
      "source": [
        "# Define a function with a default temperature parameter\n",
        "def enzyme_activity(substrate_concentration, temperature=37):\n",
        "    return substrate_concentration * (temperature / 37)\n",
        "\n",
        "# Using the function with and without specifying temperature\n",
        "activity_at_default_temp = enzyme_activity(100)  # Default temperature\n",
        "activity_at_45_degrees = enzyme_activity(100, 45)  # Specified temperature\n",
        "\n",
        "print(f\"Activity at 37°C: {activity_at_default_temp}\")\n",
        "print(f\"Activity at 45°C: {activity_at_45_degrees}\")"
      ],
      "metadata": {
        "id": "dDnHHv2O0sa8"
      },
      "execution_count": null,
      "outputs": []
    },
    {
      "cell_type": "markdown",
      "source": [
        "The function `enzyme_activity()` uses a default value for `temperature` (37°C). If the user doesn't provide a temperature, the default is used. If a temperature is provided, it overrides the default."
      ],
      "metadata": {
        "id": "5epfF_Bs0taq"
      }
    },
    {
      "cell_type": "markdown",
      "source": [
        "# Positional vs keyword arguments"
      ],
      "metadata": {
        "id": "Ub76IFLa01MD"
      }
    },
    {
      "cell_type": "markdown",
      "source": [
        "**Positional arguments** and **keyword arguments** are two ways to pass values to a function."
      ],
      "metadata": {
        "id": "xFfwKzH803eb"
      }
    },
    {
      "cell_type": "markdown",
      "source": [
        "## Positional arguments"
      ],
      "metadata": {
        "id": "5E1Mbvrp0_I6"
      }
    },
    {
      "cell_type": "markdown",
      "source": [
        "These are arguments that are **passed in the correct order** based on the function's parameters. The function assigns values to parameters based on their **position** in the function call."
      ],
      "metadata": {
        "id": "SnNWAxjY1AtS"
      }
    },
    {
      "cell_type": "code",
      "source": [
        "def describe_gene(name, length):\n",
        "    print(f\"The gene {name} is {length} base pairs long.\")\n",
        "\n",
        "# Using positional arguments\n",
        "describe_gene(\"BRCA1\", 81000)  # \"BRCA1\" is assigned to 'name' and 81000 to 'length'"
      ],
      "metadata": {
        "id": "f1vru8wQ1JeR"
      },
      "execution_count": null,
      "outputs": []
    },
    {
      "cell_type": "markdown",
      "source": [
        "## Keyword arguments"
      ],
      "metadata": {
        "id": "EXoEvJS61L-j"
      }
    },
    {
      "cell_type": "markdown",
      "source": [
        "These are arguments passed by **explicitly naming the parameter** and assigning a value to it. The order of keyword arguments doesn't matter because each value is linked to its parameter by name."
      ],
      "metadata": {
        "id": "RRQJc-IZ1Nuz"
      }
    },
    {
      "cell_type": "code",
      "source": [
        "# Using keyword arguments\n",
        "describe_gene(name=\"BRCA1\", length=81000)  # The order can be changed\n",
        "describe_gene(length=81000, name=\"BRCA1\")"
      ],
      "metadata": {
        "id": "Gq7La0Zy1UqT"
      },
      "execution_count": null,
      "outputs": []
    },
    {
      "cell_type": "markdown",
      "source": [
        "## Combining positional and keyword arguments"
      ],
      "metadata": {
        "id": "WKzbE51F1WX8"
      }
    },
    {
      "cell_type": "markdown",
      "source": [
        "You can use both positional and keyword arguments together, but positional arguments must always come **before** keyword arguments in a function call."
      ],
      "metadata": {
        "id": "iWRDfVwE1aSy"
      }
    },
    {
      "cell_type": "code",
      "source": [
        "# Combining positional and keyword arguments\n",
        "describe_gene(\"TP53\", length=20000)  # \"TP53\" is passed as a positional argument, length is a keyword argument"
      ],
      "metadata": {
        "id": "1oFgibeg1gcP"
      },
      "execution_count": null,
      "outputs": []
    },
    {
      "cell_type": "markdown",
      "source": [
        "# Exercises"
      ],
      "metadata": {
        "id": "EWI_ZFif1jIy"
      }
    },
    {
      "cell_type": "markdown",
      "source": [
        "## Exercise 1: Calculating Basal Metabolic Rate (BMR)"
      ],
      "metadata": {
        "id": "dStenj2w1qVM"
      }
    },
    {
      "cell_type": "markdown",
      "source": [
        "Write a function to calculate Basal Metabolic Rate (BMR) using [the Harris-Benedict equation](https://en.wikipedia.org/wiki/Harris%E2%80%93Benedict_equation).\n",
        "\n",
        "The function should take as inputs the weight (kg), height (cm), age (years), and sex (as a string, either \"male\" or \"female\") and return the calculated BMR."
      ],
      "metadata": {
        "id": "lFs9laEP1u_J"
      }
    },
    {
      "cell_type": "code",
      "source": [
        "# Your answer here"
      ],
      "metadata": {
        "id": "UJSIul2X3PpB"
      },
      "execution_count": null,
      "outputs": []
    },
    {
      "cell_type": "markdown",
      "source": [
        "### Solution"
      ],
      "metadata": {
        "id": "3nTGhSAW1zYN"
      }
    },
    {
      "cell_type": "code",
      "source": [
        "# Solution\n",
        "def calculate_bmr(weight, height, age, sex):\n",
        "    if sex == \"male\":\n",
        "        bmr = 88.362 + (13.397 * weight) + (4.799 * height) - (5.677 * age)\n",
        "    else:\n",
        "        bmr = 447.593 + (9.247 * weight) + (3.098 * height) - (4.330 * age)\n",
        "    return bmr\n",
        "\n",
        "# Example usage\n",
        "weight = 70  # in kg\n",
        "height = 175  # in cm\n",
        "age = 30  # in years\n",
        "sex = \"male\"\n",
        "\n",
        "bmr = calculate_bmr(weight, height, age, sex)\n",
        "print(\"BMR:\", bmr)"
      ],
      "metadata": {
        "id": "k2lOwZvM2Qjr"
      },
      "execution_count": null,
      "outputs": []
    },
    {
      "cell_type": "markdown",
      "source": [
        "## Exercise 2: Converting Fahrenheit to Celsius"
      ],
      "metadata": {
        "id": "FzrZ1-F92TN4"
      }
    },
    {
      "cell_type": "markdown",
      "source": [
        "Write a function called `fahrenheit_to_celsius()` that takes a temperature in Fahrenheit and returns the temperature in Celsius."
      ],
      "metadata": {
        "id": "MeG1znRP2Wni"
      }
    },
    {
      "cell_type": "code",
      "source": [
        "# Your answer here"
      ],
      "metadata": {
        "id": "nyfU_N4T3RwG"
      },
      "execution_count": null,
      "outputs": []
    },
    {
      "cell_type": "markdown",
      "source": [
        "### Solution"
      ],
      "metadata": {
        "id": "19fNAsKT2Z2K"
      }
    },
    {
      "cell_type": "code",
      "source": [
        "# Solution\n",
        "def fahrenheit_to_celsius(fahrenheit):\n",
        "    return (5 / 9) * (fahrenheit - 32)\n",
        "\n",
        "# Example usage\n",
        "fahrenheit = 98.6\n",
        "celsius = fahrenheit_to_celsius(fahrenheit)\n",
        "print(f\"Temperature in Celsius: {celsius:.2f}\")"
      ],
      "metadata": {
        "id": "JkzwPiKS2Zdz"
      },
      "execution_count": null,
      "outputs": []
    },
    {
      "cell_type": "markdown",
      "source": [
        "## Exercise 3: Finding the maximum value in a list"
      ],
      "metadata": {
        "id": "7lnlUpgP2dXQ"
      }
    },
    {
      "cell_type": "markdown",
      "source": [
        "Write a function called `find_max()` that takes a list of numbers and returns the maximum value."
      ],
      "metadata": {
        "id": "AKD5vfWZ2gVX"
      }
    },
    {
      "cell_type": "code",
      "source": [
        "# Your answer here"
      ],
      "metadata": {
        "id": "LP8TAgYV3T4N"
      },
      "execution_count": null,
      "outputs": []
    },
    {
      "cell_type": "markdown",
      "source": [
        "### Solution"
      ],
      "metadata": {
        "id": "WIBQ6aV32qiE"
      }
    },
    {
      "cell_type": "code",
      "source": [
        "# Solution\n",
        "def find_max(numbers):\n",
        "    max_value = numbers[0]\n",
        "    for number in numbers[1:]:\n",
        "        if number > max_value:\n",
        "            max_value = number\n",
        "    return max_value\n",
        "\n",
        "# Example usage\n",
        "values = [3, 7, 2, 8, 1]\n",
        "max_value = find_max(values)\n",
        "print(\"Maximum value:\", max_value)"
      ],
      "metadata": {
        "id": "0nMFVTxm2mK9"
      },
      "execution_count": null,
      "outputs": []
    },
    {
      "cell_type": "markdown",
      "source": [
        "## Exercise 4: Counting occurrences of nucleotides in a DNA sequence"
      ],
      "metadata": {
        "id": "IZD2hl012pd-"
      }
    },
    {
      "cell_type": "markdown",
      "source": [
        "Write a function called `count_nucleotides()` that takes a DNA sequence as input and returns a dictionary with the count of each nucleotide (A, T, C, G)."
      ],
      "metadata": {
        "id": "STXEyOJd2wOA"
      }
    },
    {
      "cell_type": "code",
      "source": [
        "# Your answer here"
      ],
      "metadata": {
        "id": "1ye2HKre3VeN"
      },
      "execution_count": null,
      "outputs": []
    },
    {
      "cell_type": "markdown",
      "source": [
        "### Hint"
      ],
      "metadata": {
        "id": "Ta_oY_Tu20Dw"
      }
    },
    {
      "cell_type": "markdown",
      "source": [
        "You can use the `count()` method for strings inside the function."
      ],
      "metadata": {
        "id": "RghnCUb121BK"
      }
    },
    {
      "cell_type": "markdown",
      "source": [
        "### Solution"
      ],
      "metadata": {
        "id": "ZU5PnSQf23tM"
      }
    },
    {
      "cell_type": "code",
      "source": [
        "# Solution\n",
        "def count_nucleotides(sequence):\n",
        "    counts = {\n",
        "        'A': sequence.count('A'),\n",
        "        'T': sequence.count('T'),\n",
        "        'C': sequence.count('C'),\n",
        "        'G': sequence.count('G')\n",
        "    }\n",
        "    return counts\n",
        "\n",
        "# Example usage\n",
        "dna_sequence = \"ATGCGATCGATGCTA\"\n",
        "nucleotide_counts = count_nucleotides(dna_sequence)\n",
        "print(\"Nucleotide counts:\", nucleotide_counts)"
      ],
      "metadata": {
        "id": "K8y2YLKA26rw"
      },
      "execution_count": null,
      "outputs": []
    },
    {
      "cell_type": "markdown",
      "source": [
        "# Summary"
      ],
      "metadata": {
        "id": "qZO5tccJ4H10"
      }
    },
    {
      "cell_type": "markdown",
      "source": [
        "\n",
        "1.   **Function definition:** Functions are defined using the `def` keyword, followed by the function name and parameters in parentheses.\n",
        "\n",
        "2.   **Function call:** Functions are called by using the function name followed by parentheses containing arguments.\n",
        "3.   **Return values:** Functions can return values using the `return` keyword. They can return one or multiple values.\n",
        "4.   **Default parameters:** Functions can have default values for parameters, which are used if no argument is provided.\n",
        "5.   **Reusability:** Functions allow you to write clean, reusable code, making your programs more organized and efficient."
      ],
      "metadata": {
        "id": "H5EESTDa4JkU"
      }
    }
  ]
}