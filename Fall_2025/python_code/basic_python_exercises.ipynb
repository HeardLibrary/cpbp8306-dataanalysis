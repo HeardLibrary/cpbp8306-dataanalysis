{
  "nbformat": 4,
  "nbformat_minor": 0,
  "metadata": {
    "colab": {
      "provenance": []
    },
    "kernelspec": {
      "name": "python3",
      "display_name": "Python 3"
    },
    "language_info": {
      "name": "python"
    }
  },
  "cells": [
    {
      "cell_type": "markdown",
      "source": [
        "Welcome to this Python exercise set! These tasks will help you practice the basics of Python programming, from variables and simple arithmetic to control structures, loops, and file handling. Each exercise is designed to be completed in a few minutes, with helpful hints along the way.\n",
        "\n",
        "Let’s get started!"
      ],
      "metadata": {
        "id": "SdbB1C2C8F8i"
      }
    },
    {
      "cell_type": "markdown",
      "source": [
        "# Exercise 1: Variables, data types, and basic arithmetic"
      ],
      "metadata": {
        "id": "FyQr5WlM8HFd"
      }
    },
    {
      "cell_type": "markdown",
      "source": [
        "We'll begin by working with basic variables and arithmetic.\n",
        "\n",
        "**Task:**\n",
        "\n",
        "1.   Create two variables, `a` and `b`, and assign them any integer values.\n",
        "2.   Print the result of adding, subtracting, multiplying, and dividing `a` and `b`.\n",
        "3.   Use an if statement to print whether `a` is greater than `b`.\n",
        "\n"
      ],
      "metadata": {
        "id": "NQIdJmod8KcO"
      }
    },
    {
      "cell_type": "markdown",
      "source": [
        "## Hint"
      ],
      "metadata": {
        "id": "vSVBvXVM8lR9"
      }
    },
    {
      "cell_type": "markdown",
      "source": [
        "Use `if` and `else` to control the output based on a condition. Don’t forget to indent!"
      ],
      "metadata": {
        "id": "T1oYmWFj8mpM"
      }
    },
    {
      "cell_type": "markdown",
      "source": [
        "## Solution"
      ],
      "metadata": {
        "id": "xDb6n7x48qVj"
      }
    },
    {
      "cell_type": "code",
      "execution_count": null,
      "metadata": {
        "id": "qMHj9viU8BRF"
      },
      "outputs": [],
      "source": [
        "a = 7\n",
        "b = 3\n",
        "print(a + b)\n",
        "print(a - b)\n",
        "print(a * b)\n",
        "print(a / b)\n",
        "if a > b:\n",
        "    print(\"a is greater than b\")\n",
        "else:\n",
        "    print(\"a is not greater than b\")"
      ]
    },
    {
      "cell_type": "markdown",
      "source": [
        "# Exercise 2: Lists and loops"
      ],
      "metadata": {
        "id": "NJOiYSqp8w41"
      }
    },
    {
      "cell_type": "markdown",
      "source": [
        "Now, let's work with lists and loops to iterate through data.\n",
        "\n",
        "**Task:**\n",
        "\n",
        "1.   Create a list of five of your favorite fruits.\n",
        "2.   Use a `for` loop to print each fruit.\n",
        "3.   Use an if statement inside the loop to print \"I love this one!\" when you reach your favorite fruit."
      ],
      "metadata": {
        "id": "xO-UFnM-80aI"
      }
    },
    {
      "cell_type": "markdown",
      "source": [
        "## Hint"
      ],
      "metadata": {
        "id": "MatYpLdX9HZS"
      }
    },
    {
      "cell_type": "markdown",
      "source": [
        "A `for` loop allows you to iterate through each item in a list. Use `==` to compare values in an if statement."
      ],
      "metadata": {
        "id": "iVSgOSbr9IiJ"
      }
    },
    {
      "cell_type": "markdown",
      "source": [
        "## Solution"
      ],
      "metadata": {
        "id": "t7hNEI7R9OKB"
      }
    },
    {
      "cell_type": "code",
      "source": [
        "fruits = [\"apple\", \"banana\", \"cherry\", \"mango\", \"grape\"]\n",
        "for fruit in fruits:\n",
        "    if fruit == \"mango\":\n",
        "        print(fruit, \"- I love this one!\")\n",
        "    else:\n",
        "        print(fruit)"
      ],
      "metadata": {
        "id": "s21QUB0d9Nm-"
      },
      "execution_count": null,
      "outputs": []
    },
    {
      "cell_type": "markdown",
      "source": [
        "# Exercise 3: Dictionaries and loops"
      ],
      "metadata": {
        "id": "l-2d2Vk89STb"
      }
    },
    {
      "cell_type": "markdown",
      "source": [
        "Dictionaries allow you to store key-value pairs. Let's practice accessing and modifying these pairs.\n",
        "\n",
        "Task:\n",
        "\n",
        "1.   Create a dictionary with three key-value pairs. Use a person's name as the key and their age as the value for each pair.\n",
        "2.   Loop through the dictionary to print out each person's name and age.\n",
        "3.   Modify the dictionary to add a new person and their age."
      ],
      "metadata": {
        "id": "lqBBq0Kj9VYi"
      }
    },
    {
      "cell_type": "markdown",
      "source": [
        "## Hint"
      ],
      "metadata": {
        "id": "Uqgh-QwN9kgj"
      }
    },
    {
      "cell_type": "markdown",
      "source": [
        "Use [`.items()`](https://www.w3schools.com/python/ref_dictionary_items.asp) to loop through both the keys and values of a dictionary."
      ],
      "metadata": {
        "id": "yIpHwcq89lnb"
      }
    },
    {
      "cell_type": "markdown",
      "source": [
        "## Solution"
      ],
      "metadata": {
        "id": "TpK1g6r094-e"
      }
    },
    {
      "cell_type": "code",
      "source": [
        "people = {\"Alice\": 30, \"Bob\": 25, \"Charlie\": 35}\n",
        "\n",
        "for person in people:\n",
        "  print(person, people[person])\n",
        "\n",
        "people[\"Dave\"] = 40\n",
        "print(people)"
      ],
      "metadata": {
        "id": "qL9_x_Qv96ZU",
        "colab": {
          "base_uri": "https://localhost:8080/"
        },
        "outputId": "e6e7b4d0-1eb0-444d-c3ac-7109936c9c1b"
      },
      "execution_count": null,
      "outputs": [
        {
          "output_type": "stream",
          "name": "stdout",
          "text": [
            "Alice 30\n",
            "Bob 25\n",
            "Charlie 35\n",
            "{'Alice': 30, 'Bob': 25, 'Charlie': 35, 'Dave': 40}\n"
          ]
        }
      ]
    },
    {
      "cell_type": "markdown",
      "source": [
        "# Exercise 4: Functions"
      ],
      "metadata": {
        "id": "QN59daun9-jn"
      }
    },
    {
      "cell_type": "markdown",
      "source": [
        "Functions help you organize code into reusable blocks. Let's create one!\n",
        "\n",
        "**Task:**\n",
        "\n",
        "1.   Define a function `multiply_numbers` that takes two arguments, `x` and `y`.\n",
        "2.   Inside the function, return the product of `x` and `y`.\n",
        "3.   Call the function with two numbers and print the result."
      ],
      "metadata": {
        "id": "y7ouPWiC-BQz"
      }
    },
    {
      "cell_type": "markdown",
      "source": [
        "## Hint"
      ],
      "metadata": {
        "id": "0gFiLEgU-WQQ"
      }
    },
    {
      "cell_type": "markdown",
      "source": [
        "Use the `def` keyword to define a function, and `return` to send a value back from the function."
      ],
      "metadata": {
        "id": "lTBclndF-Xi1"
      }
    },
    {
      "cell_type": "markdown",
      "source": [
        "## Solution"
      ],
      "metadata": {
        "id": "2S4FHUPK-bEQ"
      }
    },
    {
      "cell_type": "code",
      "source": [
        "def multiply_numbers(x, y):\n",
        "    return x * y\n",
        "\n",
        "result = multiply_numbers(4, 5)\n",
        "print(result)"
      ],
      "metadata": {
        "id": "ovFwLCjC-c4G",
        "colab": {
          "base_uri": "https://localhost:8080/"
        },
        "outputId": "94be3df1-e4ef-46a4-8ade-ab9324f34e8c"
      },
      "execution_count": null,
      "outputs": [
        {
          "output_type": "stream",
          "name": "stdout",
          "text": [
            "20\n"
          ]
        }
      ]
    },
    {
      "cell_type": "markdown",
      "source": [
        "# Exercise 5: Importing functions"
      ],
      "metadata": {
        "id": "ANRRjx2i-fYP"
      }
    },
    {
      "cell_type": "markdown",
      "source": [
        "Sometimes, you'll want to reuse code from other Python files or modules. Let's practice importing and using functions from built-in Python libraries.\n",
        "\n",
        "**Task:**\n",
        "\n",
        "1.   Import the `math` module.\n",
        "2.   Use the `math.sqrt()` function to calculate and print the square root of a number."
      ],
      "metadata": {
        "id": "qJoFuSRw-kuT"
      }
    },
    {
      "cell_type": "markdown",
      "source": [
        "## Hint"
      ],
      "metadata": {
        "id": "kHL0mirK-v8-"
      }
    },
    {
      "cell_type": "markdown",
      "source": [
        "The math module contains many useful functions like `sqrt` for square roots and `pow` for exponentiation."
      ],
      "metadata": {
        "id": "zh7puUYi-xHi"
      }
    },
    {
      "cell_type": "markdown",
      "source": [
        "## Solution"
      ],
      "metadata": {
        "id": "nF5pThVr-1Ad"
      }
    },
    {
      "cell_type": "code",
      "source": [
        "import math\n",
        "print(math.sqrt(16))"
      ],
      "metadata": {
        "id": "EORVUIRc-3BH",
        "colab": {
          "base_uri": "https://localhost:8080/"
        },
        "outputId": "3052ebc7-e4e5-44b4-bf5a-5cd706f47ac4"
      },
      "execution_count": null,
      "outputs": [
        {
          "output_type": "stream",
          "name": "stdout",
          "text": [
            "4.0\n"
          ]
        }
      ]
    },
    {
      "cell_type": "markdown",
      "source": [
        "# Exercise 6: Reading from and writing to files"
      ],
      "metadata": {
        "id": "7MaC6RcU-4lm"
      }
    },
    {
      "cell_type": "markdown",
      "source": [
        "Working with files is an essential part of programming. Let's practice reading and writing data to a file.\n",
        "\n",
        "Task:\n",
        "\n",
        "1.   Use Python to create a text file called `my_data.txt` and write three lines of text to it.\n",
        "2.   Read the contents of the file and print each line."
      ],
      "metadata": {
        "id": "Ew3h8vtt-8B_"
      }
    },
    {
      "cell_type": "markdown",
      "source": [
        "## Hint"
      ],
      "metadata": {
        "id": "go2MTtbf_HYU"
      }
    },
    {
      "cell_type": "markdown",
      "source": [
        "Use `open()` with mode `\"w\"` for writing and `\"r\"` for reading. Remember to use `.strip()` to remove extra whitespace or newline characters when printing lines from the file."
      ],
      "metadata": {
        "id": "MIxSfk2L_Ibx"
      }
    },
    {
      "cell_type": "markdown",
      "source": [
        "## Solution"
      ],
      "metadata": {
        "id": "R0CKl0IO_QYa"
      }
    },
    {
      "cell_type": "code",
      "source": [
        "# Writing to a file\n",
        "with open(\"my_data.txt\", \"w\") as file:\n",
        "    file.write(\"First line\\n\")\n",
        "    file.write(\"Second line\\n\")\n",
        "    file.write(\"Third line\\n\")\n",
        "\n",
        "# Reading from a file\n",
        "with open(\"my_data.txt\", \"r\") as file:\n",
        "    for line in file:\n",
        "        print(line.strip())"
      ],
      "metadata": {
        "id": "XSJYG3m4_R3D",
        "colab": {
          "base_uri": "https://localhost:8080/"
        },
        "outputId": "9472f8df-1342-439b-93f9-9ccd4a80531d"
      },
      "execution_count": null,
      "outputs": [
        {
          "output_type": "stream",
          "name": "stdout",
          "text": [
            "First line\n",
            "Second line\n",
            "Third line\n"
          ]
        }
      ]
    }
  ]
}