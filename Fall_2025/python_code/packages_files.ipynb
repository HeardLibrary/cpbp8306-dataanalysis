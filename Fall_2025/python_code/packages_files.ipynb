{
  "nbformat": 4,
  "nbformat_minor": 0,
  "metadata": {
    "colab": {
      "provenance": []
    },
    "kernelspec": {
      "name": "python3",
      "display_name": "Python 3"
    },
    "language_info": {
      "name": "python"
    }
  },
  "cells": [
    {
      "cell_type": "markdown",
      "source": [
        "In this module, we'll cover importing and using packages and reading from and writing to files."
      ],
      "metadata": {
        "id": "fwVE-c9J7il3"
      }
    },
    {
      "cell_type": "markdown",
      "source": [
        "# Working with packages"
      ],
      "metadata": {
        "id": "HAG5RbWm7a-0"
      }
    },
    {
      "cell_type": "markdown",
      "source": [
        "To use a package, you need to **import** it. For example, we can import the `math` package to perform mathematical operations."
      ],
      "metadata": {
        "id": "eLSRjBay7dLi"
      }
    },
    {
      "cell_type": "code",
      "source": [
        "# Importing the math package\n",
        "import math\n",
        "\n",
        "# Using a function from the math package\n",
        "radius = 5\n",
        "area = math.pi * (radius ** 2)\n",
        "print(f\"Area of the circle: {area}\")"
      ],
      "metadata": {
        "id": "DrbVFrEf7y7S"
      },
      "execution_count": null,
      "outputs": []
    },
    {
      "cell_type": "markdown",
      "source": [
        "Sometimes you only need a specific function from a package, rather than importing the entire package. You can import just the function you need using the `from` keyword. This is useful when you want to keep your code cleaner and avoid importing unnecessary functions."
      ],
      "metadata": {
        "id": "d_nSfw_C717p"
      }
    },
    {
      "cell_type": "code",
      "source": [
        "# Importing specific functions from the math package\n",
        "from math import sqrt, pi\n",
        "\n",
        "# Using the imported functions\n",
        "radius = 10\n",
        "area = pi * (radius ** 2)\n",
        "diagonal = sqrt(25)\n",
        "\n",
        "print(f\"Area of the circle: {area}\")\n",
        "print(f\"Square root of 25: {diagonal}\")"
      ],
      "metadata": {
        "id": "2bAl1YU08N6w"
      },
      "execution_count": null,
      "outputs": []
    },
    {
      "cell_type": "markdown",
      "source": [
        "Sometimes package names can be long or cumbersome to type repeatedly. You can assign an **alias** to a package or function when you import it. This makes your code cleaner and quicker to write, especially when working with commonly used packages."
      ],
      "metadata": {
        "id": "yZ23KcKc8PXJ"
      }
    },
    {
      "cell_type": "code",
      "source": [
        "# Importing matplotlib.pyplot with an alias\n",
        "import matplotlib.pyplot as plt\n",
        "\n",
        "# Using the aliased package to create a simple plot\n",
        "x = [1, 2, 3, 4, 5]\n",
        "y = [1, 4, 9, 16, 25]\n",
        "\n",
        "plt.plot(x, y)\n",
        "plt.title('Sample Plot')\n",
        "plt.xlabel('X-axis')\n",
        "plt.ylabel('Y-axis')\n",
        "plt.show()"
      ],
      "metadata": {
        "id": "zglhVj5d8S02"
      },
      "execution_count": null,
      "outputs": []
    },
    {
      "cell_type": "markdown",
      "source": [
        "# Working with files"
      ],
      "metadata": {
        "id": "R1e8A-AY8Xqx"
      }
    },
    {
      "cell_type": "markdown",
      "source": [
        "Python makes it easy to read from files. Let's say we have a text file named `dna_sequence.txt` that contains a DNA sequence. We can read the file line by line using Python's built-in `open()` function."
      ],
      "metadata": {
        "id": "oFO_itEI8byQ"
      }
    },
    {
      "cell_type": "code",
      "source": [
        "# Create a simple DNA sequence file for testing\n",
        "with open('dna_sequence.txt', 'w') as file:\n",
        "    file.write('ATGCGTACGTAGCTAGCTAGGCTAATCG')\n",
        "\n",
        "# Reading from a text file\n",
        "with open('dna_sequence.txt', 'r') as file:\n",
        "    dna_sequence = file.read()\n",
        "\n",
        "print(\"DNA Sequence:\", dna_sequence)"
      ],
      "metadata": {
        "id": "mOj8UuZk8mT-"
      },
      "execution_count": null,
      "outputs": []
    },
    {
      "cell_type": "markdown",
      "source": [
        "The `open()` function is used to open the file, and the `'r'` mode stands for read. Using `with` ensures that the file is properly closed after it is read."
      ],
      "metadata": {
        "id": "IzICVAzN86lh"
      }
    },
    {
      "cell_type": "markdown",
      "source": [
        "Let's write some data (e.g., gene names) to a text file using Python."
      ],
      "metadata": {
        "id": "7EAz8evP9B3h"
      }
    },
    {
      "cell_type": "code",
      "source": [
        "# Writing to a text file\n",
        "with open('gene_list.txt', 'w') as file:\n",
        "    gene_names = [\"BRCA1\", \"TP53\", \"EGFR\", \"MYC\"]\n",
        "    for gene in gene_names:\n",
        "        file.write(gene + '\\n')\n",
        "\n",
        "print(\"Gene names have been written to gene_list.txt.\")"
      ],
      "metadata": {
        "id": "1USyY6CI9EYj"
      },
      "execution_count": null,
      "outputs": []
    },
    {
      "cell_type": "markdown",
      "source": [
        "The `'w'` mode stands for **write**. If the file doesn't exist, Python will create it. We loop through the list of gene names and write each one to a new line in the file."
      ],
      "metadata": {
        "id": "dFYQ3u-W9Gos"
      }
    },
    {
      "cell_type": "markdown",
      "source": [
        "CSV (Comma-Separated Values) files are a common format for storing tabular data. Let's read [a CSV file](https://drive.google.com/file/d/1Xtz_MwoKb1YbjnahlnQNw17go2xU6IVa/view?usp=sharing) where each row contains a gene and its corresponding expression level into a dictionary."
      ],
      "metadata": {
        "id": "ALHnRoYQ9PTH"
      }
    },
    {
      "cell_type": "code",
      "source": [
        "import csv\n",
        "\n",
        "# Reading a CSV file into a dictionary\n",
        "with open('gene_expression.csv', 'r') as file:\n",
        "    reader = csv.DictReader(file)\n",
        "    gene_expression = {}\n",
        "    for row in reader:\n",
        "        gene_expression[row['Gene']] = int(row['Expression'])\n",
        "\n",
        "print(\"Gene expression data:\", gene_expression)"
      ],
      "metadata": {
        "id": "edWGzzYX9e5S"
      },
      "execution_count": null,
      "outputs": []
    },
    {
      "cell_type": "markdown",
      "source": [
        "The `csv.DictReader()` function reads each row of the CSV as a dictionary, where the keys are the column headers (e.g., \"Gene\", \"Expression\"). We build a dictionary where each gene is mapped to its expression level."
      ],
      "metadata": {
        "id": "YgWcDoN29gyK"
      }
    },
    {
      "cell_type": "markdown",
      "source": [
        "# Exercises"
      ],
      "metadata": {
        "id": "xrSxhm2s9ltz"
      }
    },
    {
      "cell_type": "markdown",
      "source": [
        "## Exercise 1: Using a package to perform a mathematical operation"
      ],
      "metadata": {
        "id": "gZKe49wi9zVO"
      }
    },
    {
      "cell_type": "markdown",
      "source": [
        "Import the `math` package and write a function to calculate the volume of a sphere given its radius."
      ],
      "metadata": {
        "id": "OWcg5BU-94Kp"
      }
    },
    {
      "cell_type": "code",
      "source": [
        "# Your answer here"
      ],
      "metadata": {
        "id": "sGumrOcm-biC"
      },
      "execution_count": null,
      "outputs": []
    },
    {
      "cell_type": "markdown",
      "source": [
        "### Solution"
      ],
      "metadata": {
        "id": "0ErGUWsY-df7"
      }
    },
    {
      "cell_type": "code",
      "source": [
        "# Solution\n",
        "import math\n",
        "\n",
        "def sphere_volume(radius):\n",
        "    volume = (4 / 3) * math.pi * (radius ** 3)\n",
        "    return volume\n",
        "\n",
        "radius = 7\n",
        "print(\"Volume of the sphere:\", sphere_volume(radius))\n"
      ],
      "metadata": {
        "id": "pedOqpnE-ft7"
      },
      "execution_count": null,
      "outputs": []
    },
    {
      "cell_type": "markdown",
      "source": [
        "## Exercise 2: Saving protein sequences to a file"
      ],
      "metadata": {
        "id": "aNvGF2dQ-2f2"
      }
    },
    {
      "cell_type": "markdown",
      "source": [
        "Write a Python program that takes a list of protein sequences and saves them to a file called `proteins.txt`. Each sequence should be saved on a new line, and before each sequence, the program should write the line number followed by a colon. For example:\n",
        "\n",
        "1: METHIONINEPHENYLALANINELEUCINE\n",
        "\n",
        "2: LEUCINEGLYCINESERINE"
      ],
      "metadata": {
        "id": "OkBtjem_-5St"
      }
    },
    {
      "cell_type": "code",
      "source": [
        "# Your answer here"
      ],
      "metadata": {
        "id": "VPugCg2w_GG4"
      },
      "execution_count": null,
      "outputs": []
    },
    {
      "cell_type": "markdown",
      "source": [
        "### Hint"
      ],
      "metadata": {
        "id": "KyLkCXAP_ICi"
      }
    },
    {
      "cell_type": "markdown",
      "source": [
        "Use a `for` loop with `enumerate()` to number each sequence."
      ],
      "metadata": {
        "id": "K3a0YmMm_KU-"
      }
    },
    {
      "cell_type": "markdown",
      "source": [
        "### Solution"
      ],
      "metadata": {
        "id": "ygJ9byK-_E9a"
      }
    },
    {
      "cell_type": "code",
      "source": [
        "# Solution\n",
        "protein_sequences = [\"METHIONINEPHENYLALANINELEUCINE\", \"LEUCINEGLYCINESERINE\", \"SERINEGLYCINE\"]\n",
        "i = 1\n",
        "\n",
        "with open('proteins.txt', 'w') as file:\n",
        "    for sequence in protein_sequences:  # '1' to start numbering from 1\n",
        "        file.write(f\"{i}: {sequence}\\n\")\n",
        "        i += 1\n",
        "\n",
        "print(\"Protein sequences have been written to proteins.txt.\")"
      ],
      "metadata": {
        "id": "b48_2j4k_OTd"
      },
      "execution_count": null,
      "outputs": []
    },
    {
      "cell_type": "markdown",
      "source": [
        "## Exercise 3: Reading and summing values from a CSV file"
      ],
      "metadata": {
        "id": "3upJCRqE9-Sv"
      }
    },
    {
      "cell_type": "markdown",
      "source": [
        "Write a Python program that reads a CSV file called `gene_expression.csv`, which contains gene names and their expression levels. The program should calculate the sum of all expression levels."
      ],
      "metadata": {
        "id": "HwQfHIsD-Kax"
      }
    },
    {
      "cell_type": "code",
      "source": [
        "# Your answer here"
      ],
      "metadata": {
        "id": "fjKpT4NG-V7P"
      },
      "execution_count": null,
      "outputs": []
    },
    {
      "cell_type": "markdown",
      "source": [
        "### Solution"
      ],
      "metadata": {
        "id": "s-t-tSu5-XMn"
      }
    },
    {
      "cell_type": "code",
      "source": [
        "# Solution\n",
        "import csv\n",
        "\n",
        "# Reading the CSV file and calculating the sum of expression levels\n",
        "with open('gene_expression.csv', 'r') as file:\n",
        "    reader = csv.DictReader(file)\n",
        "    total_expression = 0\n",
        "    for row in reader:\n",
        "        total_expression += int(row['Expression'])\n",
        "\n",
        "print(\"Total gene expression:\", total_expression)"
      ],
      "metadata": {
        "id": "n553NX1t-YlM"
      },
      "execution_count": null,
      "outputs": []
    }
  ]
}