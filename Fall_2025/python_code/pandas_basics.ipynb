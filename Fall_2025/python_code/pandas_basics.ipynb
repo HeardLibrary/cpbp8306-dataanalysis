{
  "nbformat": 4,
  "nbformat_minor": 0,
  "metadata": {
    "colab": {
      "provenance": []
    },
    "kernelspec": {
      "name": "python3",
      "display_name": "Python 3"
    },
    "language_info": {
      "name": "python"
    }
  },
  "cells": [
    {
      "cell_type": "markdown",
      "source": [
        "This notebook will walk through the basics of using [the Python library pandas](https://pandas.pydata.org/) to read, explore, manipulate, and save tabular data. Today, we'll be working with [a dataset of gene expression levels across different cells](https://drive.google.com/file/d/1dcqjPNvCaAGbrbgyJsszw_8HUwDJz6pu/view?usp=sharing)."
      ],
      "metadata": {
        "id": "yZX8Wb_xeS3x"
      }
    },
    {
      "cell_type": "markdown",
      "source": [
        "First, let's import the necessary libraries. We'll be using `pandas` to handle our data."
      ],
      "metadata": {
        "id": "wg8rW12QgQoN"
      }
    },
    {
      "cell_type": "code",
      "source": [
        "import pandas as pd"
      ],
      "metadata": {
        "id": "h8Ma5Ks_gbdO"
      },
      "execution_count": null,
      "outputs": []
    },
    {
      "cell_type": "markdown",
      "source": [
        "# Loading data"
      ],
      "metadata": {
        "id": "v8pmWdKgptUw"
      }
    },
    {
      "cell_type": "markdown",
      "source": [
        "Next, we'll load our dataset. The data consists of measurements of the expression level of 20 different genes within each of the 20 barcoded cells under study.\n",
        "\n",
        "**Note:** Make sure to change the file path referenced below to reflect where the dataset is saved on your computer!"
      ],
      "metadata": {
        "id": "64498S82giEf"
      }
    },
    {
      "cell_type": "code",
      "source": [
        "# Load the dataset\n",
        "df = pd.read_csv('drive/MyDrive/Vanderbilt/Teaching/IGP 8001-06/gene_expression.csv')\n",
        "\n",
        "# Show the first few rows to get a sense of what the data looks like\n",
        "df.head()"
      ],
      "metadata": {
        "id": "IsWUi4rohANN"
      },
      "execution_count": null,
      "outputs": []
    },
    {
      "cell_type": "markdown",
      "source": [
        "# Exploring data"
      ],
      "metadata": {
        "id": "Jl4iCS9pp703"
      }
    },
    {
      "cell_type": "markdown",
      "source": [
        "After inspecting the first few rows of the dataset to make sure that everything looks right, let's also take a look at some basic statistics and check for any missing values."
      ],
      "metadata": {
        "id": "ZEAtkdV5hs7V"
      }
    },
    {
      "cell_type": "code",
      "source": [
        "# Get an overview of the dataset structure\n",
        "df.info()"
      ],
      "metadata": {
        "id": "l05DpJd4h4eQ"
      },
      "execution_count": null,
      "outputs": []
    },
    {
      "cell_type": "code",
      "source": [
        "# Get basic statistics about the dataset\n",
        "df.describe()"
      ],
      "metadata": {
        "id": "C-he0Pw3iHIG"
      },
      "execution_count": null,
      "outputs": []
    },
    {
      "cell_type": "code",
      "source": [
        "# Check for any missing values\n",
        "df.isnull().sum()"
      ],
      "metadata": {
        "id": "aFSYsZZRiK81"
      },
      "execution_count": null,
      "outputs": []
    },
    {
      "cell_type": "markdown",
      "source": [
        "Now, let's sort the data by the expression level of a particular gene. For example, we'll sort the cells by the expression of `GENE1` in descending order to see which cells have the highest expression for this gene."
      ],
      "metadata": {
        "id": "2earg_-Li93f"
      }
    },
    {
      "cell_type": "code",
      "source": [
        "# Sort the data by GENE1 expression\n",
        "df_sorted = df.sort_values(by='GENE1', ascending=False)\n",
        "\n",
        "# Display the top results\n",
        "df_sorted.head()"
      ],
      "metadata": {
        "id": "X6JfraTci9NP"
      },
      "execution_count": null,
      "outputs": []
    },
    {
      "cell_type": "markdown",
      "source": [
        "# Accessing specific cells and ranges"
      ],
      "metadata": {
        "id": "uaFaFq7xqFLm"
      }
    },
    {
      "cell_type": "markdown",
      "source": [
        "Now that we've worked with basic data manipulation, let's explore two important pandas methods for accessing data in a DataFrame: `loc` and `iloc`.\n",
        "\n",
        "We'll start with `loc`, which is used to access rows and columns by their **labels** (such as row names or column names). `loc` is very flexible, allowing us to retrieve data using specific labels or ranges of labels."
      ],
      "metadata": {
        "id": "-tXWOQ3JmZdq"
      }
    },
    {
      "cell_type": "code",
      "source": [
        "# Let's revisit our DataFrame and look at it again.\n",
        "df.head()"
      ],
      "metadata": {
        "id": "v4fttuwCmo8G"
      },
      "execution_count": null,
      "outputs": []
    },
    {
      "cell_type": "markdown",
      "source": [
        "Let's use `loc` to select specific rows and columns by their labels. For example, we can retrieve the row for the second cell with the value of 'GENE2'."
      ],
      "metadata": {
        "id": "rhQIGPLxmsWK"
      }
    },
    {
      "cell_type": "code",
      "source": [
        "# Selecting a specific row (the second) and column ('GENE2') using loc\n",
        "df.loc['BC2', 'GENE2']"
      ],
      "metadata": {
        "id": "bD-cpNWnmxWS"
      },
      "execution_count": null,
      "outputs": []
    },
    {
      "cell_type": "markdown",
      "source": [
        "Why didn't that work the way we expected it to? Right now, data from the first column isn't actually being used to label the rows. Here's how we could get the expected result from our current DataFrame."
      ],
      "metadata": {
        "id": "VyXIJBBsndbm"
      }
    },
    {
      "cell_type": "code",
      "source": [
        "# Selecting a specific row (the second) and column ('GENE2') using loc\n",
        "df.loc[1, 'GENE2']"
      ],
      "metadata": {
        "id": "swNaFl4onquP"
      },
      "execution_count": null,
      "outputs": []
    },
    {
      "cell_type": "markdown",
      "source": [
        "We can also load our dataset in a way that treats the barcodes as row labels (index), making it easier to access data for specific cells by their barcode."
      ],
      "metadata": {
        "id": "Y9mLd9w6nwGF"
      }
    },
    {
      "cell_type": "code",
      "source": [
        "# Load the dataset using barcodes as row labels (index)\n",
        "df = pd.read_csv('drive/MyDrive/Vanderbilt/Teaching/IGP 8001-06/gene_expression.csv', index_col=0)\n",
        "\n",
        "# Show the first few rows with barcodes as the index\n",
        "df.head()"
      ],
      "metadata": {
        "id": "E_byJEfHnw6V"
      },
      "execution_count": null,
      "outputs": []
    },
    {
      "cell_type": "markdown",
      "source": [
        "Now, let's try using `loc` again."
      ],
      "metadata": {
        "id": "ln1W3AUfn6yF"
      }
    },
    {
      "cell_type": "code",
      "source": [
        "# Selecting a specific row (the second) and column ('GENE2') using loc\n",
        "df.loc['BC2', 'GENE2']"
      ],
      "metadata": {
        "id": "TnPXGnxHoAjt"
      },
      "execution_count": null,
      "outputs": []
    },
    {
      "cell_type": "markdown",
      "source": [
        "You can also use `loc` to select multiple rows and columns by specifying a range of labels. For instance, we can retrieve the data for cells 'BC11' through 'BC15' and for genes 'GENE6' through 'GENE12'."
      ],
      "metadata": {
        "id": "LN-Re_0ToILF"
      }
    },
    {
      "cell_type": "code",
      "source": [
        "# Selecting a range of rows and columns using loc\n",
        "df.loc['BC11':'BC15', 'GENE6':'GENE12']"
      ],
      "metadata": {
        "id": "FvsQQVxuoVL_"
      },
      "execution_count": null,
      "outputs": []
    },
    {
      "cell_type": "markdown",
      "source": [
        "Next, let's discuss `iloc`, which is used for position-based indexing. Unlike `loc`, which relies on labels, `iloc` uses **integer positions** for rows and columns.\n",
        "\n",
        "This can be useful when you don't know the specific labels, or if you're working with positional data in the DataFrame. The first row is indexed as `0`, the second row as `1`, and so on. Similarly, the first column is indexed as `0`, the second as `1`, etc."
      ],
      "metadata": {
        "id": "B3yubDXGomGP"
      }
    },
    {
      "cell_type": "code",
      "source": [
        "# Selecting the second row (index 1) and second column (index 1) using iloc\n",
        "df.iloc[1, 1]"
      ],
      "metadata": {
        "id": "WrkZVJ0WozQn"
      },
      "execution_count": null,
      "outputs": []
    },
    {
      "cell_type": "markdown",
      "source": [
        "Just like with `loc`, you can use ranges with `iloc`. The difference is that ranges in `iloc` are **exclusive** of the end index, meaning the last row or column in the range will not be included. For example, let's select the first two rows and first two columns using `iloc`."
      ],
      "metadata": {
        "id": "4a22RiGoo3Hh"
      }
    },
    {
      "cell_type": "code",
      "source": [
        "# Selecting a range of rows and columns using iloc (first two rows and columns)\n",
        "df.iloc[0:2, 0:2]"
      ],
      "metadata": {
        "id": "LHl5aWfOo_82"
      },
      "execution_count": null,
      "outputs": []
    },
    {
      "cell_type": "markdown",
      "source": [
        "Let's now compare how `loc` and `iloc` work side by side.\n",
        "\n",
        "Here, we'll use `loc` to select data based on labels, and `iloc` to select data based on positions. Even though the methods differ in how they access data, they can return the same results."
      ],
      "metadata": {
        "id": "LE96fp4tpHEd"
      }
    },
    {
      "cell_type": "code",
      "source": [
        "# Using loc to select rows 'Cell1' and 'Cell2' and columns 'GENE1' and 'GENE2'\n",
        "df_loc = df.loc['BC1':'BC2', 'GENE1':'GENE2']\n",
        "\n",
        "# Using iloc to select the same data using positions (0 and 1 for rows, 0 and 1 for columns)\n",
        "df_iloc = df.iloc[0:2, 0:2]\n",
        "\n",
        "# Display both results\n",
        "df_loc, df_iloc"
      ],
      "metadata": {
        "id": "QsZZmX0upO8N"
      },
      "execution_count": null,
      "outputs": []
    },
    {
      "cell_type": "markdown",
      "source": [
        "As you can see, both methods return the same result, but the way we specify the rows and columns differs. Depending on your needs, you might prefer one method over the other.\n",
        "\n",
        "Use `loc` when you want to access data by **labels** (row names or column names). For example, you know the name of a specific gene or cell and want to retrieve its data.\n",
        "\n",
        "Use `iloc` when you want to access data by **integer positions**. This is useful when the exact labels are unknown, or you are working with positional data (like retrieving the first or last few rows)."
      ],
      "metadata": {
        "id": "lOh1FieMpVFn"
      }
    },
    {
      "cell_type": "markdown",
      "source": [
        "# Filtering data"
      ],
      "metadata": {
        "id": "CPUstA83qNTO"
      }
    },
    {
      "cell_type": "markdown",
      "source": [
        "Let's check which cells express a specific gene, say `GENE8`, above a given threshold. We'll filter the data to show only those cells where the expression of `GENE8` is greater than 50."
      ],
      "metadata": {
        "id": "5w2DTIYpjNTW"
      }
    },
    {
      "cell_type": "code",
      "source": [
        "# Define the threshold\n",
        "gene_threshold = 50\n",
        "\n",
        "# Find cells where GENE1 expression is above the threshold\n",
        "cells_above_threshold = df[df['GENE1'] > gene_threshold]\n",
        "\n",
        "# Show the result\n",
        "cells_above_threshold"
      ],
      "metadata": {
        "id": "UH06bGVUjUM_"
      },
      "execution_count": null,
      "outputs": []
    },
    {
      "cell_type": "markdown",
      "source": [
        "Next, we want to find cells that have at least 5 genes expressed above a certain threshold. This is a useful way to identify highly active cells in our dataset."
      ],
      "metadata": {
        "id": "geh3ol9Ijg-b"
      }
    },
    {
      "cell_type": "code",
      "source": [
        "# Define the threshold\n",
        "threshold = 60\n",
        "\n",
        "# Find cells with at least 5 genes above the threshold\n",
        "genes_above_threshold = (df > threshold).sum(axis=1)\n",
        "cells_with_at_least_5 = df[genes_above_threshold >= 5]\n",
        "\n",
        "# Show the result\n",
        "cells_with_at_least_5\n"
      ],
      "metadata": {
        "id": "iWIfpixGjknA"
      },
      "execution_count": null,
      "outputs": []
    },
    {
      "cell_type": "markdown",
      "source": [
        "Let's break down how this works in a little more detail. First, we define a threshold that will be used to identify cells where gene expression levels are above this value."
      ],
      "metadata": {
        "id": "q1nvMZjgrMHU"
      }
    },
    {
      "cell_type": "code",
      "source": [
        "threshold = 70"
      ],
      "metadata": {
        "id": "XtasgLQGrcZY"
      },
      "execution_count": null,
      "outputs": []
    },
    {
      "cell_type": "markdown",
      "source": [
        "Next, we create a **boolean DataFrame** where each value is `True` if it is greater than the threshold and `False` otherwise. The resulting DataFrame will have the same shape as `df`, but instead of gene expression values, it will have values of either `True` or `False` depending on whether the corresponding value in the original DataFrame is above the threshold."
      ],
      "metadata": {
        "id": "rZtj4MQBrkC3"
      }
    },
    {
      "cell_type": "code",
      "source": [
        "genes_above_threshold = (df > threshold)\n",
        "\n",
        "genes_above_threshold"
      ],
      "metadata": {
        "id": "98kX67nDr5KI"
      },
      "execution_count": null,
      "outputs": []
    },
    {
      "cell_type": "markdown",
      "source": [
        "The `.sum(axis=1)` function is summing across the rows (i.e., across the columns/genes for each cell). Since the boolean `True` is treated as `1` and `False` as `0`, this sum effectively counts how many genes in each cell have expression levels above the threshold.\n",
        "\n",
        "The result of this line is a **Series** where the index corresponds to the cells, and the values are the number of genes that have expression levels above the threshold."
      ],
      "metadata": {
        "id": "bHNDcC6esSfm"
      }
    },
    {
      "cell_type": "code",
      "source": [
        "genes_above_threshold = (df > threshold).sum(axis=1)\n",
        "\n",
        "genes_above_threshold"
      ],
      "metadata": {
        "id": "Bv7bMYsksdLB"
      },
      "execution_count": null,
      "outputs": []
    },
    {
      "cell_type": "markdown",
      "source": [
        "A **Series** in pandas is a one-dimensional array-like object that holds data along with labels, known as the index. You can think of a Series as a single column of data, where each element is associated with a corresponding index value (similar to row labels in a DataFrame). A Series can store various data types such as integers, floats, strings, or even other objects."
      ],
      "metadata": {
        "id": "IPAXBBFJtk1B"
      }
    },
    {
      "cell_type": "code",
      "source": [
        "# Example Series\n",
        "s = pd.Series([10, 20, 30], index=['A', 'B', 'C'])\n",
        "s"
      ],
      "metadata": {
        "id": "0SGsu_0cttFg"
      },
      "execution_count": null,
      "outputs": []
    },
    {
      "cell_type": "markdown",
      "source": [
        "A **DataFrame**, on the other hand, is a two-dimensional table (like a spreadsheet) that consists of **multiple Series**. Each column in a DataFrame is a Series, but a DataFrame allows you to organize and manipulate multiple Series together. A DataFrame has both row and column labels, and it can store data in more than one dimension."
      ],
      "metadata": {
        "id": "TRuMey9_tyOY"
      }
    },
    {
      "cell_type": "code",
      "source": [
        "# Example DataFrame\n",
        "data = {'Column1': [10, 20, 30], 'Column2': [40, 50, 60]}\n",
        "manual_df = pd.DataFrame(data)\n",
        "manual_df"
      ],
      "metadata": {
        "id": "mkjUkwXJt6J3"
      },
      "execution_count": null,
      "outputs": []
    },
    {
      "cell_type": "markdown",
      "source": [
        "Note that these examples also illustrate how to create Series and DataFrames from dictionaries and/or lists, which can be useful!\n",
        "\n",
        "Returning to our gene expression question, there's one final step to build the filtered DataFrame that you saw above. `genes_above_threshold >= 5` creates a boolean condition that checks whether each cell (from the `genes_above_threshold` Series) has at least 5 genes with expression above the threshold. This returns a boolean Series where each cell that meets the condition is `True`."
      ],
      "metadata": {
        "id": "CljvnBHMuJKn"
      }
    },
    {
      "cell_type": "code",
      "source": [
        "genes_above_threshold >= 5"
      ],
      "metadata": {
        "id": "zHTeYVbVup7r"
      },
      "execution_count": null,
      "outputs": []
    },
    {
      "cell_type": "markdown",
      "source": [
        "Using this expression as a row reference filters the original DataFrame `df` to include only the rows (cells) where the condition is `True`, i.e., where the number of genes expressed above the threshold is 5 or more."
      ],
      "metadata": {
        "id": "42WhVEVXu8ic"
      }
    },
    {
      "cell_type": "code",
      "source": [
        "cells_with_at_least_5 = df[genes_above_threshold >= 5]\n",
        "\n",
        "cells_with_at_least_5"
      ],
      "metadata": {
        "id": "Amlla1cVvIF7"
      },
      "execution_count": null,
      "outputs": []
    },
    {
      "cell_type": "markdown",
      "source": [
        "We used a similar, albeit less complex, approach in the first example above."
      ],
      "metadata": {
        "id": "ZyCS7uCBvkWc"
      }
    },
    {
      "cell_type": "code",
      "source": [
        "# Define the threshold\n",
        "gene_threshold = 50\n",
        "\n",
        "# Find cells where GENE1 expression is above the threshold\n",
        "cells_above_threshold = df[df['GENE8'] > gene_threshold]\n",
        "\n",
        "# Show the result\n",
        "cells_above_threshold"
      ],
      "metadata": {
        "id": "EFIoijdFvncs"
      },
      "execution_count": null,
      "outputs": []
    },
    {
      "cell_type": "markdown",
      "source": [
        "Why do we need to include `df` *inside* our filtering expression here? What would happen if we left it out?"
      ],
      "metadata": {
        "id": "-6zSsPN_vyWM"
      }
    },
    {
      "cell_type": "markdown",
      "source": [
        "# Answering a more complex question"
      ],
      "metadata": {
        "id": "DxcfCyTPqUBG"
      }
    },
    {
      "cell_type": "markdown",
      "source": [
        "When multiple genes are highly expressed, are they always the same ones? Let's investigate by first checking which genes are commonly expressed above a given threshold across all cells."
      ],
      "metadata": {
        "id": "R39AMzvhkEnp"
      }
    },
    {
      "cell_type": "code",
      "source": [
        "# Define the threshold\n",
        "threshold = 60\n",
        "\n",
        "# Count how many times each gene is expressed above the threshold\n",
        "highly_expressed_genes = (df > threshold).sum()\n",
        "\n",
        "# Show the result\n",
        "highly_expressed_genes\n"
      ],
      "metadata": {
        "id": "VkxeuWbLkFbx"
      },
      "execution_count": null,
      "outputs": []
    },
    {
      "cell_type": "markdown",
      "source": [
        "Next, we can use the same code as we did in the more complex filtering example above to see which cells have an unusually high number of highly expressed genes."
      ],
      "metadata": {
        "id": "ixAMzYEdy8u4"
      }
    },
    {
      "cell_type": "code",
      "source": [
        "# Define the threshold\n",
        "threshold = 60\n",
        "\n",
        "# Find cells with at least 5 genes above the threshold\n",
        "genes_above_threshold = (df > threshold).sum(axis=1)\n",
        "cells_with_at_least_5 = df[genes_above_threshold >= 5]\n",
        "\n",
        "# Show the result\n",
        "cells_with_at_least_5"
      ],
      "metadata": {
        "id": "Z7TuuuVKzHSK"
      },
      "execution_count": null,
      "outputs": []
    },
    {
      "cell_type": "markdown",
      "source": [
        "We might be able to draw some conclusions as to the answer to our question by visually inspecting this DataFrame. But what if we wanted to perform additional analyses or data visualization? Is there a way that we could transform this DataFrame into a different Python data structure?\n",
        "\n",
        "First, let's create a DataFrame where each cell contains `True` if the gene expression level is greater than the threshold, and `False` otherwise."
      ],
      "metadata": {
        "id": "ktWQuJP3z6oN"
      }
    },
    {
      "cell_type": "code",
      "source": [
        "# Define the threshold\n",
        "threshold = 50\n",
        "\n",
        "# Create a boolean DataFrame where True means the gene is expressed above the threshold\n",
        "genes_above_threshold_df = df > threshold\n",
        "\n",
        "# Display the boolean DataFrame\n",
        "genes_above_threshold_df.head()"
      ],
      "metadata": {
        "id": "LGQ4aqL50fHe"
      },
      "execution_count": null,
      "outputs": []
    },
    {
      "cell_type": "markdown",
      "source": [
        "Next, let's visualize which **genes** are expressed above the threshold for each cell in a slightly different way."
      ],
      "metadata": {
        "id": "JQd2QOv-0l3b"
      }
    },
    {
      "cell_type": "code",
      "source": [
        "# For each cell, get the names of the genes that are expressed above the threshold\n",
        "for index, row in genes_above_threshold_df.iterrows():\n",
        "    highly_expressed_genes = row[row == True].index.tolist()  # List of gene names where expression is above threshold\n",
        "    print(f\"{index}: {highly_expressed_genes}\")"
      ],
      "metadata": {
        "id": "2tWM6RsA0wHG"
      },
      "execution_count": null,
      "outputs": []
    },
    {
      "cell_type": "markdown",
      "source": [
        "This code loops over each cell (row) in the boolean DataFrame and collects the names of genes where the expression is above the threshold. It then prints each cell's identifier along with its corresponding list of highly expressed genes."
      ],
      "metadata": {
        "id": "jy3B58Xj03pW"
      }
    },
    {
      "cell_type": "markdown",
      "source": [
        "Finally, we could store the results (which genes are expressed above the threshold for each cell) in a dictionary for further analysis or visualization."
      ],
      "metadata": {
        "id": "rkkkTJ3M07Le"
      }
    },
    {
      "cell_type": "code",
      "source": [
        "# Create a dictionary to store the results\n",
        "cell_gene_dict = {}\n",
        "\n",
        "# Populate the dictionary with cell names as keys and lists of highly expressed genes as values\n",
        "for index, row in genes_above_threshold_df.iterrows():\n",
        "    cell_gene_dict[index] = row[row == True].index.tolist()\n",
        "\n",
        "# Display the dictionary\n",
        "cell_gene_dict"
      ],
      "metadata": {
        "id": "7Xptrod31Bb2"
      },
      "execution_count": null,
      "outputs": []
    },
    {
      "cell_type": "markdown",
      "source": [
        "Instead of printing the results, this code builds a dictionary where each key is a cell name and its value is the list of gene names expressed above the threshold. Finally, it displays the dictionary with all the cells and their associated highly expressed genes."
      ],
      "metadata": {
        "id": "TZaXfY2m1FNO"
      }
    },
    {
      "cell_type": "markdown",
      "source": [
        "# Saving data"
      ],
      "metadata": {
        "id": "2RDmrtaLwRXe"
      }
    },
    {
      "cell_type": "markdown",
      "source": [
        "Note that in this case we set the index parameter to `True` since the indices of our rows contain meaningful information (in this case, cell barcodes)."
      ],
      "metadata": {
        "id": "D8_zRSkxxG_1"
      }
    },
    {
      "cell_type": "code",
      "source": [
        "# Save the DataFrame to a new CSV file\n",
        "df.to_csv('filtered_data.csv', index=True)"
      ],
      "metadata": {
        "id": "XT4Ys3u1wdim"
      },
      "execution_count": null,
      "outputs": []
    },
    {
      "cell_type": "markdown",
      "source": [
        "# Conclusion"
      ],
      "metadata": {
        "id": "4krYWPsCxfD9"
      }
    },
    {
      "cell_type": "markdown",
      "source": [
        "Congratulations on completing this exercise! Throughout this notebook, you've gained hands-on experience with key pandas operations, including loading data, exploring and manipulating DataFrames, and filtering data using conditions. You've also learned how to access data by labels with `loc` and by positions with `iloc`, and seen how to save your processed DataFrame as a CSV file.\n",
        "\n",
        "These skills are foundational for working with data in Python, and they will serve as a solid starting point for more advanced data analysis tasks. Keep practicing and exploring pandas' powerful functionality—there's much more to discover!"
      ],
      "metadata": {
        "id": "xudG7O-DxhDd"
      }
    }
  ]
}